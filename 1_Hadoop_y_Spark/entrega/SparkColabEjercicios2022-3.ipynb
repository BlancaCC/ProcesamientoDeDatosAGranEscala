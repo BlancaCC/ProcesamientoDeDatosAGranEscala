{
 "cells": [
  {
   "cell_type": "markdown",
   "metadata": {
    "id": "view-in-github"
   },
   "source": [
    "<a href=\"https://colab.research.google.com/github/BlancaCC/ProcesamientoDeDatosAGranEscala/blob/spark/SparkColabEjercicios2022.ipynb\" target=\"_parent\"><img src=\"https://colab.research.google.com/assets/colab-badge.svg\" alt=\"Open In Colab\"/></a>"
   ]
  },
  {
   "cell_type": "markdown",
   "metadata": {
    "id": "6aD1ALMdAy6O"
   },
   "source": [
    "# PySpark en Google Colab\n",
    "\n",
    "Instalacion Octubre/2022\n",
    "\n",
    "1.   Instalacion Java\n",
    "2.   Instalacion de Spark\n",
    "3.   Instalar PySpark\n",
    "\n",
    "## De forma General para usar pyspark en Colab (2022) siga los siguientes pasos en una celda en Colab:"
   ]
  },
  {
   "cell_type": "code",
   "execution_count": null,
   "metadata": {
    "id": "8JuWZdteAmvv"
   },
   "outputs": [],
   "source": [
    "# instalar Java\n",
    "!apt-get install openjdk-8-jdk-headless -qq > /dev/null\n"
   ]
  },
  {
   "cell_type": "code",
   "execution_count": null,
   "metadata": {
    "id": "SoApfKfpRunp"
   },
   "outputs": [],
   "source": [
    "# Descargar la ultima versión de java ( comprobar que existen los path de descarga)\n",
    "# Download latest release. Update if necessary\n",
    "\n",
    "!wget -q https://downloads.apache.org/spark/spark-3.3.0/spark-3.3.0-bin-hadoop3.tgz"
   ]
  },
  {
   "cell_type": "code",
   "execution_count": null,
   "metadata": {
    "colab": {
     "base_uri": "https://localhost:8080/"
    },
    "id": "PzHJ0bpuN-od",
    "outputId": "d669abe9-c0d1-4442-fdb3-7d68062e8acb"
   },
   "outputs": [
    {
     "name": "stdout",
     "output_type": "stream",
     "text": [
      "total 876964\n",
      "drwxr-xr-x  1 root root      4096 Oct  9 20:40 \u001b[0m\u001b[01;34m.\u001b[0m/\n",
      "drwxr-xr-x  1 root root      4096 Oct  9 19:04 \u001b[01;34m..\u001b[0m/\n",
      "drwxr-xr-x  4 root root      4096 Oct  5 13:34 \u001b[01;34m.config\u001b[0m/\n",
      "drwx------  5 root root      4096 Oct  9 19:28 \u001b[01;34mgdrive\u001b[0m/\n",
      "drwxr-xr-x  2 root root      4096 Oct  9 20:38 \u001b[01;34msalida\u001b[0m/\n",
      "drwxr-xr-x  2 root root      4096 Oct  9 19:06 \u001b[01;34msalida2\u001b[0m/\n",
      "drwxr-xr-x  2 root root      4096 Oct  9 19:06 \u001b[01;34msalida3\u001b[0m/\n",
      "drwxr-xr-x  1 root root      4096 Oct  5 13:35 \u001b[01;34msample_data\u001b[0m/\n",
      "drwxr-xr-x 13 1000 1000      4096 Jun  9 20:37 \u001b[01;34mspark-3.3.0-bin-hadoop3\u001b[0m/\n",
      "-rw-r--r--  1 root root 299321244 Jun  9 20:39 spark-3.3.0-bin-hadoop3.tgz\n",
      "-rw-r--r--  1 root root 299321244 Jun  9 20:39 spark-3.3.0-bin-hadoop3.tgz.1\n",
      "-rw-r--r--  1 root root 299321244 Jun  9 20:39 spark-3.3.0-bin-hadoop3.tgz.2\n"
     ]
    }
   ],
   "source": [
    "%ls -la /content/\n",
    "\n"
   ]
  },
  {
   "cell_type": "code",
   "execution_count": null,
   "metadata": {
    "id": "uXpriDwJLP1I"
   },
   "outputs": [],
   "source": [
    "!tar xf spark-3.3.0-bin-hadoop3.tgz"
   ]
  },
  {
   "cell_type": "code",
   "execution_count": null,
   "metadata": {
    "colab": {
     "base_uri": "https://localhost:8080/"
    },
    "id": "aRYGR8EsycZ1",
    "outputId": "74abf56e-9bd2-4fc8-ba08-de8ac494ab4c"
   },
   "outputs": [
    {
     "name": "stdout",
     "output_type": "stream",
     "text": [
      "total 876964\n",
      "drwxr-xr-x  1 root root      4096 Oct  9 20:40 \u001b[0m\u001b[01;34m.\u001b[0m/\n",
      "drwxr-xr-x  1 root root      4096 Oct  9 19:04 \u001b[01;34m..\u001b[0m/\n",
      "drwxr-xr-x  4 root root      4096 Oct  5 13:34 \u001b[01;34m.config\u001b[0m/\n",
      "drwx------  5 root root      4096 Oct  9 19:28 \u001b[01;34mgdrive\u001b[0m/\n",
      "drwxr-xr-x  2 root root      4096 Oct  9 20:38 \u001b[01;34msalida\u001b[0m/\n",
      "drwxr-xr-x  2 root root      4096 Oct  9 19:06 \u001b[01;34msalida2\u001b[0m/\n",
      "drwxr-xr-x  2 root root      4096 Oct  9 19:06 \u001b[01;34msalida3\u001b[0m/\n",
      "drwxr-xr-x  1 root root      4096 Oct  5 13:35 \u001b[01;34msample_data\u001b[0m/\n",
      "drwxr-xr-x 13 1000 1000      4096 Jun  9 20:37 \u001b[01;34mspark-3.3.0-bin-hadoop3\u001b[0m/\n",
      "-rw-r--r--  1 root root 299321244 Jun  9 20:39 spark-3.3.0-bin-hadoop3.tgz\n",
      "-rw-r--r--  1 root root 299321244 Jun  9 20:39 spark-3.3.0-bin-hadoop3.tgz.1\n",
      "-rw-r--r--  1 root root 299321244 Jun  9 20:39 spark-3.3.0-bin-hadoop3.tgz.2\n"
     ]
    }
   ],
   "source": [
    "%ls -la"
   ]
  },
  {
   "cell_type": "markdown",
   "metadata": {
    "id": "7Qih8Kt1MJla"
   },
   "source": []
  },
  {
   "cell_type": "code",
   "execution_count": null,
   "metadata": {
    "id": "gKlOUyKuMEr7"
   },
   "outputs": [],
   "source": [
    "# instalar pyspark\n",
    "!pip install -q pyspark"
   ]
  },
  {
   "cell_type": "markdown",
   "metadata": {
    "id": "EzkJ4JKkCgno"
   },
   "source": [
    "# Variables de entorno"
   ]
  },
  {
   "cell_type": "code",
   "execution_count": null,
   "metadata": {
    "id": "WVEIOATyCYc6"
   },
   "outputs": [],
   "source": [
    "import os # libreria de manejo del sistema operativo\n",
    "os.environ[\"JAVA_HOME\"] = \"/usr/lib/jvm/java-8-openjdk-amd64\"\n",
    "os.environ[\"SPARK_HOME\"] = \"/content/spark-3.3.0-bin-hadoop3\""
   ]
  },
  {
   "cell_type": "markdown",
   "metadata": {
    "id": "9UCH8MwWGA-Q"
   },
   "source": [
    "# Iniciar la sesión de Spark con pyspark en el sistema"
   ]
  },
  {
   "cell_type": "code",
   "execution_count": null,
   "metadata": {
    "colab": {
     "base_uri": "https://localhost:8080/",
     "height": 219
    },
    "id": "38_3RcUSCiwb",
    "outputId": "7539ce82-fe78-45cd-9244-7f043b5aeb7a"
   },
   "outputs": [
    {
     "data": {
      "text/html": [
       "\n",
       "            <div>\n",
       "                <p><b>SparkSession - in-memory</b></p>\n",
       "                \n",
       "        <div>\n",
       "            <p><b>SparkContext</b></p>\n",
       "\n",
       "            <p><a href=\"http://d52558c4379b:4040\">Spark UI</a></p>\n",
       "\n",
       "            <dl>\n",
       "              <dt>Version</dt>\n",
       "                <dd><code>v3.3.0</code></dd>\n",
       "              <dt>Master</dt>\n",
       "                <dd><code>local[*]</code></dd>\n",
       "              <dt>AppName</dt>\n",
       "                <dd><code>PDGE-tutorialSpark1</code></dd>\n",
       "            </dl>\n",
       "        </div>\n",
       "        \n",
       "            </div>\n",
       "        "
      ],
      "text/plain": [
       "<pyspark.sql.session.SparkSession at 0x7f20855eb490>"
      ]
     },
     "execution_count": 150,
     "metadata": {},
     "output_type": "execute_result"
    }
   ],
   "source": [
    "from pyspark.sql import SparkSession\n",
    "\n",
    "APP_NAME = \"PDGE-tutorialSpark1\"\n",
    "SPARK_URL = \"local[*]\"\n",
    "spark = SparkSession.builder.appName(APP_NAME).master(SPARK_URL).getOrCreate()\n",
    "spark"
   ]
  },
  {
   "cell_type": "code",
   "execution_count": null,
   "metadata": {
    "colab": {
     "base_uri": "https://localhost:8080/",
     "height": 196
    },
    "id": "zRK16gv0zAnN",
    "outputId": "04160cf3-b96b-4a75-8b08-2bf072a24e2d"
   },
   "outputs": [
    {
     "data": {
      "text/html": [
       "\n",
       "        <div>\n",
       "            <p><b>SparkContext</b></p>\n",
       "\n",
       "            <p><a href=\"http://d52558c4379b:4040\">Spark UI</a></p>\n",
       "\n",
       "            <dl>\n",
       "              <dt>Version</dt>\n",
       "                <dd><code>v3.3.0</code></dd>\n",
       "              <dt>Master</dt>\n",
       "                <dd><code>local[*]</code></dd>\n",
       "              <dt>AppName</dt>\n",
       "                <dd><code>PDGE-tutorialSpark1</code></dd>\n",
       "            </dl>\n",
       "        </div>\n",
       "        "
      ],
      "text/plain": [
       "<SparkContext master=local[*] appName=PDGE-tutorialSpark1>"
      ]
     },
     "execution_count": 151,
     "metadata": {},
     "output_type": "execute_result"
    }
   ],
   "source": [
    "sc = spark.sparkContext\n",
    "#obtener el contexto de ejecución de Spark del Driver.\n",
    "sc"
   ]
  },
  {
   "cell_type": "code",
   "execution_count": null,
   "metadata": {
    "colab": {
     "base_uri": "https://localhost:8080/"
    },
    "id": "DoAGmb4GY829",
    "outputId": "da1afe33-0443-4f32-cdde-9b269963ddc5"
   },
   "outputs": [
    {
     "data": {
      "text/plain": [
       "ParallelCollectionRDD[363] at readRDDFromFile at PythonRDD.scala:274"
      ]
     },
     "execution_count": 152,
     "metadata": {},
     "output_type": "execute_result"
    }
   ],
   "source": [
    "array = sc.parallelize([1,2,3,4,5,6,7,8,9,10], 2)\n",
    "array"
   ]
  },
  {
   "cell_type": "code",
   "execution_count": null,
   "metadata": {
    "colab": {
     "base_uri": "https://localhost:8080/"
    },
    "id": "eOLHf13HZ2h1",
    "outputId": "662fe9ba-1a79-4989-9488-5f5eb64747db"
   },
   "outputs": [
    {
     "name": "stdout",
     "output_type": "stream",
     "text": [
      "[1, 2, 3, 4, 5, 6, 7, 8, 9, 10]\n"
     ]
    }
   ],
   "source": [
    "print(array.collect())"
   ]
  },
  {
   "cell_type": "code",
   "execution_count": null,
   "metadata": {
    "colab": {
     "base_uri": "https://localhost:8080/"
    },
    "id": "iuZ5GDGqVwrS",
    "outputId": "9c3cb572-3b6a-4aac-dfb3-a7cf0ed8ae1e"
   },
   "outputs": [
    {
     "name": "stdout",
     "output_type": "stream",
     "text": [
      "10\n"
     ]
    }
   ],
   "source": [
    "print(array.count())\n"
   ]
  },
  {
   "cell_type": "code",
   "execution_count": null,
   "metadata": {
    "id": "gy-anBhZ4f0-"
   },
   "outputs": [],
   "source": [
    "num3 = array.map(lambda elemento: 3*elemento)"
   ]
  },
  {
   "cell_type": "code",
   "execution_count": null,
   "metadata": {
    "colab": {
     "base_uri": "https://localhost:8080/"
    },
    "id": "MKCuCvPI4sgZ",
    "outputId": "6baec335-7adb-4302-eb51-884d2edad2b5"
   },
   "outputs": [
    {
     "name": "stdout",
     "output_type": "stream",
     "text": [
      "[3, 6, 9, 12, 15, 18, 21, 24, 27, 30]\n"
     ]
    }
   ],
   "source": [
    "print(num3.collect())"
   ]
  },
  {
   "cell_type": "markdown",
   "metadata": {
    "id": "ogJwPyVjZWcd"
   },
   "source": [
    "# Ejemplos de operaciones con RDDs de Spark"
   ]
  },
  {
   "cell_type": "code",
   "execution_count": null,
   "metadata": {
    "colab": {
     "base_uri": "https://localhost:8080/"
    },
    "id": "h_sTML7yZzuH",
    "outputId": "6a563c2b-ec2a-4c58-9bc6-0e40953ee9dc"
   },
   "outputs": [
    {
     "name": "stdout",
     "output_type": "stream",
     "text": [
      "55\n"
     ]
    }
   ],
   "source": [
    "numeros = sc.parallelize([1,2,3,4,5,6,7,8,9,10],2)\n",
    "\n",
    "print(numeros.reduce(lambda e1,e2: e1+e2))"
   ]
  },
  {
   "cell_type": "code",
   "execution_count": null,
   "metadata": {
    "colab": {
     "base_uri": "https://localhost:8080/"
    },
    "id": "7PjaW8UhaPoj",
    "outputId": "6fcb77c2-1d98-4259-8b44-8180354e6a84"
   },
   "outputs": [
    {
     "name": "stdout",
     "output_type": "stream",
     "text": [
      "[2, 4, 6, 8, 10, 12, 14, 16, 18, 20]\n"
     ]
    }
   ],
   "source": [
    "pnumeros = sc.parallelize([1,2,3,4,5,6,7,8,9,10])\n",
    "\n",
    "rdd = pnumeros.map(lambda e: 2*e)\n",
    "\n",
    "print(rdd.collect())\n"
   ]
  },
  {
   "cell_type": "markdown",
   "metadata": {
    "id": "7EObylHIaZKC"
   },
   "source": [
    "## Pregunta TS1.1 ¿Cómo hacer para obtener una lista de los elementos al cuadrado?"
   ]
  },
  {
   "cell_type": "code",
   "execution_count": null,
   "metadata": {
    "colab": {
     "base_uri": "https://localhost:8080/"
    },
    "id": "IpED25-ga6MX",
    "outputId": "b66e568b-8d2f-4dd8-d1cd-2cef30f837da"
   },
   "outputs": [
    {
     "name": "stdout",
     "output_type": "stream",
     "text": [
      "[1, 4, 9, 16, 25, 36, 49, 64, 81, 100]\n"
     ]
    }
   ],
   "source": [
    "#¿Cómo hacer para obtener una lista de los elementos al cuadrado?\n",
    "numeros = sc.parallelize([1,2,3,4,5,6,7,8,9,10])\n",
    "\n",
    "#rdd = numeros...\n",
    "rdd = numeros.map(lambda e: e**2)\n",
    "\n",
    "print(rdd.collect())\n"
   ]
  },
  {
   "cell_type": "markdown",
   "metadata": {
    "id": "2LtU6J3ia8Hw"
   },
   "source": [
    "## Pregunta TS1.2 ¿Cómo filtrar los impares?"
   ]
  },
  {
   "cell_type": "code",
   "execution_count": null,
   "metadata": {
    "colab": {
     "base_uri": "https://localhost:8080/"
    },
    "id": "r5pQG0VDZzkY",
    "outputId": "e98a81bb-d13c-4bf7-9846-fbb6905e597a"
   },
   "outputs": [
    {
     "name": "stdout",
     "output_type": "stream",
     "text": [
      "[2, 4, 6, 8, 10]\n"
     ]
    }
   ],
   "source": [
    "#¿Cómo filtrar los impares?\n",
    "#rddi = numeros.\n",
    "rddi = numeros.filter(lambda n: n%2 == 0) # Mostrará los números impares\n",
    "print(rddi.collect())\n"
   ]
  },
  {
   "cell_type": "markdown",
   "metadata": {
    "id": "qc_udeL9kDXu"
   },
   "source": [
    "# Ejemplos de operaciones con números"
   ]
  },
  {
   "cell_type": "markdown",
   "metadata": {
    "id": "RsbMVChlP5r0"
   },
   "source": [
    "Sumar n numeros"
   ]
  },
  {
   "cell_type": "code",
   "execution_count": null,
   "metadata": {
    "colab": {
     "base_uri": "https://localhost:8080/"
    },
    "id": "ial-4tcjjMUj",
    "outputId": "ae584f27-ff9f-4062-f147-8fa6b8d2fe28"
   },
   "outputs": [
    {
     "data": {
      "text/plain": [
       "499999500000"
      ]
     },
     "execution_count": 161,
     "metadata": {},
     "output_type": "execute_result"
    }
   ],
   "source": [
    "rddnum=sc.range(1000000)\n",
    "rddnum.reduce(lambda a,b: a+b)"
   ]
  },
  {
   "cell_type": "code",
   "execution_count": null,
   "metadata": {
    "colab": {
     "base_uri": "https://localhost:8080/"
    },
    "id": "EYsRY4yMoB3C",
    "outputId": "4ffe3625-405f-472a-80ac-250428316969"
   },
   "outputs": [
    {
     "name": "stdout",
     "output_type": "stream",
     "text": [
      "[2, 1, 5]\n"
     ]
    }
   ],
   "source": [
    "numeros = sc.parallelize([1,1,2,2,5])\n",
    "\n",
    "unicos = numeros.distinct()\n",
    "\n",
    "print (unicos.collect())"
   ]
  },
  {
   "cell_type": "code",
   "execution_count": null,
   "metadata": {
    "colab": {
     "base_uri": "https://localhost:8080/"
    },
    "id": "5uRY-KHycVim",
    "outputId": "cf92dbe9-44e6-4b05-9273-50db78035db9"
   },
   "outputs": [
    {
     "name": "stdout",
     "output_type": "stream",
     "text": [
      "[1, 10, 2, 20, 3, 30, 4, 40, 5, 50]\n"
     ]
    }
   ],
   "source": [
    "numeros = sc.parallelize([1,2,3,4,5])\n",
    "\n",
    "rdd = numeros.flatMap(lambda elemento: [elemento, 10*elemento])\n",
    "\n",
    "print (rdd.collect())"
   ]
  },
  {
   "cell_type": "markdown",
   "metadata": {
    "id": "2Iz55urM7Kl3"
   },
   "source": [
    "Muestreo"
   ]
  },
  {
   "cell_type": "code",
   "execution_count": null,
   "metadata": {
    "colab": {
     "base_uri": "https://localhost:8080/"
    },
    "id": "4m70js9d7N8x",
    "outputId": "a32a39b4-5d14-45d0-b947-fc5c746fe933"
   },
   "outputs": [
    {
     "name": "stdout",
     "output_type": "stream",
     "text": [
      "[2, 3, 5, 5, 8, 9, 10]\n"
     ]
    }
   ],
   "source": [
    "numeros = sc.parallelize([1,2,3,4,5,6,7,8,9,10])\n",
    "\n",
    "rdd = numeros.sample(True, 1.0)\n",
    "# True = sin reemplazar\n",
    "# 1.0 = fracción de elementos = 100%\n",
    "print (rdd.collect())"
   ]
  },
  {
   "cell_type": "markdown",
   "metadata": {
    "id": "6MlNG4--Pns0"
   },
   "source": [
    "Union "
   ]
  },
  {
   "cell_type": "code",
   "execution_count": null,
   "metadata": {
    "colab": {
     "base_uri": "https://localhost:8080/"
    },
    "id": "Nib7-OKadSEn",
    "outputId": "f1f917ac-1548-4d7f-d5ee-364a38c17c1b"
   },
   "outputs": [
    {
     "name": "stdout",
     "output_type": "stream",
     "text": [
      "[2, 4, 6, 8, 10, 1, 3, 5, 7, 9]\n"
     ]
    }
   ],
   "source": [
    "pares = sc.parallelize([2,4,6,8,10])\n",
    "impares = sc.parallelize([1,3,5,7,9])\n",
    "\n",
    "numeros = pares.union(impares)\n",
    "\n",
    "print (numeros.collect())"
   ]
  },
  {
   "cell_type": "markdown",
   "metadata": {
    "id": "YexhndIY7ikM"
   },
   "source": [
    "reducción\n"
   ]
  },
  {
   "cell_type": "code",
   "execution_count": null,
   "metadata": {
    "colab": {
     "base_uri": "https://localhost:8080/"
    },
    "id": "x3R31PVc7k_L",
    "outputId": "ef050b09-6c88-4240-bc20-6afc7a27a6cb"
   },
   "outputs": [
    {
     "name": "stdout",
     "output_type": "stream",
     "text": [
      "15\n"
     ]
    }
   ],
   "source": [
    "numeros = sc.parallelize([1,2,3,4,5])\n",
    "\n",
    "print (numeros.reduce(lambda elem1,elem2: elem2+elem1))"
   ]
  },
  {
   "cell_type": "markdown",
   "metadata": {
    "id": "Z-KQK9fj78uU"
   },
   "source": [
    "## Pregunta TS1.3 ¿Tiene sentido cambiar la suma por una diferencia? ¿Si se repite se obtiene siempre el mismo resultado?"
   ]
  },
  {
   "cell_type": "code",
   "execution_count": null,
   "metadata": {
    "colab": {
     "base_uri": "https://localhost:8080/"
    },
    "id": "Gvr3unXn8NOO",
    "outputId": "916a469c-42da-449b-8cb3-b62b5a519db3"
   },
   "outputs": [
    {
     "name": "stdout",
     "output_type": "stream",
     "text": [
      "15\n"
     ]
    }
   ],
   "source": [
    "#Tiene sentido la reducción(elem1-elem2)?\n",
    "numeros = sc.parallelize([1,2,3,4,5,6,7,8,9,10])\n",
    "\n",
    "print (numeros.reduce(lambda elem1,elem2: elem1-elem2))"
   ]
  },
  {
   "cell_type": "markdown",
   "metadata": {
    "id": "7zn2yurxfjEE"
   },
   "source": [
    "# Respuesta TS1.3 \n",
    "\n",
    "Tal operación **no** tiene sentido ya que la operación obtenida no es la esperada. \n",
    "\n",
    "Para entender qué es lo que está ocurriendo es necesario consultar la documentación oficial de spark [última consulta 30 de septiembre del 2022](https://spark.apache.org/docs/latest/rdd-programming-guide.html)\n",
    "\n",
    "al realizar parallelize por defecto se hacen dos particiones de RRD, por tanto al hacer el reduce se calcularía la operación en las respectivas dos particiones y tras esto se haría la resta de los resultados de ambas. \n",
    "\n",
    "Si quisiéramos que el resultado fuera el esperado deberiamos de especificar de que solo hubiera una partición (ver la celda siguiente)\n"
   ]
  },
  {
   "cell_type": "code",
   "execution_count": null,
   "metadata": {
    "colab": {
     "base_uri": "https://localhost:8080/"
    },
    "id": "jdC3W6Swgn6z",
    "outputId": "58af5ab7-d1ce-4652-8e4e-08627a6e0094"
   },
   "outputs": [
    {
     "name": "stdout",
     "output_type": "stream",
     "text": [
      "-53\n"
     ]
    }
   ],
   "source": [
    "# Celda de ejemplo de cómo habría que programarlo para que el resultado fuera el correcto: \n",
    "\n",
    "#Tiene sentido la reducción(elem1-elem2)?\n",
    "numeros = sc.parallelize([1,2,3,4,5,6,7,8,9,10],1)\n",
    "\n",
    "print (numeros.reduce(lambda elem1,elem2: elem1-elem2))"
   ]
  },
  {
   "cell_type": "markdown",
   "metadata": {
    "id": "MLuYVuqYgyA0"
   },
   "source": [
    "Como es de esperar si variamos el número de particiones la salida se verá afectada. Esto nos hace pensar que para poder paralelizar este tipo de operaciones es necesario que las operaciones sean **asociativas y conmutativas**. "
   ]
  },
  {
   "cell_type": "code",
   "execution_count": null,
   "metadata": {
    "colab": {
     "base_uri": "https://localhost:8080/"
    },
    "id": "A6c147To8T4s",
    "outputId": "d0a0e5e6-9171-41a9-cf74-367c3873dfa6"
   },
   "outputs": [
    {
     "name": "stdout",
     "output_type": "stream",
     "text": [
      "17\n"
     ]
    }
   ],
   "source": [
    "#Tiene sentido la reducción(elem1-elem2) si la repetimos y los elementos están en otro orden?\n",
    "numeros = sc.parallelize([2,1,4,3,5,6,7,8,9,10])\n",
    "\n",
    "print (numeros.reduce(lambda elem1,elem2: elem1-elem2))"
   ]
  },
  {
   "cell_type": "code",
   "execution_count": null,
   "metadata": {
    "colab": {
     "base_uri": "https://localhost:8080/"
    },
    "id": "t4s4dddrSpjc",
    "outputId": "21d141ed-e364-46c7-f71d-cf7511afb793"
   },
   "outputs": [
    {
     "name": "stdout",
     "output_type": "stream",
     "text": [
      "3\n"
     ]
    }
   ],
   "source": [
    "#Tiene sentido la reducción(elem1-elem2)? ¿qué pasa si cambiamos la paralelización a 5? ¿y si es 2?\n",
    "numeros = sc.parallelize([1,2,3,4,5,6,7,8,9,10],5)\n",
    "\n",
    "print (numeros.reduce(lambda elem1,elem2: elem1-elem2))"
   ]
  },
  {
   "cell_type": "markdown",
   "metadata": {
    "id": "c9iVsHyW8lBj"
   },
   "source": [
    "#Acciones"
   ]
  },
  {
   "cell_type": "code",
   "execution_count": null,
   "metadata": {
    "colab": {
     "base_uri": "https://localhost:8080/"
    },
    "id": "vNyMypQj8o__",
    "outputId": "b68db205-c518-458f-9b3c-7b84e28dd105"
   },
   "outputs": [
    {
     "name": "stdout",
     "output_type": "stream",
     "text": [
      "[5, 3, 1]\n"
     ]
    }
   ],
   "source": [
    "numeros = sc.parallelize([5,3,1,2,4])\n",
    "\n",
    "print (numeros.take(3))\n",
    "#¿Qué sucede si ponemos 30 en vez de 3 elementos?"
   ]
  },
  {
   "cell_type": "markdown",
   "metadata": {
    "id": "fWL86-R8JTmx"
   },
   "source": [
    "### Solución \n",
    "\n",
    "Tomará los 30 primeros, en nuestro caso, puesto que solo hay 5 tomará los 5 prieros. "
   ]
  },
  {
   "cell_type": "code",
   "execution_count": null,
   "metadata": {
    "colab": {
     "base_uri": "https://localhost:8080/"
    },
    "id": "RRuJczUX8kSv",
    "outputId": "59c896a6-71fb-49f9-c09c-0d50c247a176"
   },
   "outputs": [
    {
     "name": "stdout",
     "output_type": "stream",
     "text": [
      "[5, 4, 3]\n"
     ]
    }
   ],
   "source": [
    "numeros = sc.parallelize([3,2,1,4,5])\n",
    "# (La segunda función se utiliza como índice de ordenación)\n",
    "print (numeros.takeOrdered(3, lambda elem: -elem))\n",
    "# La función lambda se está utilizando para crear el índice de la lista de ordenación "
   ]
  },
  {
   "cell_type": "markdown",
   "metadata": {
    "id": "ltQB9md2ME1l"
   },
   "source": [
    "## Pregunta TS1.4 ¿Cómo lo ordenarías para que primero aparezcan los impares y luego los pares?"
   ]
  },
  {
   "cell_type": "code",
   "execution_count": null,
   "metadata": {
    "colab": {
     "base_uri": "https://localhost:8080/"
    },
    "id": "BIaKzQy1M98H",
    "outputId": "76b6b088-76f4-4e8a-9070-493a68b8868b"
   },
   "outputs": [
    {
     "name": "stdout",
     "output_type": "stream",
     "text": [
      "[5, 3, 1, 2, 4]\n"
     ]
    }
   ],
   "source": [
    "#¿Cómo lo ordenarías para que primero aparezcan los impares y luego los pares?\n",
    "numeros = sc.parallelize([3,2,1,4,5])\n",
    "#print(numeros...\n",
    "print (numeros.takeOrdered(5, lambda elem: -(elem %2)*elem))\n"
   ]
  },
  {
   "cell_type": "markdown",
   "metadata": {
    "id": "ctm29gO0ZIbZ"
   },
   "source": [
    "# RDDs con string"
   ]
  },
  {
   "cell_type": "code",
   "execution_count": null,
   "metadata": {
    "colab": {
     "base_uri": "https://localhost:8080/"
    },
    "id": "wzdO64iKaC1q",
    "outputId": "a2f8ab06-c2f7-44c5-e6be-5c59cb27945b"
   },
   "outputs": [
    {
     "name": "stdout",
     "output_type": "stream",
     "text": [
      "['hola', 'que', 'tal', 'bien']\n"
     ]
    }
   ],
   "source": [
    "palabras = sc.parallelize(['HOLA', 'Que', 'TAL', 'Bien'])\n",
    "\n",
    "pal_minus = palabras.map(lambda elemento: elemento.lower())\n",
    "\n",
    "print (pal_minus.collect())"
   ]
  },
  {
   "cell_type": "code",
   "execution_count": null,
   "metadata": {
    "colab": {
     "base_uri": "https://localhost:8080/"
    },
    "id": "_7Pn8FjtakNG",
    "outputId": "0de546c7-0db4-4d12-a8ee-e2bfd539591f"
   },
   "outputs": [
    {
     "name": "stdout",
     "output_type": "stream",
     "text": [
      "[4, 3, 3, 4]\n"
     ]
    }
   ],
   "source": [
    "palabras = sc.parallelize(['HOLA', 'Que', 'TAL', 'Bien'])\n",
    "\n",
    "pal_long = palabras.map(lambda elemento: len(elemento))\n",
    "\n",
    "print (pal_long.collect())"
   ]
  },
  {
   "cell_type": "code",
   "execution_count": null,
   "metadata": {
    "colab": {
     "base_uri": "https://localhost:8080/"
    },
    "id": "rmZwI0MGbAOS",
    "outputId": "a0c18523-414d-4b2a-8cdb-64bc61b5a670"
   },
   "outputs": [
    {
     "name": "stdout",
     "output_type": "stream",
     "text": [
      "['E: e21', 'E: e45']\n"
     ]
    }
   ],
   "source": [
    "log = sc.parallelize(['E: e21', 'W: w12', 'W: w13', 'E: e45'])\n",
    "\n",
    "errors = log.filter(lambda elemento: elemento[0]=='E')\n",
    "\n",
    "print (errors.collect())"
   ]
  },
  {
   "cell_type": "code",
   "execution_count": null,
   "metadata": {
    "colab": {
     "base_uri": "https://localhost:8080/"
    },
    "id": "KKDB9UzIcbau",
    "outputId": "b29292e9-965b-42db-ff18-ebcc414e636b"
   },
   "outputs": [
    {
     "name": "stdout",
     "output_type": "stream",
     "text": [
      "['a', 'a', 'b', 'a', 'b', 'c']\n"
     ]
    }
   ],
   "source": [
    "lineas = sc.parallelize(['', 'a', 'a b', 'a b c'])\n",
    "\n",
    "palabras = lineas.flatMap(lambda elemento: elemento.split())\n",
    "\n",
    "print (palabras.collect())"
   ]
  },
  {
   "cell_type": "code",
   "execution_count": null,
   "metadata": {
    "colab": {
     "base_uri": "https://localhost:8080/"
    },
    "id": "ZpM4oMF_cnW4",
    "outputId": "98a993e4-5b7f-42c9-aea9-3fb6482f3250"
   },
   "outputs": [
    {
     "name": "stdout",
     "output_type": "stream",
     "text": [
      "['a', 'a', 'b', 'a', 'b', 'c']\n",
      "[[], ['a'], ['a', 'b'], ['a', 'b', 'c']]\n"
     ]
    }
   ],
   "source": [
    "lineas = sc.parallelize(['', 'a', 'a b', 'a b c'])\n",
    "\n",
    "palabras_flat = lineas.flatMap(lambda elemento: elemento.split())\n",
    "palabras_map = lineas.map(lambda elemento: elemento.split())\n",
    "\n",
    "print (palabras_flat.collect())\n",
    "print (palabras_map.collect())\n"
   ]
  },
  {
   "cell_type": "markdown",
   "metadata": {
    "id": "saVy72uncpMC"
   },
   "source": [
    "## Pregunta TS1.5 ¿Cuántos elementos tiene cada rdd? ¿Cuál tiene más?\n"
   ]
  },
  {
   "cell_type": "code",
   "execution_count": null,
   "metadata": {
    "colab": {
     "base_uri": "https://localhost:8080/"
    },
    "id": "pfLDcQrV3e7j",
    "outputId": "ea308127-0ab0-44e3-9cea-0c4d3255480a"
   },
   "outputs": [
    {
     "name": "stdout",
     "output_type": "stream",
     "text": [
      "['a', 'a', 'b', 'a', 'b', 'c']\n",
      "[[], ['a'], ['a', 'b'], ['a', 'b', 'c']]\n"
     ]
    }
   ],
   "source": [
    "#¿Cuántos elementos tiene cada rdd? ¿Cuál tiene más?\n",
    "print (palabras_flat.collect())\n",
    "print (palabras_map.collect())"
   ]
  },
  {
   "cell_type": "markdown",
   "metadata": {
    "id": "Uazj97cgLY_u"
   },
   "source": [
    "### Respuesta TS1.5\n",
    "El primero posee 6, mientras que el otro 4. Es evidente que el primero posee más. "
   ]
  },
  {
   "cell_type": "markdown",
   "metadata": {
    "id": "cDgvc1iU3MA2"
   },
   "source": [
    "## Pregunta TS1.6 ¿De qué tipo son los elementos del rdd palabras_map? ¿Por qué palabras_map tiene el primer elemento vacío?\n",
    "\n",
    "### Respuesta TS1.6\n",
    "\n",
    "Son listas. \n",
    "\n",
    "Está vacía porque se generado a partir de un string sin ningún carácter ni espacio, que tras ser *separados* por la función  `split` se traduce en la lista vacía. \n"
   ]
  },
  {
   "cell_type": "code",
   "execution_count": null,
   "metadata": {
    "colab": {
     "base_uri": "https://localhost:8080/"
    },
    "id": "zsa9OFbhc0-i",
    "outputId": "b6c2f8ea-43d6-4e00-c4ad-4a89515ce1f4"
   },
   "outputs": [
    {
     "data": {
      "text/plain": [
       "['a']"
      ]
     },
     "execution_count": 180,
     "metadata": {},
     "output_type": "execute_result"
    }
   ],
   "source": [
    "palabras_flat.take(1)"
   ]
  },
  {
   "cell_type": "code",
   "execution_count": null,
   "metadata": {
    "colab": {
     "base_uri": "https://localhost:8080/"
    },
    "id": "Gwn33hfO0XoJ",
    "outputId": "db404ca8-82fa-4230-ab96-644d0cf30d21"
   },
   "outputs": [
    {
     "data": {
      "text/plain": [
       "[[]]"
      ]
     },
     "execution_count": 181,
     "metadata": {},
     "output_type": "execute_result"
    }
   ],
   "source": [
    "palabras_map.take(1)\n"
   ]
  },
  {
   "cell_type": "markdown",
   "metadata": {
    "id": "1Lv-KrP0dNdE"
   },
   "source": [
    "## Pregunta TS1.7. Prueba la transformación distinct si lo aplicamos a cadenas."
   ]
  },
  {
   "cell_type": "code",
   "execution_count": null,
   "metadata": {
    "colab": {
     "base_uri": "https://localhost:8080/"
    },
    "id": "6oyxAO8KdIWH",
    "outputId": "a4570c02-97fd-4f04-a42f-6e5242919443"
   },
   "outputs": [
    {
     "name": "stdout",
     "output_type": "stream",
     "text": [
      "['I: i11', 'W: w12', 'W: w13', 'E: e45', 'E: e21']\n"
     ]
    }
   ],
   "source": [
    "# Prueba la transformación distinct si lo aplicamos a cadenas.¿Que realiza?\n",
    "log = sc.parallelize(['E: e21', 'I: i11', 'W: w12', 'I: i11', 'W: w13', 'E: e45'])\n",
    "print( log.distinct().collect() )"
   ]
  },
  {
   "cell_type": "markdown",
   "metadata": {
    "id": "CQ9t8hMPOqrk"
   },
   "source": [
    "### Respuesta TS1.7 \n",
    "\n",
    "Podemos observar que muestra los elementos de la lista sin repeticiones. "
   ]
  },
  {
   "cell_type": "markdown",
   "metadata": {
    "id": "mjuin2jgcqCo"
   },
   "source": [
    "## Pregunta TS1.8 ¿Cómo se podría obtener la misma salida pero utilizando una sola transformación y sin realizar la unión?"
   ]
  },
  {
   "cell_type": "code",
   "execution_count": null,
   "metadata": {
    "colab": {
     "base_uri": "https://localhost:8080/"
    },
    "id": "Y2NdOdomdoHP",
    "outputId": "e8cc2f1a-d193-48df-8353-0d071f06e02b"
   },
   "outputs": [
    {
     "name": "stdout",
     "output_type": "stream",
     "text": [
      "['I: i11', 'I: i11', 'E: e21', 'E: e45']\n"
     ]
    }
   ],
   "source": [
    "log = sc.parallelize(['E: e21', 'I: i11', 'W: w12', 'I: i11', 'W: w13', 'E: e45'])\n",
    "\n",
    "infos = log.filter(lambda elemento: elemento[0]=='I')\n",
    "errors = log.filter(lambda elemento: elemento[0]=='E')\n",
    "\n",
    "inferr = infos.union(errors)\n",
    "\n",
    "print (inferr.collect())"
   ]
  },
  {
   "cell_type": "markdown",
   "metadata": {
    "id": "O6xIKeQ7FF7T"
   },
   "source": [
    "### Respuesta TS1.8 \n",
    "\n",
    "Para ello vamos a realizar directamente el filtro donde se admitan ambas condiciones.  "
   ]
  },
  {
   "cell_type": "code",
   "execution_count": null,
   "metadata": {
    "colab": {
     "base_uri": "https://localhost:8080/"
    },
    "id": "9pkSehs-X0O7",
    "outputId": "8eee798a-5b9c-4f87-b695-780b1e3e4a8a"
   },
   "outputs": [
    {
     "name": "stdout",
     "output_type": "stream",
     "text": [
      "['E: e21', 'I: i11', 'I: i11', 'E: e45']\n"
     ]
    }
   ],
   "source": [
    "#¿Cómo se podría obtener la misma salida pero utilizando una sola transformación y sin realizar la unión?\n",
    "log = sc.parallelize(['E: e21', 'I: i11', 'W: w12', 'I: i11', 'W: w13', 'E: e45'])\n",
    "result = log.filter(lambda elemento: elemento[0]=='I' or elemento[0]=='E')\n",
    "print(result.collect())\n"
   ]
  },
  {
   "cell_type": "markdown",
   "metadata": {
    "id": "gcCxyCHYX6GB"
   },
   "source": [
    "# Diferencias entre hacer map y recuce con números y cadenas"
   ]
  },
  {
   "cell_type": "code",
   "execution_count": null,
   "metadata": {
    "colab": {
     "base_uri": "https://localhost:8080/"
    },
    "id": "mv4rsT2Fd_1p",
    "outputId": "523d2416-0e13-4853-cdc3-1534cc70d144"
   },
   "outputs": [
    {
     "name": "stdout",
     "output_type": "stream",
     "text": [
      "15\n"
     ]
    }
   ],
   "source": [
    "numeros = sc.parallelize([1,2,3,4,5])\n",
    "\n",
    "print (numeros.reduce(lambda elem1,elem2: elem2+elem1))"
   ]
  },
  {
   "cell_type": "code",
   "execution_count": null,
   "metadata": {
    "colab": {
     "base_uri": "https://localhost:8080/"
    },
    "id": "Ej3-MXZDeFmy",
    "outputId": "3db3b2ef-5015-47f7-f9a7-b311f4175ea3"
   },
   "outputs": [
    {
     "name": "stdout",
     "output_type": "stream",
     "text": [
      "3\n"
     ]
    }
   ],
   "source": [
    "#Tiene sentido esta operación?¿Cómo sale el resultado? pruebe los resultados\n",
    "# empezando con 2 elementos e ir incrementando hasta tener 5\n",
    "\n",
    "numeros = sc.parallelize([1,2,3,4,5])\n",
    "\n",
    "print (numeros.reduce(lambda elem1,elem2: elem2-elem1))"
   ]
  },
  {
   "cell_type": "markdown",
   "metadata": {
    "id": "0-fKrTkrFi5W"
   },
   "source": [
    "No tiene sentido porque el resultado no es correcto. "
   ]
  },
  {
   "cell_type": "code",
   "execution_count": null,
   "metadata": {
    "colab": {
     "base_uri": "https://localhost:8080/"
    },
    "id": "8Fn01BADUaW2",
    "outputId": "fa4cf8ea-9eaa-4a47-e1a5-422fbb58c2b6"
   },
   "outputs": [
    {
     "name": "stdout",
     "output_type": "stream",
     "text": [
      "Para 2 elementos, la lista que se  es [1, 2]\n",
      "Para 2 elementos 1\n",
      "Para 3 elementos, la lista que se  es [1, 2, 3]\n",
      "Para 3 elementos 0\n",
      "Para 4 elementos, la lista que se  es [1, 2, 3, 4]\n",
      "Para 4 elementos 0\n",
      "Para 5 elementos, la lista que se  es [1, 2, 3, 4, 5]\n",
      "Para 5 elementos 3\n"
     ]
    }
   ],
   "source": [
    "for i in range(2,6):\n",
    "  print(f\"Para {i} elementos, la lista que se  es {list(range(1,i+1))}\")\n",
    "  numeros = sc.parallelize(list(range(1,i+1)))\n",
    "  print (f\"Para {i} elementos\", numeros.reduce(lambda elem1,elem2: elem2-elem1))"
   ]
  },
  {
   "cell_type": "code",
   "execution_count": null,
   "metadata": {
    "colab": {
     "base_uri": "https://localhost:8080/"
    },
    "id": "jgXmpVzveNaW",
    "outputId": "a3e370eb-051f-47eb-ea8b-37ac28873939"
   },
   "outputs": [
    {
     "name": "stdout",
     "output_type": "stream",
     "text": [
      "hola-que-tal-bien\n"
     ]
    }
   ],
   "source": [
    "palabras = sc.parallelize(['HOLA', 'Que', 'TAL', 'Bien'])\n",
    "\n",
    "pal_minus = palabras.map(lambda elemento: elemento.lower())\n",
    "\n",
    "print (pal_minus.reduce(lambda elem1,elem2: elem1+\"-\"+elem2))\n",
    "#y esta tiene sentido esta operación?\n",
    "#Sí tiene \n",
    "# Qué pasa si ponemos elem2+\"-\"+elem1\n",
    "#"
   ]
  },
  {
   "cell_type": "code",
   "execution_count": null,
   "metadata": {
    "colab": {
     "base_uri": "https://localhost:8080/"
    },
    "id": "J7Xq1qjhWFR2",
    "outputId": "daaba489-b163-4381-8391-69b80b00ac6b"
   },
   "outputs": [
    {
     "name": "stdout",
     "output_type": "stream",
     "text": [
      "bien-tal-que-hola\n"
     ]
    }
   ],
   "source": [
    "print (pal_minus.reduce(lambda elem1,elem2: elem2+\"-\"+elem1))"
   ]
  },
  {
   "cell_type": "markdown",
   "metadata": {
    "id": "GenLAdgPF9kA"
   },
   "source": [
    "En este ejemplo se pone de manifiesto claramente lo que se comentó en la respuesta [Respuesta TS1.3](#respuesta-ts1.3). "
   ]
  },
  {
   "cell_type": "code",
   "execution_count": null,
   "metadata": {
    "colab": {
     "base_uri": "https://localhost:8080/"
    },
    "id": "1lzjZV5xeVze",
    "outputId": "0a7f1f31-4311-487a-b6ce-616ef6ffefe2"
   },
   "outputs": [
    {
     "name": "stdout",
     "output_type": "stream",
     "text": [
      "[('C', 4), ('A', 2), ('B', 5)]\n"
     ]
    }
   ],
   "source": [
    "r = sc.parallelize([('A', 1),('C', 4),('A', 1),('B', 1),('B', 4)])\n",
    "rr = r.reduceByKey(lambda v1,v2:v1+v2)\n",
    "print (rr.collect())"
   ]
  },
  {
   "cell_type": "code",
   "execution_count": null,
   "metadata": {
    "colab": {
     "base_uri": "https://localhost:8080/"
    },
    "id": "EZ3sOeL5ebOw",
    "outputId": "b631261f-f98b-4fc2-b6ef-ac836efc878d"
   },
   "outputs": [
    {
     "name": "stdout",
     "output_type": "stream",
     "text": [
      "[('C', 4), ('A', 2), ('B', 5)]\n",
      "[('C', 4), ('A', 2), ('B', 5)]\n"
     ]
    }
   ],
   "source": [
    "r = sc.parallelize([('A', 1),('C', 4),('A', 1),('B', 1),('B', 4)])\n",
    "rr1 = r.reduceByKey(lambda v1,v2:v1+v2)\n",
    "print (rr1.collect())\n",
    "rr2 = rr1.reduceByKey(lambda v1,v2:v1)\n",
    "print (rr2.collect())\n"
   ]
  },
  {
   "cell_type": "markdown",
   "metadata": {
    "id": "LLPvqqELz-Pt"
   },
   "source": [
    "## Pregunta TS1.9 ¿Cómo explica el funcionamiento de las celdas anteriores?"
   ]
  },
  {
   "cell_type": "code",
   "execution_count": null,
   "metadata": {
    "id": "XTv2W1dCa7Mo"
   },
   "outputs": [],
   "source": [
    "#palabras = sc.parallelize(['HOLA', 'Que', 'TAL', 'Bien'])\n",
    "#print (pal_minus.reduce(lambda elem1,elem2: elem1+\"-\"+elem2))\n",
    "#y esta tiene sentido esta operación?\n",
    "# Qué pasa si ponemos elem2+\"-\"+elem1"
   ]
  },
  {
   "cell_type": "code",
   "execution_count": null,
   "metadata": {
    "colab": {
     "base_uri": "https://localhost:8080/"
    },
    "id": "20T9DRYMbPYU",
    "outputId": "26c7d90f-1d22-42d7-f28a-a6da8648deb5"
   },
   "outputs": [
    {
     "name": "stdout",
     "output_type": "stream",
     "text": [
      "[('C', 4), ('A', 2), ('B', 5)]\n"
     ]
    }
   ],
   "source": [
    "r = sc.parallelize([('A', 1),('C', 4),('A', 1),('B', 1),('B', 4)])\n",
    "rr = r.reduceByKey(lambda v1,v2:v1+v2)\n",
    "print (rr.collect())"
   ]
  },
  {
   "cell_type": "markdown",
   "metadata": {
    "id": "WeBNwRIlW7_H"
   },
   "source": [
    "\n",
    "De cada dupla suma el valor de los elementos que comparten la misma clave. "
   ]
  },
  {
   "cell_type": "code",
   "execution_count": null,
   "metadata": {
    "colab": {
     "base_uri": "https://localhost:8080/"
    },
    "id": "5k9o9JzEbZGn",
    "outputId": "c285fa5f-7f4f-44b0-9d01-ccda09f9130c"
   },
   "outputs": [
    {
     "name": "stdout",
     "output_type": "stream",
     "text": [
      "[('C', 4), ('A', 2), ('B', 5)]\n",
      "[('C', 4), ('A', 2), ('B', 5)]\n"
     ]
    }
   ],
   "source": [
    "r = sc.parallelize([('A', 1),('C', 4),('A', 1),('B', 1),('B', 4)])\n",
    "rr1 = r.reduceByKey(lambda v1,v2:v1+v2)\n",
    "print (rr1.collect())\n",
    "rr2 = rr1.reduceByKey(lambda v1,v2:v1)\n",
    "print (rr2.collect())\n"
   ]
  },
  {
   "cell_type": "markdown",
   "metadata": {
    "id": "GVlCUhOya1-z"
   },
   "source": [
    "# TS1.10 Responda a las preguntas planteadas al hacer los cambios sugeridos en las siguiente celdas"
   ]
  },
  {
   "cell_type": "code",
   "execution_count": null,
   "metadata": {
    "colab": {
     "base_uri": "https://localhost:8080/"
    },
    "id": "fR2ruD-TeeK2",
    "outputId": "1c96cfdf-d853-4a2d-fa62-401d4386e21d"
   },
   "outputs": [
    {
     "name": "stdout",
     "output_type": "stream",
     "text": [
      "[('C', 4), ('A', 'hola'), ('B', 'hola')]\n",
      "[('C', 4), ('A', 'hola'), ('B', 'hola')]\n"
     ]
    }
   ],
   "source": [
    "r = sc.parallelize([('A', 1),('C', 4),('A', 1),('B', 1),('B', 4)])\n",
    "rr1 = r.reduceByKey(lambda v1,v2:'hola')\n",
    "print (rr1.collect())\n",
    "rr2 = rr1.reduceByKey(lambda v1,v2:'hola')\n",
    "print (rr2.collect())"
   ]
  },
  {
   "cell_type": "code",
   "execution_count": null,
   "metadata": {
    "colab": {
     "base_uri": "https://localhost:8080/"
    },
    "id": "gKbP8VKzeitK",
    "outputId": "a3b30bea-bad0-4995-9ae1-3229ed876565"
   },
   "outputs": [
    {
     "name": "stdout",
     "output_type": "stream",
     "text": [
      "C [2]\n",
      "A [1, 3]\n",
      "B [4, 5]\n"
     ]
    }
   ],
   "source": [
    "r = sc.parallelize([('A', 1),('C', 2),('A', 3),('B', 4),('B', 5)])\n",
    "rr = r.groupByKey()\n",
    "res= rr.collect()\n",
    "for k,v in res:\n",
    "    print (k, list(v))\n",
    "# Que operación se puede realizar al RDD rr para que la operacion sea como un reduceByKey\n",
    "#¿Y simular un group con un reduceByKey y un map?"
   ]
  },
  {
   "cell_type": "markdown",
   "metadata": {
    "id": "37CavW5dJ79M"
   },
   "source": [
    "### Respuestas TS1.10 \n",
    "\n",
    "#### Transformar groupByKey para que se transforme como un reduce \n",
    "\n",
    "\n"
   ]
  },
  {
   "cell_type": "code",
   "execution_count": null,
   "metadata": {
    "colab": {
     "base_uri": "https://localhost:8080/"
    },
    "id": "w9JtoHftJ6lN",
    "outputId": "2c9fc16a-866a-449e-e9ab-992bb746434b"
   },
   "outputs": [
    {
     "name": "stdout",
     "output_type": "stream",
     "text": [
      "[('C', 2), ('A', 'hola'), ('B', 'hola')]\n"
     ]
    }
   ],
   "source": [
    "from functools import reduce \n",
    "r = sc.parallelize([('A', 1),('C', 2),('A', 3),('B', 4),('B', 5)])\n",
    "# Transformación con sentencias de python \n",
    "rr = (r.groupByKey()).collect()\n",
    "res = list(map( lambda v: (v[0], reduce( lambda x,y: \"hola\", list(v[1]))), rr))\n",
    "print(res)"
   ]
  },
  {
   "cell_type": "markdown",
   "metadata": {
    "id": "s39AsHW3Qo-5"
   },
   "source": [
    "### Simular un GroupBy con un reduceByKey y un map\n",
    "\n",
    "De cada par clave valor la idea es introducir cada valor a una lista y despues realizar `reduceByKey` donde la operación de *reduce* es concaternar las listas. "
   ]
  },
  {
   "cell_type": "code",
   "execution_count": null,
   "metadata": {
    "colab": {
     "base_uri": "https://localhost:8080/"
    },
    "id": "T91VeOmeQ6UF",
    "outputId": "bf248799-2ac0-4bef-b7a9-b15f41a6536d"
   },
   "outputs": [
    {
     "name": "stdout",
     "output_type": "stream",
     "text": [
      "[('C', [4]), ('A', [1, 1]), ('B', [1, 4])]\n"
     ]
    }
   ],
   "source": [
    "r = sc.parallelize([('A', 1),('C', 4),('A', 1),('B', 1),('B', 4)])\n",
    "r_map = r.map(lambda x: (x[0],[x[1]]))\n",
    "rr1 = r_map.reduceByKey(lambda v1,v2: v1+v2)\n",
    "print (rr1.collect())"
   ]
  },
  {
   "cell_type": "code",
   "execution_count": null,
   "metadata": {
    "colab": {
     "base_uri": "https://localhost:8080/"
    },
    "id": "1UBMxjgi19V8",
    "outputId": "32c3fd15-daf2-43b1-efc6-b17b65e80fb9"
   },
   "outputs": [
    {
     "name": "stdout",
     "output_type": "stream",
     "text": [
      "[('A', (1, 4)), ('B', (2, 5)), ('C', (3, 6))]\n"
     ]
    }
   ],
   "source": [
    "rdd1 = sc.parallelize([('A',1),('B',2),('C',3)])\n",
    "rdd2 = sc.parallelize([('A',4),('B',5),('C',6)])\n",
    "\n",
    "rddjoin = rdd1.join(rdd2)\n",
    "\n",
    "print (rddjoin.collect())\n",
    "# Prueba a cambiar las claves del rdd1 y rdd2 para ver cuántos elementos se crean"
   ]
  },
  {
   "cell_type": "code",
   "execution_count": null,
   "metadata": {
    "colab": {
     "base_uri": "https://localhost:8080/"
    },
    "id": "XXVC6hoC2Kw-",
    "outputId": "6b55275f-f1f5-4875-967e-ee54d8db0603"
   },
   "outputs": [
    {
     "name": "stdout",
     "output_type": "stream",
     "text": [
      "[('A', (1, 4)), ('A', (1, 5)), ('B', (2, 6))]\n"
     ]
    }
   ],
   "source": [
    "rdd1 = sc.parallelize([('A',1),('B',2),('C',3)])\n",
    "rdd2 = sc.parallelize([('A',4),('A',5),('B',6),('D',7)])\n",
    "\n",
    "rddjoin = rdd1.join(rdd2)\n",
    "\n",
    "print (rddjoin.collect())\n",
    "#Modifica join por leftOuterJoin, rightOuterJoin y fullOuterJoin ¿Qué sucede? \n"
   ]
  },
  {
   "cell_type": "code",
   "execution_count": null,
   "metadata": {
    "colab": {
     "base_uri": "https://localhost:8080/"
    },
    "id": "quNvzEdK2gv5",
    "outputId": "d2ddc89d-ff96-499e-e54e-7f25873b6eb6"
   },
   "outputs": [
    {
     "name": "stdout",
     "output_type": "stream",
     "text": [
      "[('C', 3), ('B', 2), ('B', 6), ('A', 1), ('A', 4), ('A', 5)]\n"
     ]
    }
   ],
   "source": [
    "rdd = sc.parallelize([('A',1),('B',2),('C',3),('A',4),('A',5),('B',6)])\n",
    "\n",
    "res = rdd.sortByKey(False)\n",
    "\n",
    "print (res.collect())"
   ]
  },
  {
   "cell_type": "markdown",
   "metadata": {
    "id": "zOir6ry549KP"
   },
   "source": [
    "# Utilización de ficheros"
   ]
  },
  {
   "cell_type": "code",
   "execution_count": null,
   "metadata": {
    "id": "0HSk78ba3DTv"
   },
   "outputs": [],
   "source": [
    "\n",
    "# Crea una lista de 1000 números y la guarda.\n",
    "# Da error si 'salida' existe, descomenta la linea de borrar en ese caso.\n",
    "%rm -rf salida\n",
    "numeros = sc.parallelize(range(0,1000))\n",
    "numeros.saveAsTextFile('salida')\n"
   ]
  },
  {
   "cell_type": "code",
   "execution_count": null,
   "metadata": {
    "colab": {
     "base_uri": "https://localhost:8080/"
    },
    "id": "r1oOMj9U3azd",
    "outputId": "9755ffc4-72ac-40f8-9dc9-e5a10b724f93"
   },
   "outputs": [
    {
     "name": "stdout",
     "output_type": "stream",
     "text": [
      "total 876964\n",
      "drwxr-xr-x  1 root root      4096 Oct  9 20:41 \u001b[0m\u001b[01;34m.\u001b[0m/\n",
      "drwxr-xr-x  1 root root      4096 Oct  9 19:04 \u001b[01;34m..\u001b[0m/\n",
      "drwxr-xr-x  4 root root      4096 Oct  5 13:34 \u001b[01;34m.config\u001b[0m/\n",
      "drwx------  5 root root      4096 Oct  9 19:28 \u001b[01;34mgdrive\u001b[0m/\n",
      "drwxr-xr-x  2 root root      4096 Oct  9 20:41 \u001b[01;34msalida\u001b[0m/\n",
      "drwxr-xr-x  2 root root      4096 Oct  9 19:06 \u001b[01;34msalida2\u001b[0m/\n",
      "drwxr-xr-x  2 root root      4096 Oct  9 19:06 \u001b[01;34msalida3\u001b[0m/\n",
      "drwxr-xr-x  1 root root      4096 Oct  5 13:35 \u001b[01;34msample_data\u001b[0m/\n",
      "drwxr-xr-x 13 1000 1000      4096 Jun  9 20:37 \u001b[01;34mspark-3.3.0-bin-hadoop3\u001b[0m/\n",
      "-rw-r--r--  1 root root 299321244 Jun  9 20:39 spark-3.3.0-bin-hadoop3.tgz\n",
      "-rw-r--r--  1 root root 299321244 Jun  9 20:39 spark-3.3.0-bin-hadoop3.tgz.1\n",
      "-rw-r--r--  1 root root 299321244 Jun  9 20:39 spark-3.3.0-bin-hadoop3.tgz.2\n"
     ]
    }
   ],
   "source": [
    "ls -la"
   ]
  },
  {
   "cell_type": "code",
   "execution_count": null,
   "metadata": {
    "colab": {
     "base_uri": "https://localhost:8080/"
    },
    "id": "y3T8t98g3koT",
    "outputId": "25b9c5a3-efb2-4123-9d20-50d1b6a08b3e"
   },
   "outputs": [
    {
     "name": "stdout",
     "output_type": "stream",
     "text": [
      "-rw-r--r-- 1 root root 1890 Oct  9 20:41 salida/part-00000\n",
      "-rw-r--r-- 1 root root 2000 Oct  9 20:41 salida/part-00001\n",
      "-rw-r--r-- 1 root root    0 Oct  9 20:41 salida/_SUCCESS\n"
     ]
    }
   ],
   "source": [
    "%ls -la salida/*\n"
   ]
  },
  {
   "cell_type": "code",
   "execution_count": null,
   "metadata": {
    "id": "2yWrIYA83q_c"
   },
   "outputs": [],
   "source": [
    "#%cat salida/part-00000"
   ]
  },
  {
   "cell_type": "code",
   "execution_count": null,
   "metadata": {
    "colab": {
     "base_uri": "https://localhost:8080/"
    },
    "id": "D6_KGg9w3Rqm",
    "outputId": "6ecacf9d-e090-4c68-938b-b743b44a5716"
   },
   "outputs": [
    {
     "name": "stdout",
     "output_type": "stream",
     "text": [
      "499500\n"
     ]
    }
   ],
   "source": [
    "# Recupera el fichero guardado y realiza la suma\n",
    "n2 = sc.textFile('salida').map(lambda a:int(a))\n",
    "print(n2.reduce(lambda v1,v2: v1 + v2))\n",
    "\n",
    "# Prueba este código y mira qué genera?\n",
    "# Borra la salida y cambia las particiones en parallelize ¿Qué sucede? \n",
    "#    (pe c.parallelize(xrange(0,1000),8))\n"
   ]
  },
  {
   "cell_type": "markdown",
   "metadata": {
    "id": "33FiLTWp6LQ2"
   },
   "source": [
    "## Pregunta TS1.11 Borra la salida y cambia las particiones en parallelize ¿Qué sucede? \n",
    "  (pe c.parallelize(xrange(0,1000),8))\n"
   ]
  },
  {
   "cell_type": "code",
   "execution_count": null,
   "metadata": {
    "colab": {
     "base_uri": "https://localhost:8080/",
     "height": 1000
    },
    "id": "b-MVlt7T0nhT",
    "outputId": "1ca11c1d-15f1-49a1-a02e-421f6f487ff5"
   },
   "outputs": [
    {
     "name": "stdout",
     "output_type": "stream",
     "text": [
      "499500\n"
     ]
    },
    {
     "ename": "Py4JJavaError",
     "evalue": "ignored",
     "output_type": "error",
     "traceback": [
      "\u001b[0;31m---------------------------------------------------------------------------\u001b[0m",
      "\u001b[0;31mPy4JJavaError\u001b[0m                             Traceback (most recent call last)",
      "\u001b[0;32m<ipython-input-207-bb0984187062>\u001b[0m in \u001b[0;36m<module>\u001b[0;34m\u001b[0m\n\u001b[1;32m      6\u001b[0m \u001b[0;31m# Borra la salida y cambia las particiones en parallelize ¿Qué sucede?\u001b[0m\u001b[0;34m\u001b[0m\u001b[0;34m\u001b[0m\u001b[0;34m\u001b[0m\u001b[0m\n\u001b[1;32m      7\u001b[0m \u001b[0msc\u001b[0m\u001b[0;34m.\u001b[0m\u001b[0mparallelize\u001b[0m\u001b[0;34m(\u001b[0m\u001b[0mrange\u001b[0m\u001b[0;34m(\u001b[0m\u001b[0;36m0\u001b[0m\u001b[0;34m,\u001b[0m\u001b[0;36m1000\u001b[0m\u001b[0;34m)\u001b[0m\u001b[0;34m,\u001b[0m\u001b[0;36m8\u001b[0m\u001b[0;34m)\u001b[0m\u001b[0;34m\u001b[0m\u001b[0;34m\u001b[0m\u001b[0m\n\u001b[0;32m----> 8\u001b[0;31m \u001b[0mnumeros\u001b[0m\u001b[0;34m.\u001b[0m\u001b[0msaveAsTextFile\u001b[0m\u001b[0;34m(\u001b[0m\u001b[0;34m'salida2'\u001b[0m\u001b[0;34m)\u001b[0m\u001b[0;34m\u001b[0m\u001b[0;34m\u001b[0m\u001b[0m\n\u001b[0m",
      "\u001b[0;32m/usr/local/lib/python3.7/dist-packages/pyspark/rdd.py\u001b[0m in \u001b[0;36msaveAsTextFile\u001b[0;34m(self, path, compressionCodecClass)\u001b[0m\n\u001b[1;32m   2203\u001b[0m             \u001b[0mkeyed\u001b[0m\u001b[0;34m.\u001b[0m\u001b[0m_jrdd\u001b[0m\u001b[0;34m.\u001b[0m\u001b[0mmap\u001b[0m\u001b[0;34m(\u001b[0m\u001b[0mself\u001b[0m\u001b[0;34m.\u001b[0m\u001b[0mctx\u001b[0m\u001b[0;34m.\u001b[0m\u001b[0m_jvm\u001b[0m\u001b[0;34m.\u001b[0m\u001b[0mBytesToString\u001b[0m\u001b[0;34m(\u001b[0m\u001b[0;34m)\u001b[0m\u001b[0;34m)\u001b[0m\u001b[0;34m.\u001b[0m\u001b[0msaveAsTextFile\u001b[0m\u001b[0;34m(\u001b[0m\u001b[0mpath\u001b[0m\u001b[0;34m,\u001b[0m \u001b[0mcompressionCodec\u001b[0m\u001b[0;34m)\u001b[0m\u001b[0;34m\u001b[0m\u001b[0;34m\u001b[0m\u001b[0m\n\u001b[1;32m   2204\u001b[0m         \u001b[0;32melse\u001b[0m\u001b[0;34m:\u001b[0m\u001b[0;34m\u001b[0m\u001b[0;34m\u001b[0m\u001b[0m\n\u001b[0;32m-> 2205\u001b[0;31m             \u001b[0mkeyed\u001b[0m\u001b[0;34m.\u001b[0m\u001b[0m_jrdd\u001b[0m\u001b[0;34m.\u001b[0m\u001b[0mmap\u001b[0m\u001b[0;34m(\u001b[0m\u001b[0mself\u001b[0m\u001b[0;34m.\u001b[0m\u001b[0mctx\u001b[0m\u001b[0;34m.\u001b[0m\u001b[0m_jvm\u001b[0m\u001b[0;34m.\u001b[0m\u001b[0mBytesToString\u001b[0m\u001b[0;34m(\u001b[0m\u001b[0;34m)\u001b[0m\u001b[0;34m)\u001b[0m\u001b[0;34m.\u001b[0m\u001b[0msaveAsTextFile\u001b[0m\u001b[0;34m(\u001b[0m\u001b[0mpath\u001b[0m\u001b[0;34m)\u001b[0m\u001b[0;34m\u001b[0m\u001b[0;34m\u001b[0m\u001b[0m\n\u001b[0m\u001b[1;32m   2206\u001b[0m \u001b[0;34m\u001b[0m\u001b[0m\n\u001b[1;32m   2207\u001b[0m     \u001b[0;31m# Pair functions\u001b[0m\u001b[0;34m\u001b[0m\u001b[0;34m\u001b[0m\u001b[0;34m\u001b[0m\u001b[0m\n",
      "\u001b[0;32m/usr/local/lib/python3.7/dist-packages/py4j/java_gateway.py\u001b[0m in \u001b[0;36m__call__\u001b[0;34m(self, *args)\u001b[0m\n\u001b[1;32m   1320\u001b[0m         \u001b[0manswer\u001b[0m \u001b[0;34m=\u001b[0m \u001b[0mself\u001b[0m\u001b[0;34m.\u001b[0m\u001b[0mgateway_client\u001b[0m\u001b[0;34m.\u001b[0m\u001b[0msend_command\u001b[0m\u001b[0;34m(\u001b[0m\u001b[0mcommand\u001b[0m\u001b[0;34m)\u001b[0m\u001b[0;34m\u001b[0m\u001b[0;34m\u001b[0m\u001b[0m\n\u001b[1;32m   1321\u001b[0m         return_value = get_return_value(\n\u001b[0;32m-> 1322\u001b[0;31m             answer, self.gateway_client, self.target_id, self.name)\n\u001b[0m\u001b[1;32m   1323\u001b[0m \u001b[0;34m\u001b[0m\u001b[0m\n\u001b[1;32m   1324\u001b[0m         \u001b[0;32mfor\u001b[0m \u001b[0mtemp_arg\u001b[0m \u001b[0;32min\u001b[0m \u001b[0mtemp_args\u001b[0m\u001b[0;34m:\u001b[0m\u001b[0;34m\u001b[0m\u001b[0;34m\u001b[0m\u001b[0m\n",
      "\u001b[0;32m/usr/local/lib/python3.7/dist-packages/pyspark/sql/utils.py\u001b[0m in \u001b[0;36mdeco\u001b[0;34m(*a, **kw)\u001b[0m\n\u001b[1;32m    188\u001b[0m     \u001b[0;32mdef\u001b[0m \u001b[0mdeco\u001b[0m\u001b[0;34m(\u001b[0m\u001b[0;34m*\u001b[0m\u001b[0ma\u001b[0m\u001b[0;34m:\u001b[0m \u001b[0mAny\u001b[0m\u001b[0;34m,\u001b[0m \u001b[0;34m**\u001b[0m\u001b[0mkw\u001b[0m\u001b[0;34m:\u001b[0m \u001b[0mAny\u001b[0m\u001b[0;34m)\u001b[0m \u001b[0;34m->\u001b[0m \u001b[0mAny\u001b[0m\u001b[0;34m:\u001b[0m\u001b[0;34m\u001b[0m\u001b[0;34m\u001b[0m\u001b[0m\n\u001b[1;32m    189\u001b[0m         \u001b[0;32mtry\u001b[0m\u001b[0;34m:\u001b[0m\u001b[0;34m\u001b[0m\u001b[0;34m\u001b[0m\u001b[0m\n\u001b[0;32m--> 190\u001b[0;31m             \u001b[0;32mreturn\u001b[0m \u001b[0mf\u001b[0m\u001b[0;34m(\u001b[0m\u001b[0;34m*\u001b[0m\u001b[0ma\u001b[0m\u001b[0;34m,\u001b[0m \u001b[0;34m**\u001b[0m\u001b[0mkw\u001b[0m\u001b[0;34m)\u001b[0m\u001b[0;34m\u001b[0m\u001b[0;34m\u001b[0m\u001b[0m\n\u001b[0m\u001b[1;32m    191\u001b[0m         \u001b[0;32mexcept\u001b[0m \u001b[0mPy4JJavaError\u001b[0m \u001b[0;32mas\u001b[0m \u001b[0me\u001b[0m\u001b[0;34m:\u001b[0m\u001b[0;34m\u001b[0m\u001b[0;34m\u001b[0m\u001b[0m\n\u001b[1;32m    192\u001b[0m             \u001b[0mconverted\u001b[0m \u001b[0;34m=\u001b[0m \u001b[0mconvert_exception\u001b[0m\u001b[0;34m(\u001b[0m\u001b[0me\u001b[0m\u001b[0;34m.\u001b[0m\u001b[0mjava_exception\u001b[0m\u001b[0;34m)\u001b[0m\u001b[0;34m\u001b[0m\u001b[0;34m\u001b[0m\u001b[0m\n",
      "\u001b[0;32m/usr/local/lib/python3.7/dist-packages/py4j/protocol.py\u001b[0m in \u001b[0;36mget_return_value\u001b[0;34m(answer, gateway_client, target_id, name)\u001b[0m\n\u001b[1;32m    326\u001b[0m                 raise Py4JJavaError(\n\u001b[1;32m    327\u001b[0m                     \u001b[0;34m\"An error occurred while calling {0}{1}{2}.\\n\"\u001b[0m\u001b[0;34m.\u001b[0m\u001b[0;34m\u001b[0m\u001b[0;34m\u001b[0m\u001b[0m\n\u001b[0;32m--> 328\u001b[0;31m                     format(target_id, \".\", name), value)\n\u001b[0m\u001b[1;32m    329\u001b[0m             \u001b[0;32melse\u001b[0m\u001b[0;34m:\u001b[0m\u001b[0;34m\u001b[0m\u001b[0;34m\u001b[0m\u001b[0m\n\u001b[1;32m    330\u001b[0m                 raise Py4JError(\n",
      "\u001b[0;31mPy4JJavaError\u001b[0m: An error occurred while calling o2892.saveAsTextFile.\n: org.apache.hadoop.mapred.FileAlreadyExistsException: Output directory file:/content/salida2 already exists\n\tat org.apache.hadoop.mapred.FileOutputFormat.checkOutputSpecs(FileOutputFormat.java:131)\n\tat org.apache.spark.internal.io.HadoopMapRedWriteConfigUtil.assertConf(SparkHadoopWriter.scala:299)\n\tat org.apache.spark.internal.io.SparkHadoopWriter$.write(SparkHadoopWriter.scala:71)\n\tat org.apache.spark.rdd.PairRDDFunctions.$anonfun$saveAsHadoopDataset$1(PairRDDFunctions.scala:1091)\n\tat scala.runtime.java8.JFunction0$mcV$sp.apply(JFunction0$mcV$sp.java:23)\n\tat org.apache.spark.rdd.RDDOperationScope$.withScope(RDDOperationScope.scala:151)\n\tat org.apache.spark.rdd.RDDOperationScope$.withScope(RDDOperationScope.scala:112)\n\tat org.apache.spark.rdd.RDD.withScope(RDD.scala:406)\n\tat org.apache.spark.rdd.PairRDDFunctions.saveAsHadoopDataset(PairRDDFunctions.scala:1089)\n\tat org.apache.spark.rdd.PairRDDFunctions.$anonfun$saveAsHadoopFile$4(PairRDDFunctions.scala:1062)\n\tat scala.runtime.java8.JFunction0$mcV$sp.apply(JFunction0$mcV$sp.java:23)\n\tat org.apache.spark.rdd.RDDOperationScope$.withScope(RDDOperationScope.scala:151)\n\tat org.apache.spark.rdd.RDDOperationScope$.withScope(RDDOperationScope.scala:112)\n\tat org.apache.spark.rdd.RDD.withScope(RDD.scala:406)\n\tat org.apache.spark.rdd.PairRDDFunctions.saveAsHadoopFile(PairRDDFunctions.scala:1027)\n\tat org.apache.spark.rdd.PairRDDFunctions.$anonfun$saveAsHadoopFile$3(PairRDDFunctions.scala:1009)\n\tat scala.runtime.java8.JFunction0$mcV$sp.apply(JFunction0$mcV$sp.java:23)\n\tat org.apache.spark.rdd.RDDOperationScope$.withScope(RDDOperationScope.scala:151)\n\tat org.apache.spark.rdd.RDDOperationScope$.withScope(RDDOperationScope.scala:112)\n\tat org.apache.spark.rdd.RDD.withScope(RDD.scala:406)\n\tat org.apache.spark.rdd.PairRDDFunctions.saveAsHadoopFile(PairRDDFunctions.scala:1008)\n\tat org.apache.spark.rdd.PairRDDFunctions.$anonfun$saveAsHadoopFile$2(PairRDDFunctions.scala:965)\n\tat scala.runtime.java8.JFunction0$mcV$sp.apply(JFunction0$mcV$sp.java:23)\n\tat org.apache.spark.rdd.RDDOperationScope$.withScope(RDDOperationScope.scala:151)\n\tat org.apache.spark.rdd.RDDOperationScope$.withScope(RDDOperationScope.scala:112)\n\tat org.apache.spark.rdd.RDD.withScope(RDD.scala:406)\n\tat org.apache.spark.rdd.PairRDDFunctions.saveAsHadoopFile(PairRDDFunctions.scala:963)\n\tat org.apache.spark.rdd.RDD.$anonfun$saveAsTextFile$2(RDD.scala:1599)\n\tat scala.runtime.java8.JFunction0$mcV$sp.apply(JFunction0$mcV$sp.java:23)\n\tat org.apache.spark.rdd.RDDOperationScope$.withScope(RDDOperationScope.scala:151)\n\tat org.apache.spark.rdd.RDDOperationScope$.withScope(RDDOperationScope.scala:112)\n\tat org.apache.spark.rdd.RDD.withScope(RDD.scala:406)\n\tat org.apache.spark.rdd.RDD.saveAsTextFile(RDD.scala:1599)\n\tat org.apache.spark.rdd.RDD.$anonfun$saveAsTextFile$1(RDD.scala:1585)\n\tat scala.runtime.java8.JFunction0$mcV$sp.apply(JFunction0$mcV$sp.java:23)\n\tat org.apache.spark.rdd.RDDOperationScope$.withScope(RDDOperationScope.scala:151)\n\tat org.apache.spark.rdd.RDDOperationScope$.withScope(RDDOperationScope.scala:112)\n\tat org.apache.spark.rdd.RDD.withScope(RDD.scala:406)\n\tat org.apache.spark.rdd.RDD.saveAsTextFile(RDD.scala:1585)\n\tat org.apache.spark.api.java.JavaRDDLike.saveAsTextFile(JavaRDDLike.scala:564)\n\tat org.apache.spark.api.java.JavaRDDLike.saveAsTextFile$(JavaRDDLike.scala:563)\n\tat org.apache.spark.api.java.AbstractJavaRDDLike.saveAsTextFile(JavaRDDLike.scala:45)\n\tat sun.reflect.NativeMethodAccessorImpl.invoke0(Native Method)\n\tat sun.reflect.NativeMethodAccessorImpl.invoke(NativeMethodAccessorImpl.java:62)\n\tat sun.reflect.DelegatingMethodAccessorImpl.invoke(DelegatingMethodAccessorImpl.java:43)\n\tat java.lang.reflect.Method.invoke(Method.java:498)\n\tat py4j.reflection.MethodInvoker.invoke(MethodInvoker.java:244)\n\tat py4j.reflection.ReflectionEngine.invoke(ReflectionEngine.java:357)\n\tat py4j.Gateway.invoke(Gateway.java:282)\n\tat py4j.commands.AbstractCommand.invokeMethod(AbstractCommand.java:132)\n\tat py4j.commands.CallCommand.execute(CallCommand.java:79)\n\tat py4j.ClientServerConnection.waitForCommands(ClientServerConnection.java:182)\n\tat py4j.ClientServerConnection.run(ClientServerConnection.java:106)\n\tat java.lang.Thread.run(Thread.java:750)\n"
     ]
    }
   ],
   "source": [
    "# Recupera el fichero guardado y realiza la suma\n",
    "n2 = sc.textFile('salida').map(lambda a:int(a))\n",
    "print(n2.reduce(lambda v1,v2: v1 + v2))\n",
    "\n",
    "# Prueba este código y mira qué genera?\n",
    "# Borra la salida y cambia las particiones en parallelize ¿Qué sucede? \n",
    "sc.parallelize(range(0,1000),8)\n",
    "numeros.saveAsTextFile('salida3')\n"
   ]
  },
  {
   "cell_type": "code",
   "execution_count": null,
   "metadata": {
    "colab": {
     "base_uri": "https://localhost:8080/"
    },
    "id": "H0ZoCcKbVWa2",
    "outputId": "be7bba6c-4160-4079-f0cd-96c47cc4b106"
   },
   "outputs": [
    {
     "name": "stdout",
     "output_type": "stream",
     "text": [
      "0\n",
      "1\n"
     ]
    }
   ],
   "source": [
    "# Prueba este código y mira qué genera?\n",
    "# Borra la salida y cambia las particiones en parallelize ¿Qué sucede? \n",
    "%rm -rf salida3\n",
    "n = sc.parallelize(range(0,17),8)\n",
    "n.saveAsTextFile('salida3')\n",
    "%cat salida3/part-00000\n"
   ]
  },
  {
   "cell_type": "markdown",
   "metadata": {
    "id": "8LebgGjsW2GE"
   },
   "source": [
    "### Respuesta TS1.11\n",
    "Podemos observar que cada proceso en paralelo sobreescribe el fichero y por tanto solo se refleja la última que ha sido guardada. "
   ]
  },
  {
   "cell_type": "code",
   "execution_count": null,
   "metadata": {
    "colab": {
     "base_uri": "https://localhost:8080/"
    },
    "id": "WeJ_uFiZVcG4",
    "outputId": "d9839840-8ca2-4fcc-c4de-71a71652ad47"
   },
   "outputs": [
    {
     "name": "stdout",
     "output_type": "stream",
     "text": [
      "0\n",
      "1\n"
     ]
    }
   ],
   "source": [
    "%cat salida3/part-00000"
   ]
  },
  {
   "cell_type": "code",
   "execution_count": null,
   "metadata": {
    "colab": {
     "base_uri": "https://localhost:8080/"
    },
    "id": "H4lLsBhy4Yxq",
    "outputId": "d2af7e57-b0c4-409b-e7b0-2a202ec96bc3"
   },
   "outputs": [
    {
     "name": "stdout",
     "output_type": "stream",
     "text": [
      "total 876960\n",
      "drwxr-xr-x  1 root root      4096 Oct  9 20:41 \u001b[0m\u001b[01;34m.\u001b[0m/\n",
      "drwxr-xr-x  1 root root      4096 Oct  9 19:04 \u001b[01;34m..\u001b[0m/\n",
      "drwxr-xr-x  4 root root      4096 Oct  5 13:34 \u001b[01;34m.config\u001b[0m/\n",
      "drwx------  5 root root      4096 Oct  9 19:28 \u001b[01;34mgdrive\u001b[0m/\n",
      "drwxr-xr-x  2 root root      4096 Oct  9 19:06 \u001b[01;34msalida2\u001b[0m/\n",
      "drwxr-xr-x  2 root root      4096 Oct  9 20:41 \u001b[01;34msalida3\u001b[0m/\n",
      "drwxr-xr-x  1 root root      4096 Oct  5 13:35 \u001b[01;34msample_data\u001b[0m/\n",
      "drwxr-xr-x 13 1000 1000      4096 Jun  9 20:37 \u001b[01;34mspark-3.3.0-bin-hadoop3\u001b[0m/\n",
      "-rw-r--r--  1 root root 299321244 Jun  9 20:39 spark-3.3.0-bin-hadoop3.tgz\n",
      "-rw-r--r--  1 root root 299321244 Jun  9 20:39 spark-3.3.0-bin-hadoop3.tgz.1\n",
      "-rw-r--r--  1 root root 299321244 Jun  9 20:39 spark-3.3.0-bin-hadoop3.tgz.2\n"
     ]
    }
   ],
   "source": [
    "%rm -rf salida\n",
    "%ls -la\n"
   ]
  },
  {
   "cell_type": "markdown",
   "metadata": {
    "id": "SyfefweJenb8"
   },
   "source": [
    "# El quijote"
   ]
  },
  {
   "cell_type": "markdown",
   "metadata": {
    "id": "xcxH-o_ZQSje"
   },
   "source": [
    "Montar el directorio de trabajo utilizando Google Drive\n",
    "Loading Your Data into Google Colaboratory.\n",
    "1. First of all, Upload your Data to your Google Drive.\n",
    "2. Run the following script in colab shell.\n",
    "3. Copy the authorization code of your account.\n",
    "4. Paste the authorization code into the output shell.\n",
    "5. Congrats! Now your Google Drive is mounted to this location /content/gdrive/MyDrive/\n",
    "\n",
    "\n"
   ]
  },
  {
   "cell_type": "code",
   "execution_count": null,
   "metadata": {
    "colab": {
     "base_uri": "https://localhost:8080/"
    },
    "id": "Vl0Fq5nChoYj",
    "outputId": "5fc1cf7e-ae8f-49c1-ed03-14e6fe1e0c4b"
   },
   "outputs": [
    {
     "name": "stdout",
     "output_type": "stream",
     "text": [
      "Drive already mounted at /content/gdrive; to attempt to forcibly remount, call drive.mount(\"/content/gdrive\", force_remount=True).\n"
     ]
    }
   ],
   "source": [
    "from google.colab import drive\n",
    "#drive.flush_and_unmount()\n",
    "drive.mount('/content/gdrive')"
   ]
  },
  {
   "cell_type": "code",
   "execution_count": null,
   "metadata": {
    "colab": {
     "base_uri": "https://localhost:8080/"
    },
    "id": "jL-wqZOCZzrL",
    "outputId": "0de3443f-9a3d-4e98-d8c1-52d94c8fa061"
   },
   "outputs": [
    {
     "name": "stdout",
     "output_type": "stream",
     "text": [
      "'CentOS 64-bit 2GB IMAGEN_DE_PARTIDA_HADOOP_CM.zip'\n",
      "\u001b[0m\u001b[01;34m'Colab Notebooks'\u001b[0m/\n",
      "'Documento sin título.gdoc'\n",
      "'Explicaciones - Semana1.xlsx'\n",
      " \u001b[01;34mMathlab\u001b[0m/\n",
      " \u001b[01;34mtfg\u001b[0m/\n"
     ]
    }
   ],
   "source": [
    "%ls /content/gdrive/MyDrive/"
   ]
  },
  {
   "cell_type": "code",
   "execution_count": null,
   "metadata": {
    "colab": {
     "base_uri": "https://localhost:8080/"
    },
    "id": "YpBiHwBjauJk",
    "outputId": "ca0c46e0-a274-4e66-b5ae-3d94470f8f6e"
   },
   "outputs": [
    {
     "name": "stdout",
     "output_type": "stream",
     "text": [
      "cp: cannot stat './gdrive/MyDrive/Colab\\ Notebooks/quijote.txt': No such file or directory\n"
     ]
    }
   ],
   "source": [
    "#!cp \"/content/gdrive/My Drive/quijote.txt\" .\n",
    "# Nota: He tenido que añadir la ruta esta para concreta para que lo lea en mi drive\n",
    "!cp \"./gdrive/MyDrive/Colab\\ Notebooks/quijote.txt\" ."
   ]
  },
  {
   "cell_type": "code",
   "execution_count": null,
   "metadata": {
    "colab": {
     "base_uri": "https://localhost:8080/"
    },
    "id": "TmlBII6cbiIt",
    "outputId": "cd271460-8e62-4192-cea7-2e9bb35f5237"
   },
   "outputs": [
    {
     "name": "stdout",
     "output_type": "stream",
     "text": [
      "total 876960\n",
      "drwxr-xr-x  1 root root      4096 Oct  9 20:41 \u001b[0m\u001b[01;34m.\u001b[0m/\n",
      "drwxr-xr-x  1 root root      4096 Oct  9 19:04 \u001b[01;34m..\u001b[0m/\n",
      "drwxr-xr-x  4 root root      4096 Oct  5 13:34 \u001b[01;34m.config\u001b[0m/\n",
      "drwx------  5 root root      4096 Oct  9 19:28 \u001b[01;34mgdrive\u001b[0m/\n",
      "drwxr-xr-x  2 root root      4096 Oct  9 19:06 \u001b[01;34msalida2\u001b[0m/\n",
      "drwxr-xr-x  2 root root      4096 Oct  9 20:41 \u001b[01;34msalida3\u001b[0m/\n",
      "drwxr-xr-x  1 root root      4096 Oct  5 13:35 \u001b[01;34msample_data\u001b[0m/\n",
      "drwxr-xr-x 13 1000 1000      4096 Jun  9 20:37 \u001b[01;34mspark-3.3.0-bin-hadoop3\u001b[0m/\n",
      "-rw-r--r--  1 root root 299321244 Jun  9 20:39 spark-3.3.0-bin-hadoop3.tgz\n",
      "-rw-r--r--  1 root root 299321244 Jun  9 20:39 spark-3.3.0-bin-hadoop3.tgz.1\n",
      "-rw-r--r--  1 root root 299321244 Jun  9 20:39 spark-3.3.0-bin-hadoop3.tgz.2\n"
     ]
    }
   ],
   "source": [
    "%ls -la"
   ]
  },
  {
   "cell_type": "code",
   "execution_count": null,
   "metadata": {
    "colab": {
     "base_uri": "https://localhost:8080/",
     "height": 35
    },
    "id": "OgqJUkLqb5ZG",
    "outputId": "0665af96-120c-4a99-a923-41bfe247da38"
   },
   "outputs": [
    {
     "data": {
      "application/vnd.google.colaboratory.intrinsic+json": {
       "type": "string"
      },
      "text/plain": [
       "'/content'"
      ]
     },
     "execution_count": 217,
     "metadata": {},
     "output_type": "execute_result"
    }
   ],
   "source": [
    "%pwd\n",
    "\n"
   ]
  },
  {
   "cell_type": "markdown",
   "metadata": {
    "id": "y9E6_qc-a7GE"
   },
   "source": [
    "# Procesando el QUIJOTE"
   ]
  },
  {
   "cell_type": "code",
   "execution_count": null,
   "metadata": {
    "colab": {
     "base_uri": "https://localhost:8080/"
    },
    "id": "_Li3mX8ebMSi",
    "outputId": "9025c69f-b40e-4154-a85b-f2869beee702"
   },
   "outputs": [
    {
     "data": {
      "text/plain": [
       "['EL INGENIOSO HIDALGO DON QUIJOTE DE LA MANCHA',\n",
       " '',\n",
       " 'Miguel de Cervantes Saavedra',\n",
       " '',\n",
       " '     Capítulo primero',\n",
       " '',\n",
       " '     Que trata de la condición y ejercicio del famoso hidalgo D.',\n",
       " 'Quijote de la ',\n",
       " '     Mancha',\n",
       " '']"
      ]
     },
     "execution_count": 218,
     "metadata": {},
     "output_type": "execute_result"
    }
   ],
   "source": [
    "# Nota: He tenido que añadir la ruta esta para concreta para que lo lea en mi drive\n",
    "quijote = sc.textFile(\"gdrive/MyDrive/Colab\\ Notebooks/quijote.txt\")\n",
    "quijote.take(10)"
   ]
  },
  {
   "cell_type": "markdown",
   "metadata": {
    "id": "GDVSZOrYbrEt"
   },
   "source": [
    "Transformaciones"
   ]
  },
  {
   "cell_type": "code",
   "execution_count": null,
   "metadata": {
    "id": "ITsCl47JbfM_"
   },
   "outputs": [],
   "source": [
    "charsPerLine = quijote.map(lambda s: len(s))\n",
    "allWords = quijote.flatMap(lambda s: s.split())\n",
    "allWordsNoArticles = allWords.filter(lambda a: a.lower() not in [\"el\", \"la\"])\n",
    "allWordsUnique = allWords.map(lambda s: s.lower()).distinct()\n",
    "sampleWords = allWords.sample(withReplacement=True, fraction=0.2, seed=666)\n",
    "weirdSampling = sampleWords.union(allWordsNoArticles.sample(False, fraction=0.3))\n",
    "# cómo funciona cada transformación"
   ]
  },
  {
   "cell_type": "markdown",
   "metadata": {
    "id": "HxPQC3gSJ8t9"
   },
   "source": [
    "- `charsPerLine`: Caracteres por líneas. \n",
    "- `allWords`: Contiene un RRD cuyos elementos son variables de tipo `String` con las palabras del quijote.\n",
    "- `allWordsNoArticles`: Minimiza las palabras del RDD `allWords` y devuelve todas menos los artículos `el` y `la`.\n",
    "- `allWordsUnique`:  Minimiza las palabras del RDD `allWords` y deja solo un representante. \n",
    "- `sampleWords`: Toma una muestra aleatora de tamaño aproximadamente $20\\%$  del RRD de `allWords` con remplazamiento y semilla $666$. \n",
    "- `weirdSampling`: Devuelve un RDD que contiene los elementos de `sampleWords` y una mueestra aleatoria de `allWordsNoArticles` sin remplazamiento y de tamaño alrededor del $30\\%$.\n",
    "\n",
    "Se detallarán las funciones en la respuesta a TS2.1. \n"
   ]
  },
  {
   "cell_type": "code",
   "execution_count": null,
   "metadata": {
    "colab": {
     "base_uri": "https://localhost:8080/"
    },
    "id": "4kpZSOS7cAYr",
    "outputId": "c3825c98-452e-48ac-a22b-071c9e6c9ec1"
   },
   "outputs": [
    {
     "data": {
      "text/plain": [
       "['el',\n",
       " 'hidalgo',\n",
       " 'don',\n",
       " 'mancha',\n",
       " 'saavedra',\n",
       " 'que',\n",
       " 'condición',\n",
       " 'y',\n",
       " 'del',\n",
       " 'd.']"
      ]
     },
     "execution_count": 220,
     "metadata": {},
     "output_type": "execute_result"
    }
   ],
   "source": [
    "allWordsUnique.take(10)"
   ]
  },
  {
   "cell_type": "markdown",
   "metadata": {
    "id": "PpAuT-AkcRyf"
   },
   "source": [
    "## Pregunta TS2.1 Explica la utilidad de cada transformación y detalle para cada una de ellas si cambia el número de elementos en el RDD resultante. Es decir si el RDD de partida tiene N elementos, y el de salida M elementos, indica si N>M, N=M o N<M."
   ]
  },
  {
   "cell_type": "markdown",
   "metadata": {
    "id": "-0Xj_MR9eVCf"
   },
   "source": [
    "-  map\n",
    "- flatmap\n",
    "- filter\n",
    "- distinct\n",
    "- sample\n",
    "- union\n"
   ]
  },
  {
   "cell_type": "markdown",
   "metadata": {
    "id": "gCasPZBmyHaI"
   },
   "source": [
    "## Respuesta TS2.1\n",
    "\n",
    "### Map\n",
    "\n",
    "Los argumentos de `map` son `map(f) ` donde `f` a cuyo dominio pertenecen los elementos del RDD. \n",
    "\n",
    "El RDD resultante son las respectivas imágenes de aplicar los elementos del RDD de entrada a `f`. \n",
    "\n",
    "Es por ello que N = M.\n",
    "\n",
    "Ejemplo: \n"
   ]
  },
  {
   "cell_type": "code",
   "execution_count": null,
   "metadata": {
    "colab": {
     "base_uri": "https://localhost:8080/"
    },
    "id": "C1gRqw9r0Chd",
    "outputId": "139126ea-6be1-49c9-cb96-6727c2c3dd72"
   },
   "outputs": [
    {
     "name": "stdout",
     "output_type": "stream",
     "text": [
      "[0, 11, 22, 33, 44, 55, 66, 77, 88, 99]\n"
     ]
    }
   ],
   "source": [
    "numeros = sc.parallelize(list(range(10)))\n",
    "rdd = numeros.map(lambda x: x*10+x)\n",
    "print(rdd.collect())"
   ]
  },
  {
   "cell_type": "markdown",
   "metadata": {
    "id": "04LaBAYX0ivk"
   },
   "source": [
    "### Flatmap\n",
    "Funciona como un `map` el cual generaría un RDD cuyos elementos deben ser iterables, a éstos se le aplica la operación de *flattening*, es decir *saca* los elementos que estén en una lista (solo actúa a un nivel, una lista de lista devolvería una lista). \n",
    "\n",
    "No se puede establecer que ninguna relación entre N y M ya que si hay listas  vacías entonces pudiera darse el caso que N > M (ver ejemplo 2 que se mostrará a continuación). Aunque si imponemos que no hay listas vacías entonces $N \\leq M$. \n",
    "\n"
   ]
  },
  {
   "cell_type": "code",
   "execution_count": null,
   "metadata": {
    "colab": {
     "base_uri": "https://localhost:8080/"
    },
    "id": "E-Fjgm5C2m_U",
    "outputId": "5c4d21b9-0c03-47d9-8806-291acefb9ed2"
   },
   "outputs": [
    {
     "name": "stdout",
     "output_type": "stream",
     "text": [
      "[0, 0, 1, 11, 2, 22, 3, 33, 4, 44, 5, 55, 6, 66, 7, 77, 8, 88, 9, 99]\n",
      "Ejemplo 2: si se aplicara un map solo  solo:\n",
      " [[], [[]], [[[]]]]\n",
      "Ejemplo 2: de qué habría en un flapMap:\n",
      " [[], [[]]]\n",
      "Ejemplo 3: si se aplicara un map solo:\n",
      " [[0], [1], [[1]]]\n",
      "Ejemplo 3: si se aplicara un flapMap:\n",
      " [0, 1, [1]]\n"
     ]
    }
   ],
   "source": [
    "# Ejemplo 1: N < M\n",
    "numeros = sc.parallelize(list(range(10)))\n",
    "rdd = numeros.flatMap(lambda x: [x,x*10+x])\n",
    "print(rdd.collect())\n",
    "\n",
    "# Ejemplo 2: N > M\n",
    "def lista_recursiva (n):\n",
    "  if n <= 1:\n",
    "    return []\n",
    "  else:\n",
    "    return [lista_recursiva(n-1)]\n",
    "numeros = sc.parallelize(list(range(1,4)))\n",
    "print(\"Ejemplo 2: si se aplicara un map solo  solo:\\n\",\n",
    "      numeros.map(lambda x: lista_recursiva(x)).collect())\n",
    "print(\"Ejemplo 2: de qué habría en un flapMap:\\n\",\n",
    "      numeros.flatMap(lambda x: lista_recursiva(x)).collect())\n",
    "\n",
    "# Ejemplo 3: N = M\n",
    "def lista_recursiva_2 (n):\n",
    "  if n <= 1:\n",
    "    return [n]\n",
    "  else:\n",
    "    return [lista_recursiva_2(n-1)]\n",
    "\n",
    "numeros = sc.parallelize(list(range(3)))\n",
    "print(\"Ejemplo 3: si se aplicara un map solo:\\n\",\n",
    "      numeros.map(lambda x: lista_recursiva_2(x)).collect())\n",
    "\n",
    "print(\"Ejemplo 3: si se aplicara un flapMap:\\n\",\n",
    "      numeros.flatMap(lambda x: lista_recursiva_2(x)).collect())\n",
    "\n"
   ]
  },
  {
   "cell_type": "markdown",
   "metadata": {
    "id": "88U_QGHI2jvy"
   },
   "source": [
    "## Filter \n",
    "\n",
    "Recive una función con dominio en los elemntos del RDD de partida y salida un booleano. \n",
    "Devuelve un RDD con los elementos cuya imagen sea `True`.\n",
    "En este caso $N \\geq M$, donde la igualdad se dará si todos los elementos tienen imagen `True`."
   ]
  },
  {
   "cell_type": "code",
   "execution_count": null,
   "metadata": {
    "colab": {
     "base_uri": "https://localhost:8080/"
    },
    "id": "vx546pQ9uxSY",
    "outputId": "1cacd9d5-2026-4f3c-a490-91a6ad476827"
   },
   "outputs": [
    {
     "name": "stdout",
     "output_type": "stream",
     "text": [
      "[0, 1]\n"
     ]
    }
   ],
   "source": [
    "numeros = sc.parallelize([0,1,2,3,4])\n",
    "rddi = numeros.filter(lambda x: x < 2) # Mostrará los números menores de dos\n",
    "print(rddi.collect())"
   ]
  },
  {
   "cell_type": "markdown",
   "metadata": {
    "id": "s6bXR4Xk99zM"
   },
   "source": [
    "## Distinct \n",
    "\n",
    "Elimina los elementos repetidos dejando solo una incidencia de ellos. \n",
    "Por tanto $N \\geq M$ donde la igualdad se da si no hay ningún elemento repetido. \n"
   ]
  },
  {
   "cell_type": "code",
   "execution_count": null,
   "metadata": {
    "colab": {
     "base_uri": "https://localhost:8080/"
    },
    "id": "hejOPrl494hV",
    "outputId": "b62ad671-f9bc-42c3-ca1d-aa6b362a0cd1"
   },
   "outputs": [
    {
     "name": "stdout",
     "output_type": "stream",
     "text": [
      "[0, 2, 1]\n",
      "[('a', 1), ('a', 2), ('b', 1)]\n"
     ]
    }
   ],
   "source": [
    "# Ejemplo sencillo\n",
    "n = sc.parallelize([0,0,1,1,0,2])\n",
    "rdd = n.distinct()\n",
    "print(rdd.collect())\n",
    "\n",
    "# Ejemplo complejo, compara elemento a elemento\n",
    "n = sc.parallelize([('a',2),('a',2), ('a',1), ('b',1),])\n",
    "rdd = n.distinct()\n",
    "print(rdd.collect())"
   ]
  },
  {
   "cell_type": "markdown",
   "metadata": {
    "id": "1zUNxlId_rtL"
   },
   "source": [
    "## Sample\n",
    "\n",
    "Es un mecanismo para extraes muestras aleatorias, sus argumentos son: \n",
    "`sample(withReplacement, fraction, seed=None`\n",
    "- `withReplacement`: booleano que indica si hay reemplazamiento. \n",
    "- `fraction`: decimal en $[0,1]$ fracción de la mustra que se desea. **No se garantiza que la muestra siempre de esa fracción, puede ser menor o mayor**.\n",
    "- `seed` semilla. \n",
    "\n",
    "Por la observación de que no se garantice la fracción no se puede establecer ninguna relación de orden entre $N$ y $M$, mostramos tales situaciones a continuación. "
   ]
  },
  {
   "cell_type": "code",
   "execution_count": null,
   "metadata": {
    "colab": {
     "base_uri": "https://localhost:8080/"
    },
    "id": "aZ4CGrmYA9py",
    "outputId": "c2f71c94-1ff5-4b98-b35b-a9c3978ca5a4"
   },
   "outputs": [
    {
     "name": "stdout",
     "output_type": "stream",
     "text": [
      "RDD de partida [0, 1, 2, 3, 4] N = 5\n",
      "Ejemplo 1: N > M\n",
      "[3, 4]\n",
      "Ejemplo 2: N < M\n",
      "[0, 0, 1, 1, 2, 3, 3, 4, 4, 4, 4]\n",
      "Ejemplo 3: N = M\n",
      "[0, 1, 2, 3, 4]\n"
     ]
    }
   ],
   "source": [
    "# Ejemplo 1: N > M\n",
    "print(f'RDD de partida {list(range(5))} N = 5')\n",
    "print('Ejemplo 1: N > M')\n",
    "numeros = sc.parallelize(list(range(5)))\n",
    "rdd = numeros.sample(True, 0.5, 0)\n",
    "print(rdd.collect())\n",
    "# Ejemplo 2: N < M\n",
    "print('Ejemplo 2: N < M')\n",
    "numeros = sc.parallelize(list(range(5)))\n",
    "rdd = numeros.sample(True, 1,1)\n",
    "print(rdd.collect())\n",
    "# Ejemplo 3: N = M\n",
    "print('Ejemplo 3: N = M')\n",
    "numeros = sc.parallelize(list(range(5)))\n",
    "rdd = numeros.sample(False, 1,1)\n",
    "print(rdd.collect())"
   ]
  },
  {
   "cell_type": "markdown",
   "metadata": {
    "id": "PEGKcBqM_vwL"
   },
   "source": [
    "## Union\n",
    "\n",
    "Dados dos RDD devuelve la unión de los dos, es decir, uno RDD con todos los elementos de ambos (cabe destacar que en caso de estar repetidos los elementos los volvería a repetir). \n",
    "Para este si $N_1, N_2$ son los respectivos tamaños de los RDD de entrada y $M$ el de salida se cumple que\n",
    "$N_1 + N_2 = M$"
   ]
  },
  {
   "cell_type": "code",
   "execution_count": null,
   "metadata": {
    "colab": {
     "base_uri": "https://localhost:8080/"
    },
    "id": "smn8gHH9Er5S",
    "outputId": "87704f0a-9f2f-4fc9-be2f-6e78cdc82362"
   },
   "outputs": [
    {
     "name": "stdout",
     "output_type": "stream",
     "text": [
      "[1, 2, 3, 1, 3, 5]\n",
      "[1, 2, 3, '1', '3', '5']\n"
     ]
    }
   ],
   "source": [
    "# Ejemplos 1: \n",
    "n1 = sc.parallelize([1,2,3])\n",
    "n2 = sc.parallelize([1,3,5])\n",
    "m = n1.union(n2)\n",
    "print (m.collect())\n",
    "\n",
    "# Ejemplo 2: Une elementos de distinto tipo\n",
    "n1 = sc.parallelize([1,2,3])\n",
    "n2 = sc.parallelize(['1','3','5'])\n",
    "m = n1.union(n2)\n",
    "print (m.collect())"
   ]
  },
  {
   "cell_type": "code",
   "execution_count": null,
   "metadata": {
    "colab": {
     "base_uri": "https://localhost:8080/"
    },
    "id": "PWJlgOUDcQhc",
    "outputId": "51f154df-5f90-478a-afcb-8c19c0b74fc5"
   },
   "outputs": [
    {
     "data": {
      "text/plain": [
       "(5534,\n",
       " 305678,\n",
       " ['procuremos.Levántate,',\n",
       "  'estrechísimamente,',\n",
       "  'Pintiquiniestra,',\n",
       "  'entretenimiento,',\n",
       "  'maravillosamente',\n",
       "  'descansadamente;',\n",
       "  'desenfadadamente',\n",
       "  'quebrantamientos',\n",
       "  'quebrantamiento,',\n",
       "  'alternativamente',\n",
       "  'encantamientos,',\n",
       "  'Placerdemivida,',\n",
       "  'encantamientos;',\n",
       "  'malbaratándolas',\n",
       "  'regocijadamente',\n",
       "  'consentimiento,',\n",
       "  'desaconsejaban,',\n",
       "  'acontecimiento.',\n",
       "  'agradeciéndoles',\n",
       "  'encantamientos,'])"
      ]
     },
     "execution_count": 227,
     "metadata": {},
     "output_type": "execute_result"
    }
   ],
   "source": [
    "numLines = quijote.count()\n",
    "numChars = charsPerLine.reduce(lambda a,b: a+b) # also charsPerLine.sum()\n",
    "sortedWordsByLength = allWordsNoArticles.takeOrdered(20, key=lambda x: -len(x))\n",
    "numLines, numChars, sortedWordsByLength"
   ]
  },
  {
   "cell_type": "markdown",
   "metadata": {
    "id": "hIpuogySgB4N"
   },
   "source": [
    "## Pregunta TS2.2 Explica el funcionamiento de cada acción anterior \n",
    "\n",
    "\n",
    "\n"
   ]
  },
  {
   "cell_type": "markdown",
   "metadata": {
    "id": "HFT6wKfQH6C7"
   },
   "source": [
    "- Tengamos presente que `quijote` es un RDD donde cada elemento es una línea del quijote. \n",
    "Por lo que  `quijote.count()` dirá el número de líneas del quijote. \n",
    "\n",
    "- La variable `charsPerLine` contiene el número de caracteres que hay en cada línea, luego\n",
    "`numChars = charsPerLine.reduce(lambda a,b: a+b) # also charsPerLine.sum(` devuelve el número de caracteres total. \n",
    "\n",
    "- La variable `allWordsNoArticles` continee las palabras minimizadas con un único representante. \n",
    "por lo que \n",
    "```python\n",
    "sortedWordsByLength = allWordsNoArticles.takeOrdered(20, key=lambda x: -len(x))\n",
    "```\n",
    "Toma las 20 primeras ordenadas de mayor tamaño a menor. \n",
    "\n"
   ]
  },
  {
   "cell_type": "markdown",
   "metadata": {
    "id": "VO42UuFpNFii"
   },
   "source": [
    "## Pregunta: Implementa la opción count de otra manera:\n",
    "\n",
    "\n",
    "*   utilizando transformaciones map y reduce\n",
    "*   utilizando solo reduce en caso de que sea posible.\n",
    "\n",
    "### Respuesta \n",
    "\n",
    "#### Utilizando transformaciones map y reduce\n",
    "\n",
    "Cada línea se mapeará por un 1 y con reduce se sumarán. "
   ]
  },
  {
   "cell_type": "code",
   "execution_count": null,
   "metadata": {
    "colab": {
     "base_uri": "https://localhost:8080/"
    },
    "id": "IWe7u-hSNdpb",
    "outputId": "ce61592a-2d00-46e7-a9cf-5361541eb350"
   },
   "outputs": [
    {
     "name": "stdout",
     "output_type": "stream",
     "text": [
      "5534\n"
     ]
    }
   ],
   "source": [
    "lineas = quijote.map(lambda linea : 1)\n",
    "suma_lineas = lineas.reduce(lambda x,y: x+y)\n",
    "print(suma_lineas)"
   ]
  },
  {
   "cell_type": "markdown",
   "metadata": {
    "id": "53QQs3voOHiY"
   },
   "source": [
    "### Utilizando solo reduce \n",
    "\n",
    "La idea clave está en la función del reduce, que debe de ser capaz de tener como entrada cadenas de caracteres y números. \n",
    "\n",
    "Si se encuentra con una cadena de caracter es porque se trata de una línea que debe de ser contada, por tanto la cambia a 1 y la suma. \n",
    "\n",
    "Si se encuentra un número es de la cuenta anteriores y por tanto lo suma tal cual. "
   ]
  },
  {
   "cell_type": "code",
   "execution_count": null,
   "metadata": {
    "colab": {
     "base_uri": "https://localhost:8080/"
    },
    "id": "Hoajf78LOVMN",
    "outputId": "a0868e5d-0253-4eb2-98a6-fa55dea24d4b"
   },
   "outputs": [
    {
     "name": "stdout",
     "output_type": "stream",
     "text": [
      "5534\n"
     ]
    }
   ],
   "source": [
    "def reduce_suma_lineas(x,y):\n",
    "  if type(x) == str:\n",
    "    x = 1\n",
    "  if type(y) == str:\n",
    "    y = 1\n",
    "  return x+y\n",
    "\n",
    "suma_lineas = quijote.reduce(reduce_suma_lineas)\n",
    "print(suma_lineas)"
   ]
  },
  {
   "cell_type": "markdown",
   "metadata": {
    "id": "PkXwuhGuhrQD"
   },
   "source": [
    "# Operaciones K-V (Clave Valor)"
   ]
  },
  {
   "cell_type": "code",
   "execution_count": null,
   "metadata": {
    "id": "5JAWu58dhpWk"
   },
   "outputs": [],
   "source": [
    "import requests\n",
    "import re\n",
    "allWords = allWords.flatMap(lambda w: re.sub(\"\"\";|:|\\.|,|-|–|\"|'|\\s\"\"\",\" \", w.lower()).split(\" \")).filter(lambda a: len(a)>0)\n",
    "allWords2 = sc.parallelize(requests.get(\"https://gist.githubusercontent.com/jsdario/9d871ed773c81bf217f57d1db2d2503f/raw/585de69b0631c805dabc6280506717943b82ba4a/el_quijote_ii.txt\").iter_lines())\n",
    "allWords2 = allWords2.flatMap(lambda w: re.sub(\"\"\";|:|\\.|,|-|–|\"|'|\\s\"\"\",\" \", w.decode(\"utf8\").lower()).split(\" \")).filter(lambda a: len(a)>0)"
   ]
  },
  {
   "cell_type": "code",
   "execution_count": null,
   "metadata": {
    "colab": {
     "base_uri": "https://localhost:8080/"
    },
    "id": "NCsub2OPjCyD",
    "outputId": "e15c5789-5a63-46cc-cf09-ed5e94ec1214"
   },
   "outputs": [
    {
     "data": {
      "text/plain": [
       "['el',\n",
       " 'ingenioso',\n",
       " 'hidalgo',\n",
       " 'don',\n",
       " 'quijote',\n",
       " 'de',\n",
       " 'la',\n",
       " 'mancha',\n",
       " 'miguel',\n",
       " 'de']"
      ]
     },
     "execution_count": 231,
     "metadata": {},
     "output_type": "execute_result"
    }
   ],
   "source": [
    "allWords.take(10)"
   ]
  },
  {
   "cell_type": "code",
   "execution_count": null,
   "metadata": {
    "colab": {
     "base_uri": "https://localhost:8080/"
    },
    "id": "1W2pNxR1jKib",
    "outputId": "17fff9cc-73dd-410e-831e-414a673923f0"
   },
   "outputs": [
    {
     "data": {
      "text/plain": [
       "['don',\n",
       " 'quijote',\n",
       " 'de',\n",
       " 'la',\n",
       " 'mancha',\n",
       " 'miguel',\n",
       " 'de',\n",
       " 'cervantes',\n",
       " 'saavedra',\n",
       " 'segunda']"
      ]
     },
     "execution_count": 232,
     "metadata": {},
     "output_type": "execute_result"
    }
   ],
   "source": [
    "allWords2.take(10)"
   ]
  },
  {
   "cell_type": "code",
   "execution_count": null,
   "metadata": {
    "colab": {
     "base_uri": "https://localhost:8080/"
    },
    "id": "L61OV1NHkBLZ",
    "outputId": "c93525bd-bd62-4557-d9fe-26888827bd6f"
   },
   "outputs": [
    {
     "data": {
      "text/plain": [
       "[('el', 1),\n",
       " ('ingenioso', 1),\n",
       " ('hidalgo', 1),\n",
       " ('don', 1),\n",
       " ('quijote', 1),\n",
       " ('de', 1),\n",
       " ('la', 1),\n",
       " ('mancha', 1),\n",
       " ('miguel', 1),\n",
       " ('de', 1)]"
      ]
     },
     "execution_count": 233,
     "metadata": {},
     "output_type": "execute_result"
    }
   ],
   "source": [
    "words = allWords.map(lambda e: (e,1))\n",
    "words2 = allWords2.map(lambda e: (e,1))\n",
    "\n",
    "words.take(10)"
   ]
  },
  {
   "cell_type": "code",
   "execution_count": null,
   "metadata": {
    "colab": {
     "base_uri": "https://localhost:8080/"
    },
    "id": "wqtEo2j9kPuk",
    "outputId": "2604e5ce-0e5a-4f50-af3b-e3de711f56a2"
   },
   "outputs": [
    {
     "data": {
      "text/plain": [
       "[('que', 3032),\n",
       " ('de', 2809),\n",
       " ('y', 2573),\n",
       " ('a', 1426),\n",
       " ('la', 1423),\n",
       " ('el', 1232),\n",
       " ('en', 1155),\n",
       " ('no', 903),\n",
       " ('se', 753),\n",
       " ('los', 696)]"
      ]
     },
     "execution_count": 234,
     "metadata": {},
     "output_type": "execute_result"
    }
   ],
   "source": [
    "frequencies = words.reduceByKey(lambda a,b: a+b)\n",
    "frequencies2 = words2.reduceByKey(lambda a,b: a+b)\n",
    "frequencies.takeOrdered(10, key=lambda a: -a[1])"
   ]
  },
  {
   "cell_type": "code",
   "execution_count": null,
   "metadata": {
    "colab": {
     "base_uri": "https://localhost:8080/"
    },
    "id": "CtlQosYPk3M7",
    "outputId": "273a9395-1bd8-4263-ce71-f4d55e4ee664"
   },
   "outputs": [
    {
     "data": {
      "text/plain": [
       "[('el', <pyspark.resultiterable.ResultIterable at 0x7f2083796890>),\n",
       " ('hidalgo', <pyspark.resultiterable.ResultIterable at 0x7f2083796f10>),\n",
       " ('don', <pyspark.resultiterable.ResultIterable at 0x7f2083796c10>),\n",
       " ('mancha', <pyspark.resultiterable.ResultIterable at 0x7f2083796450>),\n",
       " ('saavedra', <pyspark.resultiterable.ResultIterable at 0x7f20837967d0>),\n",
       " ('que', <pyspark.resultiterable.ResultIterable at 0x7f2083796b10>),\n",
       " ('condición', <pyspark.resultiterable.ResultIterable at 0x7f2083796650>),\n",
       " ('y', <pyspark.resultiterable.ResultIterable at 0x7f2083796f50>),\n",
       " ('del', <pyspark.resultiterable.ResultIterable at 0x7f2083796790>),\n",
       " ('d', <pyspark.resultiterable.ResultIterable at 0x7f2083796110>)]"
      ]
     },
     "execution_count": 235,
     "metadata": {},
     "output_type": "execute_result"
    }
   ],
   "source": [
    "res = words.groupByKey().takeOrdered(10, key=lambda a: -len(a))\n",
    "res # To see the content, res[i][1].data\n",
    "#res[i][1].data"
   ]
  },
  {
   "cell_type": "code",
   "execution_count": null,
   "metadata": {
    "colab": {
     "base_uri": "https://localhost:8080/"
    },
    "id": "7nmgk3ZmlFlW",
    "outputId": "25566a2a-f3f0-423a-f48b-9faef7c67829"
   },
   "outputs": [
    {
     "data": {
      "text/plain": [
       "[('el', (1232, 4394)),\n",
       " ('hidalgo', (14, 42)),\n",
       " ('don', (370, 1606)),\n",
       " ('mancha', (26, 101)),\n",
       " ('saavedra', (1, 1)),\n",
       " ('que', (3032, 10040)),\n",
       " ('y', (2573, 9650)),\n",
       " ('del', (415, 1344)),\n",
       " ('en', (1155, 4223)),\n",
       " ('cuyo', (11, 35))]"
      ]
     },
     "execution_count": 236,
     "metadata": {},
     "output_type": "execute_result"
    }
   ],
   "source": [
    "joinFreq = frequencies.join(frequencies2)\n",
    "joinFreq.take(10)"
   ]
  },
  {
   "cell_type": "code",
   "execution_count": null,
   "metadata": {
    "colab": {
     "base_uri": "https://localhost:8080/"
    },
    "id": "UOY-R88Fl1vq",
    "outputId": "2d429fb4-c1d4-41cb-cce0-13efe9b3cf7f"
   },
   "outputs": [
    {
     "data": {
      "text/plain": [
       "([('pieza', 0.8),\n",
       "  ('corral', 0.8),\n",
       "  ('rodela', 0.7777777777777778),\n",
       "  ('curar', 0.75),\n",
       "  ('valle', 0.75),\n",
       "  ('entierro', 0.75),\n",
       "  ('oh', 0.7142857142857143),\n",
       "  ('licor', 0.7142857142857143),\n",
       "  ('difunto', 0.7142857142857143),\n",
       "  ('pago', 0.6666666666666666)],\n",
       " [('teresa', -0.9767441860465116),\n",
       "  ('roque', -0.96),\n",
       "  ('paje', -0.9565217391304348),\n",
       "  ('duque', -0.9565217391304348),\n",
       "  ('blanca', -0.9565217391304348),\n",
       "  ('gobernador', -0.9503105590062112),\n",
       "  ('diego', -0.9459459459459459),\n",
       "  ('tarde', -0.9428571428571428),\n",
       "  ('mesmo', -0.9381443298969072),\n",
       "  ('letras', -0.9354838709677419)])"
      ]
     },
     "execution_count": 237,
     "metadata": {},
     "output_type": "execute_result"
    }
   ],
   "source": [
    "joinFreq.map(lambda e: (e[0], (e[1][0] - e[1][1])/(e[1][0] + e[1][1]))).takeOrdered(10, lambda v: -v[1]), joinFreq.map(lambda e: (e[0], (e[1][0] - e[1][1])/(e[1][0] + e[1][1]))).takeOrdered(10, lambda v: +v[1])"
   ]
  },
  {
   "cell_type": "markdown",
   "metadata": {
    "id": "Xzt9cj-RmLta"
   },
   "source": [
    "## Pregunta TS2.3 Explica el proposito de cada una de las operaciones anteriores"
   ]
  },
  {
   "cell_type": "markdown",
   "metadata": {
    "id": "frWC9CbUN6K7"
   },
   "source": [
    "Las operaciones en cadena son: \n",
    "\n",
    "1. `. joinFreq.map(lambda e: (e[0], (e[1][0] - e[1][1])/(e[1][0] + e[1][1])))`\n",
    "Devuelve una tupla con la palabra y la diferencia entre el números de operaciones en la primera parte del Quijote menos las apariciones en la segunda parte entre la suma total de las apariciones en los dos libros. \n",
    "\n",
    "La idea que subyace en el cálculo es ver si la frecuencia de aparición de palabras es la misma. Será próxima a cero si es así, cercana a menos uno si aparece mayoritariamente el el segundo y cercana a uno si lo es en primero. \n",
    "\n",
    "2. `takeOrdered(10, lambda v: -v[1])`\n",
    "Ordena de mayor a menor las frecuencias optenidas. \n",
    "\n",
    "\n",
    "3. `joinFreq.map(lambda e: (e[0], (e[1][0] - e[1][1])/(e[1][0] + e[1][1]))`\n",
    "\n",
    "Repite el paso 1. \n",
    "\n",
    "4. `takeOrdered(10, lambda v: +v[1])`\n",
    "Ahora ordena de de menor a mayor las frecuencias. "
   ]
  },
  {
   "cell_type": "markdown",
   "metadata": {
    "id": "I9Hx1bZ2mc-V"
   },
   "source": [
    "## Pregunta TS2.4 ¿Cómo puede implementarse la frecuencia con groupByKey y transformaciones?"
   ]
  },
  {
   "cell_type": "code",
   "execution_count": null,
   "metadata": {
    "colab": {
     "base_uri": "https://localhost:8080/"
    },
    "id": "HiuL6clvl-JS",
    "outputId": "d524b265-001c-410d-c052-94e1317c562b"
   },
   "outputs": [
    {
     "data": {
      "text/plain": [
       "[('el', 1232),\n",
       " ('hidalgo', 14),\n",
       " ('don', 370),\n",
       " ('mancha', 26),\n",
       " ('saavedra', 1),\n",
       " ('que', 3032),\n",
       " ('condición', 16),\n",
       " ('y', 2573),\n",
       " ('del', 415),\n",
       " ('d', 14)]"
      ]
     },
     "execution_count": 238,
     "metadata": {},
     "output_type": "execute_result"
    }
   ],
   "source": [
    "frequencies_group = words.groupByKey().map(lambda e: (e[0],sum(list(e[1]))))\n",
    "frequencies_group.take(10)"
   ]
  },
  {
   "cell_type": "markdown",
   "metadata": {
    "id": "BiZwz7sOnBvF"
   },
   "source": [
    "# Optimizaciones\n"
   ]
  },
  {
   "cell_type": "markdown",
   "metadata": {
    "id": "avupEVWQnIL5"
   },
   "source": [
    "## Pregunta TS2.5 ¿Cuál de las dos siguientes celdas es más eficiente? Justifique la respuesta."
   ]
  },
  {
   "cell_type": "markdown",
   "metadata": {
    "id": "P7yq2IEeY5e3"
   },
   "source": [
    "La más eficiente es la segunda, puesto que se está guardando en caché los datos y la operación de cálculo de apariciones no tiene que repetirse. "
   ]
  },
  {
   "cell_type": "code",
   "execution_count": null,
   "metadata": {
    "colab": {
     "base_uri": "https://localhost:8080/"
    },
    "id": "I0_XRWcOndr6",
    "outputId": "6dca7789-3913-4259-a953-3a62994d9273"
   },
   "outputs": [
    {
     "data": {
      "text/plain": [
       "([('pieza', 0.8),\n",
       "  ('corral', 0.8),\n",
       "  ('rodela', 0.7777777777777778),\n",
       "  ('curar', 0.75),\n",
       "  ('valle', 0.75),\n",
       "  ('entierro', 0.75),\n",
       "  ('oh', 0.7142857142857143),\n",
       "  ('licor', 0.7142857142857143),\n",
       "  ('difunto', 0.7142857142857143),\n",
       "  ('pago', 0.6666666666666666)],\n",
       " [('teresa', -0.9767441860465116),\n",
       "  ('roque', -0.96),\n",
       "  ('paje', -0.9565217391304348),\n",
       "  ('duque', -0.9565217391304348),\n",
       "  ('blanca', -0.9565217391304348),\n",
       "  ('gobernador', -0.9503105590062112),\n",
       "  ('diego', -0.9459459459459459),\n",
       "  ('tarde', -0.9428571428571428),\n",
       "  ('mesmo', -0.9381443298969072),\n",
       "  ('letras', -0.9354838709677419)])"
      ]
     },
     "execution_count": 239,
     "metadata": {},
     "output_type": "execute_result"
    }
   ],
   "source": [
    "joinFreq.map(lambda e: (e[0], (e[1][0] - e[1][1])/(e[1][0] + e[1][1]))).takeOrdered(10, lambda v: -v[1]), joinFreq.map(lambda e: (e[0], (e[1][0] - e[1][1])/(e[1][0] + e[1][1]))).takeOrdered(10, lambda v: +v[1])"
   ]
  },
  {
   "cell_type": "code",
   "execution_count": null,
   "metadata": {
    "colab": {
     "base_uri": "https://localhost:8080/"
    },
    "id": "XKw7IizNnaKA",
    "outputId": "ade9cff5-a769-4fee-d4ba-fdebb89016a3"
   },
   "outputs": [
    {
     "data": {
      "text/plain": [
       "([('pieza', 0.8),\n",
       "  ('corral', 0.8),\n",
       "  ('rodela', 0.7777777777777778),\n",
       "  ('curar', 0.75),\n",
       "  ('valle', 0.75),\n",
       "  ('entierro', 0.75),\n",
       "  ('oh', 0.7142857142857143),\n",
       "  ('licor', 0.7142857142857143),\n",
       "  ('difunto', 0.7142857142857143),\n",
       "  ('pago', 0.6666666666666666)],\n",
       " [('teresa', -0.9767441860465116),\n",
       "  ('roque', -0.96),\n",
       "  ('paje', -0.9565217391304348),\n",
       "  ('duque', -0.9565217391304348),\n",
       "  ('blanca', -0.9565217391304348),\n",
       "  ('gobernador', -0.9503105590062112),\n",
       "  ('diego', -0.9459459459459459),\n",
       "  ('tarde', -0.9428571428571428),\n",
       "  ('mesmo', -0.9381443298969072),\n",
       "  ('letras', -0.9354838709677419)])"
      ]
     },
     "execution_count": 240,
     "metadata": {},
     "output_type": "execute_result"
    }
   ],
   "source": [
    "result = joinFreq.map(lambda e: (e[0], (e[1][0] - e[1][1])/(e[1][0] + e[1][1])))\n",
    "result.cache()\n",
    "result.takeOrdered(10, lambda v: -v[1]), result.takeOrdered(10, lambda v: +v[1])"
   ]
  },
  {
   "cell_type": "code",
   "execution_count": null,
   "metadata": {
    "colab": {
     "base_uri": "https://localhost:8080/"
    },
    "id": "Nq0ME9-NqJ2w",
    "outputId": "e27f9134-444b-4acc-e226-0903e0f2b606"
   },
   "outputs": [
    {
     "data": {
      "text/plain": [
       "MapPartitionsRDD[633] at coalesce at NativeMethodAccessorImpl.java:0"
      ]
     },
     "execution_count": 241,
     "metadata": {},
     "output_type": "execute_result"
    }
   ],
   "source": [
    "result.coalesce(numPartitions=2) # Avoids the data movement, so it tries to balance inside each machine\n",
    "result.repartition(numPartitions=2) # We don't care about data movement, this balance the whole thing to ensure all machines are used"
   ]
  },
  {
   "cell_type": "code",
   "execution_count": null,
   "metadata": {
    "colab": {
     "base_uri": "https://localhost:8080/"
    },
    "id": "79DLzM3WqaEF",
    "outputId": "c030d761-3c52-4313-fee1-926a58a3f122"
   },
   "outputs": [
    {
     "data": {
      "text/plain": [
       "[('el', -0.5620334162815499),\n",
       " ('hidalgo', -0.5),\n",
       " ('don', -0.6255060728744939),\n",
       " ('mancha', -0.5905511811023622),\n",
       " ('saavedra', 0.0),\n",
       " ('que', -0.5361077111383109),\n",
       " ('y', -0.5789904278818621),\n",
       " ('del', -0.5281409891984082),\n",
       " ('en', -0.5704722945332837),\n",
       " ('cuyo', -0.5217391304347826)]"
      ]
     },
     "execution_count": 242,
     "metadata": {},
     "output_type": "execute_result"
    }
   ],
   "source": [
    "result.take(10)\n",
    "allWords.cache() # allWords RDD must  stay in memory after computation, we made a checkpoint (well, it's a best effort, so must might be too strong)\n",
    "result.take(10)"
   ]
  },
  {
   "cell_type": "code",
   "execution_count": null,
   "metadata": {
    "colab": {
     "base_uri": "https://localhost:8080/"
    },
    "id": "NmdxjbAAqjIC",
    "outputId": "40f49289-f902-4f32-a076-ab9149595094"
   },
   "outputs": [
    {
     "data": {
      "text/plain": [
       "PythonRDD[637] at RDD at PythonRDD.scala:53"
      ]
     },
     "execution_count": 243,
     "metadata": {},
     "output_type": "execute_result"
    }
   ],
   "source": [
    "from pyspark import StorageLevel\n",
    "# https://spark.apache.org/docs/2.2.0/rdd-programming-guide.html#rdd-persistence\n",
    "allWords2.persist(StorageLevel.MEMORY_AND_DISK) # Now it will be preserved on disk also"
   ]
  },
  {
   "cell_type": "code",
   "execution_count": null,
   "metadata": {
    "id": "lPbqq1tYqo5H"
   },
   "outputs": [],
   "source": [
    "!rm -rf palabras_parte2\n",
    "allWords2.saveAsTextFile(\"palabras_parte2\")"
   ]
  },
  {
   "cell_type": "markdown",
   "metadata": {
    "id": "nW3ELXvSqtdn"
   },
   "source": [
    "## Pregunta TS2.6 Antes de guardar el fichero, utilice coalesce con diferente valores ¿Cuál es la diferencia?"
   ]
  },
  {
   "cell_type": "markdown",
   "metadata": {
    "id": "ADfnvm4QaI0m"
   },
   "source": [
    "De acorde a la documentación de [coalescence](https://spark.apache.org/docs/latest/api/python/reference/api/pyspark.RDD.coalesce.html)"
   ]
  },
  {
   "cell_type": "markdown",
   "metadata": {
    "id": "d5K2WrQzfYvZ"
   },
   "source": []
  },
  {
   "cell_type": "code",
   "execution_count": null,
   "metadata": {
    "colab": {
     "base_uri": "https://localhost:8080/"
    },
    "id": "Yi4ntEsWcp2U",
    "outputId": "cc3a2753-261d-4430-a14a-c74ac2a23a1e"
   },
   "outputs": [
    {
     "data": {
      "text/plain": [
       "2"
      ]
     },
     "execution_count": 253,
     "metadata": {},
     "output_type": "execute_result"
    }
   ],
   "source": [
    "allWords2.getNumPartitions()"
   ]
  },
  {
   "cell_type": "code",
   "execution_count": null,
   "metadata": {
    "colab": {
     "base_uri": "https://localhost:8080/"
    },
    "id": "U6B5XfRpgmgO",
    "outputId": "62ff6fad-ed93-4be4-f4c0-eec2e29de281"
   },
   "outputs": [
    {
     "name": "stdout",
     "output_type": "stream",
     "text": [
      "numero de particiones = 1\n",
      "part-00000  _SUCCESS\n",
      "numero de particiones = 2\n",
      "part-00000  part-00001\t_SUCCESS\n",
      "numero de particiones = 3\n",
      "part-00000  part-00001\t_SUCCESS\n",
      "numero de particiones = 4\n",
      "part-00000  part-00001\t_SUCCESS\n",
      "numero de particiones = 5\n",
      "part-00000  part-00001\t_SUCCESS\n",
      "numero de particiones = 6\n",
      "part-00000  part-00001\t_SUCCESS\n",
      "numero de particiones = 7\n",
      "part-00000  part-00001\t_SUCCESS\n",
      "numero de particiones = 8\n",
      "part-00000  part-00001\t_SUCCESS\n",
      "numero de particiones = 9\n",
      "part-00000  part-00001\t_SUCCESS\n"
     ]
    }
   ],
   "source": [
    "for j in range(1,10):\n",
    "  print(\"numero de particiones = {}\".format(j))\n",
    "  !rm -rf words_coalesce2\n",
    "  allWords = allWords2.coalesce(numPartitions=j).saveAsTextFile(\"words_coalesce2\")\n",
    "  !ls words_coalesce2\n",
    "\n"
   ]
  },
  {
   "cell_type": "markdown",
   "metadata": {
    "id": "rn7Re9sPj3QW"
   },
   "source": [
    "Se observa que el número de particiones de disco se estanca cuando el número de particiones llega a 2, dejando así de incrementar su valor para las sucesivas. Cabe destacar, que sería equivalente el usar la función repartition, ya que no se tiene en cuenta que los datos se muevan en el disco para relizar dichas particiones."
   ]
  }
 ],
 "metadata": {
  "colab": {
   "collapsed_sections": [],
   "provenance": []
  },
  "kernelspec": {
   "display_name": "Python 3 (ipykernel)",
   "language": "python",
   "name": "python3"
  },
  "language_info": {
   "codemirror_mode": {
    "name": "ipython",
    "version": 3
   },
   "file_extension": ".py",
   "mimetype": "text/x-python",
   "name": "python",
   "nbconvert_exporter": "python",
   "pygments_lexer": "ipython3",
   "version": "3.9.7"
  },
  "vscode": {
   "interpreter": {
    "hash": "8c3d4d9970fc5c09c50d9318a9c7fbf4d0159e4b28833276f5678ee22bded273"
   }
  }
 },
 "nbformat": 4,
 "nbformat_minor": 1
}
