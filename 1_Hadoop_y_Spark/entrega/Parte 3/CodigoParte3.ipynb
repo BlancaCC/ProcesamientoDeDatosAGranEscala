{
 "cells": [
  {
   "cell_type": "markdown",
   "metadata": {
    "id": "2QxmBMBRGh_Z"
   },
   "source": [
    "# Práctica opcional Hadoop y Spark \n",
    "\n",
    "- Blanca Cano Camarero\n",
    "- Iker Villegas Labairu\n",
    "\n"
   ]
  },
  {
   "cell_type": "markdown",
   "metadata": {
    "id": "6PR5Ej6zG_R6"
   },
   "source": [
    "## Dataset 1: Análisis del comportamiento local de los diferentes equipos que han jugado en la Premier League inglesa  \n",
    "\n",
    "### Descripción del dataset \n",
    "\n",
    "Puede encontrar los datos en [aquí](https://www.kaggle.com/datasets/zaeemnalla/premier-league), nos vamos a centrar en el fichero `results.csv` que cuenta con las siguientes 6 columnas: \n",
    "\n",
    "- `home_team`: String, nombre del equipo que juega en casa, hay 39 valores únicos. \n",
    "\n",
    "- `home_goals`: Number, número de goles marcados por el equipo local.\n",
    "\n",
    "- `away_goals`:  Número de goles marcados por el equipo visitante.\n",
    "\n",
    "- `results`: String que puede ser `H,A,D` he indica al ganador. `H` para el local, `A` para el visitante, `D` si hay empate. \n",
    "\n",
    "\n",
    "En total hay $4560$ datos donde todos los atributos son correctos (ie no contiene valores perdidos o mal clasificados). \n",
    "\n",
    "### Objetivo de la aplicación   \n",
    "\n",
    "Se pretende saber cómo se comportan en local los equipos, es decir responder a las siguientes preguntas: \n",
    "\n",
    "1. ¿Cómo juega cada equipo en local en cada temporada?\n",
    "2. ¿Existe una tendencia a ganar más jugando como local?\n",
    "\n",
    "### Estructura de la solución propuesta\n",
    "\n",
    "Los pasos a seguir son: \n",
    "- Se cargarán los datos desde google drive.\n",
    "- No se realizará un preprocesamiento ya que todos los datos son correctos. \n",
    "- Con pyspark se realizará el tratamiento de los datos necesario para extraer la información. \n",
    "\n",
    "\n"
   ]
  },
  {
   "cell_type": "markdown",
   "metadata": {
    "id": "-U49A1OmVrhZ"
   },
   "source": [
    "### Subida de datos. \n",
    "\n",
    "Se ha añadido a google drive el fichero de `resultados` (puede encontrarlo en la carpeta). \n",
    "\n",
    "y ahora vamos a proceder a leerlo instalando antes todos los paquetes necesarios como ya hicimos en la práctica de Spark. \n"
   ]
  },
  {
   "cell_type": "code",
   "execution_count": 1,
   "metadata": {
    "colab": {
     "base_uri": "https://localhost:8080/",
     "height": 242
    },
    "id": "dtKNxGQsYpH2",
    "outputId": "eb685dfc-4013-4d5b-e01c-1dec53a58fca"
   },
   "outputs": [
    {
     "data": {
      "text/html": [
       "\n",
       "            <div>\n",
       "                <p><b>SparkSession - in-memory</b></p>\n",
       "                \n",
       "        <div>\n",
       "            <p><b>SparkContext</b></p>\n",
       "\n",
       "            <p><a href=\"http://82af4c36730e:4040\">Spark UI</a></p>\n",
       "\n",
       "            <dl>\n",
       "              <dt>Version</dt>\n",
       "                <dd><code>v3.3.0</code></dd>\n",
       "              <dt>Master</dt>\n",
       "                <dd><code>local[*]</code></dd>\n",
       "              <dt>AppName</dt>\n",
       "                <dd><code>PDGE-AnalisisFutbol</code></dd>\n",
       "            </dl>\n",
       "        </div>\n",
       "        \n",
       "            </div>\n",
       "        "
      ],
      "text/plain": [
       "<pyspark.sql.session.SparkSession at 0x7fd7aec85310>"
      ]
     },
     "execution_count": 1,
     "metadata": {},
     "output_type": "execute_result"
    }
   ],
   "source": [
    "# instalar Java\n",
    "!apt-get install openjdk-8-jdk-headless -qq > /dev/null\n",
    "# Descargar la ultima versión de java ( comprobar que existen los path de descarga)\n",
    "!wget -q https://downloads.apache.org/spark/spark-3.3.0/spark-3.3.0-bin-hadoop3.tgz\n",
    "!tar xf spark-3.3.0-bin-hadoop3.tgz\n",
    "# instalar pyspark\n",
    "!pip install -q pyspark\n",
    "# variables de entorno\n",
    "import os # libreria de manejo del sistema operativo\n",
    "os.environ[\"JAVA_HOME\"] = \"/usr/lib/jvm/java-8-openjdk-amd64\"\n",
    "os.environ[\"SPARK_HOME\"] = \"/content/spark-3.3.0-bin-hadoop3\"\n",
    "from pyspark.sql import SparkSession\n",
    "# Iniciamos sesión con spark\n",
    "APP_NAME = \"PDGE-AnalisisFutbol\"\n",
    "SPARK_URL = \"local[*]\"\n",
    "spark = SparkSession.builder.appName(APP_NAME).master(SPARK_URL).getOrCreate()\n",
    "spark"
   ]
  },
  {
   "cell_type": "code",
   "execution_count": 2,
   "metadata": {
    "colab": {
     "base_uri": "https://localhost:8080/",
     "height": 218
    },
    "id": "1-_xj5PVcJZJ",
    "outputId": "f46d6904-8b30-4e17-a01c-17d372bcd6ad"
   },
   "outputs": [
    {
     "data": {
      "text/html": [
       "\n",
       "        <div>\n",
       "            <p><b>SparkContext</b></p>\n",
       "\n",
       "            <p><a href=\"http://82af4c36730e:4040\">Spark UI</a></p>\n",
       "\n",
       "            <dl>\n",
       "              <dt>Version</dt>\n",
       "                <dd><code>v3.3.0</code></dd>\n",
       "              <dt>Master</dt>\n",
       "                <dd><code>local[*]</code></dd>\n",
       "              <dt>AppName</dt>\n",
       "                <dd><code>PDGE-AnalisisFutbol</code></dd>\n",
       "            </dl>\n",
       "        </div>\n",
       "        "
      ],
      "text/plain": [
       "<SparkContext master=local[*] appName=PDGE-AnalisisFutbol>"
      ]
     },
     "execution_count": 2,
     "metadata": {},
     "output_type": "execute_result"
    }
   ],
   "source": [
    "# Cargamos contexto de spark\n",
    "sc = spark.sparkContext\n",
    "#obtener el contexto de ejecución de Spark del Driver.\n",
    "sc"
   ]
  },
  {
   "cell_type": "code",
   "execution_count": 3,
   "metadata": {
    "colab": {
     "base_uri": "https://localhost:8080/"
    },
    "id": "2PbLm1PBbTzG",
    "outputId": "b47daad1-c7dc-4837-e250-00bfd14fb4c6"
   },
   "outputs": [
    {
     "name": "stdout",
     "output_type": "stream",
     "text": [
      "Drive already mounted at /content/gdrive; to attempt to forcibly remount, call drive.mount(\"/content/gdrive\", force_remount=True).\n"
     ]
    }
   ],
   "source": [
    "# Lectura del fichero desde google drive\n",
    "from google.colab import drive\n",
    "#drive.flush_and_unmount()\n",
    "drive.mount('/content/gdrive')"
   ]
  },
  {
   "cell_type": "code",
   "execution_count": 4,
   "metadata": {
    "id": "jAgIfdMccUtQ"
   },
   "outputs": [],
   "source": [
    "# Nota: He tenido que añadir la ruta esta para concreta para que lo lea en mi drive\n",
    "data = sc.textFile(\"gdrive/MyDrive/Colab\\ Notebooks/results.csv\")\n"
   ]
  },
  {
   "cell_type": "code",
   "execution_count": 5,
   "metadata": {
    "colab": {
     "base_uri": "https://localhost:8080/"
    },
    "id": "KcPd1HCkiDJN",
    "outputId": "0a694d9e-96bb-4d8d-aa28-303e85254cb5"
   },
   "outputs": [
    {
     "data": {
      "text/plain": [
       "['home_team,away_team,home_goals,away_goals,result,season',\n",
       " 'Sheffield United,Liverpool,1.0,1.0,D,2006-2007',\n",
       " 'Arsenal,Aston Villa,1.0,1.0,D,2006-2007',\n",
       " 'Everton,Watford,2.0,1.0,H,2006-2007',\n",
       " 'Newcastle United,Wigan Athletic,2.0,1.0,H,2006-2007',\n",
       " 'Portsmouth,Blackburn Rovers,3.0,0.0,H,2006-2007',\n",
       " 'Reading,Middlesbrough,3.0,2.0,H,2006-2007',\n",
       " 'West Ham United,Charlton Athletic,3.0,1.0,H,2006-2007',\n",
       " 'Bolton Wanderers,Tottenham Hotspur,2.0,0.0,H,2006-2007',\n",
       " 'Manchester United,Fulham,5.0,1.0,H,2006-2007']"
      ]
     },
     "execution_count": 5,
     "metadata": {},
     "output_type": "execute_result"
    }
   ],
   "source": [
    "data.take(10)"
   ]
  },
  {
   "cell_type": "markdown",
   "metadata": {
    "id": "EoqP9PEfktsF"
   },
   "source": [
    "Vamos a procesar los datos para que podamos trabajar con ellos. \n",
    "\n",
    "Para ello: \n",
    "1. Eliminamos primera fila\n",
    "2. Realizamos un split elemento a elemento. \n",
    "Esto nos dará una lista de listas, donde para cada sublista los elementos serán: \n",
    "\n",
    "| Atributo | Índice | \n",
    "| --- | --- | \n",
    " home_team | 0\n",
    "away_team | 1\n",
    "home_goals | 2\n",
    " away_goals | 3\n",
    " result | 4\n",
    "  season |  5\n",
    "\n"
   ]
  },
  {
   "cell_type": "code",
   "execution_count": 6,
   "metadata": {
    "colab": {
     "base_uri": "https://localhost:8080/"
    },
    "id": "rQwcH-b9iL8E",
    "outputId": "202e4a92-05ae-4065-ecdc-5ded666fc2c0"
   },
   "outputs": [
    {
     "data": {
      "text/plain": [
       "[('Sheffield United', 'Liverpool', '1.0', '1.0', 'D', '2006-2007'),\n",
       " ('Arsenal', 'Aston Villa', '1.0', '1.0', 'D', '2006-2007'),\n",
       " ('Everton', 'Watford', '2.0', '1.0', 'H', '2006-2007'),\n",
       " ('Newcastle United', 'Wigan Athletic', '2.0', '1.0', 'H', '2006-2007'),\n",
       " ('Portsmouth', 'Blackburn Rovers', '3.0', '0.0', 'H', '2006-2007')]"
      ]
     },
     "execution_count": 6,
     "metadata": {},
     "output_type": "execute_result"
    }
   ],
   "source": [
    "data_without_head = data.filter(lambda x: \"-\" in x)\n",
    "splited_data = data_without_head.map(lambda d: tuple(d.split(',')))\n",
    "splited_data.take(5)"
   ]
  },
  {
   "cell_type": "markdown",
   "metadata": {
    "id": "sQZm67l7myPB"
   },
   "source": [
    "Con esto ya estamos preparados para realizar los primeros cálculos. \n",
    "\n",
    "Los equipos que más victorias tenga en local por años, para ello primero sacaremos los años distintos que hay. \n",
    "\n"
   ]
  },
  {
   "cell_type": "code",
   "execution_count": 7,
   "metadata": {
    "colab": {
     "base_uri": "https://localhost:8080/"
    },
    "id": "uFcTrlKCnHsU",
    "outputId": "94e785df-12c4-41a5-f2f4-d55e25bb7171"
   },
   "outputs": [
    {
     "name": "stdout",
     "output_type": "stream",
     "text": [
      "['2006-2007', '2007-2008', '2008-2009', '2009-2010', '2010-2011', '2011-2012', '2012-2013', '2013-2014', '2014-2015', '2015-2016', '2016-2017', '2017-2018']\n"
     ]
    }
   ],
   "source": [
    "get_season = splited_data.map(lambda x: x[5]).distinct()\n",
    "season_list = get_season.collect()\n",
    "season_list.sort()\n",
    "print(season_list)"
   ]
  },
  {
   "cell_type": "code",
   "execution_count": 8,
   "metadata": {
    "id": "99blRgnWIvhm"
   },
   "outputs": [],
   "source": [
    "results = {}\n",
    "# Solo si se ha ganado contará como una victoria en local\n",
    "letter_to_victory = lambda x :  x == 'H' if 1 else 0 \n",
    "for season in season_list:\n",
    "  # 1. Filtramos los datos de cada temporada\n",
    "  # 2. Mapeamos cada tupla para que solo quede (clave: equipo local, valor: 1 si ganó 0 en caso contrario) \n",
    "  filtered_season = splited_data.filter(lambda x: x[5]== season).map(lambda x : (x[0],letter_to_victory(x[4])))\n",
    "  # 3. Sumamos las victorias de cada equipo\n",
    "  reduced = filtered_season.reduceByKey(lambda a,b: a+b)\n",
    "  results[season] = reduced.collect()\n",
    "  results[season].sort(key= lambda x: -x[1]) # Los mejores resultados antes"
   ]
  },
  {
   "cell_type": "markdown",
   "metadata": {
    "id": "sii1bIqo6MIn"
   },
   "source": [
    "#### Muestra de cada victoria. \n",
    "\n",
    "Como resultado de la operación tenemos un diccionario con cada una de las vistorias en local ordenadas "
   ]
  },
  {
   "cell_type": "code",
   "execution_count": 9,
   "metadata": {
    "colab": {
     "base_uri": "https://localhost:8080/"
    },
    "id": "9EW3ijld6KaX",
    "outputId": "5729f487-f4d9-4372-a19d-a3c30d1960c8"
   },
   "outputs": [
    {
     "name": "stdout",
     "output_type": "stream",
     "text": [
      "\n",
      "Los 3 mejores equipos en 2008-2009 fueron:\n",
      "1. Manchester United con 16 victorias locales\n",
      "2. Manchester City con 13 victorias locales\n",
      "3. Liverpool con 12 victorias locales\n",
      "\n",
      "Los 3 mejores equipos en 2011-2012 fueron:\n",
      "1. Manchester City con 18 victorias locales\n",
      "2. Manchester United con 15 victorias locales\n",
      "3. Tottenham Hotspur con 13 victorias locales\n",
      "\n",
      "Los 3 mejores equipos en 2015-2016 fueron:\n",
      "1. Manchester United con 12 victorias locales\n",
      "2. Manchester City con 12 victorias locales\n",
      "3. Leicester City con 12 victorias locales\n",
      "\n",
      "Los 3 mejores equipos en 2017-2018 fueron:\n",
      "1. Manchester City con 16 victorias locales\n",
      "2. Manchester United con 15 victorias locales\n",
      "3. Arsenal con 15 victorias locales\n"
     ]
    }
   ],
   "source": [
    "top = 3 # número de mejores jugadores\n",
    "for season in [season_list[2],season_list[5], season_list[-3], season_list[-1]]:\n",
    "  print(f'\\nLos {top} mejores equipos en {season} fueron:')\n",
    "  equipos = results[season][:top]\n",
    "  [print(f\"{i+1}. {equipos[i][0]} con {equipos[i][1]} victorias locales\") for i in range(0,top)]"
   ]
  },
  {
   "cell_type": "code",
   "execution_count": 10,
   "metadata": {
    "colab": {
     "base_uri": "https://localhost:8080/"
    },
    "id": "VHRA7r5aQc4Y",
    "outputId": "d99f698c-1c12-410f-81bf-507f003b88e9"
   },
   "outputs": [
    {
     "name": "stdout",
     "output_type": "stream",
     "text": [
      "\n",
      "\n",
      "## Resultados temporada 2006-2007  \n",
      "\n",
      "|   Posición | Equipo            |   Victorias locales |\n",
      "|------------|-------------------|---------------------|\n",
      "|          1 | Manchester United |                  15 |\n",
      "|          2 | Liverpool         |                  14 |\n",
      "|          3 | Chelsea           |                  12 |\n",
      "|          4 | Arsenal           |                  12 |\n",
      "|          5 | Tottenham Hotspur |                  12 |\n",
      "|          6 | Reading           |                  11 |\n",
      "|          7 | Everton           |                  11 |\n",
      "|          8 | Portsmouth        |                  11 |\n",
      "|          9 | Middlesbrough     |                  10 |\n",
      "|         10 | Bolton Wanderers  |                   9 |\n",
      "|         11 | Blackburn Rovers  |                   9 |\n",
      "|         12 | West Ham United   |                   8 |\n",
      "|         13 | Newcastle United  |                   7 |\n",
      "|         14 | Aston Villa       |                   7 |\n",
      "|         15 | Fulham            |                   7 |\n",
      "|         16 | Sheffield United  |                   7 |\n",
      "|         17 | Charlton Athletic |                   7 |\n",
      "|         18 | Manchester City   |                   5 |\n",
      "|         19 | Wigan Athletic    |                   5 |\n",
      "|         20 | Watford           |                   3 |\n",
      "\n",
      "\n",
      "## Resultados temporada 2007-2008  \n",
      "\n",
      "|   Posición | Equipo            |   Victorias locales |\n",
      "|------------|-------------------|---------------------|\n",
      "|          1 | Manchester United |                  17 |\n",
      "|          2 | Arsenal           |                  14 |\n",
      "|          3 | Chelsea           |                  12 |\n",
      "|          4 | Liverpool         |                  12 |\n",
      "|          5 | Manchester City   |                  11 |\n",
      "|          6 | Everton           |                  11 |\n",
      "|          7 | Aston Villa       |                  10 |\n",
      "|          8 | Sunderland        |                   9 |\n",
      "|          9 | Reading           |                   8 |\n",
      "|         10 | Wigan Athletic    |                   8 |\n",
      "|         11 | Newcastle United  |                   8 |\n",
      "|         12 | Tottenham Hotspur |                   8 |\n",
      "|         13 | Blackburn Rovers  |                   8 |\n",
      "|         14 | Bolton Wanderers  |                   7 |\n",
      "|         15 | Middlesbrough     |                   7 |\n",
      "|         16 | West Ham United   |                   7 |\n",
      "|         17 | Portsmouth        |                   7 |\n",
      "|         18 | Birmingham City   |                   6 |\n",
      "|         19 | Fulham            |                   5 |\n",
      "|         20 | Derby County      |                   1 |\n",
      "\n",
      "\n",
      "## Resultados temporada 2008-2009  \n",
      "\n",
      "|   Posición | Equipo               |   Victorias locales |\n",
      "|------------|----------------------|---------------------|\n",
      "|          1 | Manchester United    |                  16 |\n",
      "|          2 | Manchester City      |                  13 |\n",
      "|          3 | Liverpool            |                  12 |\n",
      "|          4 | Chelsea              |                  11 |\n",
      "|          5 | Fulham               |                  11 |\n",
      "|          6 | Arsenal              |                  11 |\n",
      "|          7 | Stoke City           |                  10 |\n",
      "|          8 | Tottenham Hotspur    |                  10 |\n",
      "|          9 | West Ham United      |                   9 |\n",
      "|         10 | Wigan Athletic       |                   8 |\n",
      "|         11 | Everton              |                   8 |\n",
      "|         12 | Portsmouth           |                   8 |\n",
      "|         13 | Bolton Wanderers     |                   7 |\n",
      "|         14 | Aston Villa          |                   7 |\n",
      "|         15 | West Bromwich Albion |                   7 |\n",
      "|         16 | Sunderland           |                   6 |\n",
      "|         17 | Blackburn Rovers     |                   6 |\n",
      "|         18 | Middlesbrough        |                   5 |\n",
      "|         19 | Newcastle United     |                   5 |\n",
      "|         20 | Hull City            |                   3 |\n",
      "\n",
      "\n",
      "## Resultados temporada 2009-2010  \n",
      "\n",
      "|   Posición | Equipo                  |   Victorias locales |\n",
      "|------------|-------------------------|---------------------|\n",
      "|          1 | Chelsea                 |                  17 |\n",
      "|          2 | Manchester United       |                  16 |\n",
      "|          3 | Arsenal                 |                  15 |\n",
      "|          4 | Tottenham Hotspur       |                  14 |\n",
      "|          5 | Liverpool               |                  13 |\n",
      "|          6 | Manchester City         |                  12 |\n",
      "|          7 | Fulham                  |                  11 |\n",
      "|          8 | Everton                 |                  11 |\n",
      "|          9 | Blackburn Rovers        |                  10 |\n",
      "|         10 | Sunderland              |                   9 |\n",
      "|         11 | Aston Villa             |                   8 |\n",
      "|         12 | Birmingham City         |                   8 |\n",
      "|         13 | Burnley                 |                   7 |\n",
      "|         14 | Stoke City              |                   7 |\n",
      "|         15 | West Ham United         |                   7 |\n",
      "|         16 | Bolton Wanderers        |                   6 |\n",
      "|         17 | Wigan Athletic          |                   6 |\n",
      "|         18 | Hull City               |                   6 |\n",
      "|         19 | Wolverhampton Wanderers |                   5 |\n",
      "|         20 | Portsmouth              |                   5 |\n",
      "\n",
      "\n",
      "## Resultados temporada 2010-2011  \n",
      "\n",
      "|   Posición | Equipo                  |   Victorias locales |\n",
      "|------------|-------------------------|---------------------|\n",
      "|          1 | Manchester United       |                  18 |\n",
      "|          2 | Chelsea                 |                  14 |\n",
      "|          3 | Manchester City         |                  13 |\n",
      "|          4 | Liverpool               |                  12 |\n",
      "|          5 | Arsenal                 |                  11 |\n",
      "|          6 | Bolton Wanderers        |                  10 |\n",
      "|          7 | Stoke City              |                  10 |\n",
      "|          8 | Tottenham Hotspur       |                   9 |\n",
      "|          9 | Everton                 |                   9 |\n",
      "|         10 | Aston Villa             |                   8 |\n",
      "|         11 | Wolverhampton Wanderers |                   8 |\n",
      "|         12 | Fulham                  |                   8 |\n",
      "|         13 | West Bromwich Albion    |                   8 |\n",
      "|         14 | Blackburn Rovers        |                   7 |\n",
      "|         15 | Sunderland              |                   7 |\n",
      "|         16 | Newcastle United        |                   6 |\n",
      "|         17 | Birmingham City         |                   6 |\n",
      "|         18 | Wigan Athletic          |                   5 |\n",
      "|         19 | Blackpool               |                   5 |\n",
      "|         20 | West Ham United         |                   5 |\n",
      "\n",
      "\n",
      "## Resultados temporada 2011-2012  \n",
      "\n",
      "|   Posición | Equipo                  |   Victorias locales |\n",
      "|------------|-------------------------|---------------------|\n",
      "|          1 | Manchester City         |                  18 |\n",
      "|          2 | Manchester United       |                  15 |\n",
      "|          3 | Tottenham Hotspur       |                  13 |\n",
      "|          4 | Chelsea                 |                  12 |\n",
      "|          5 | Arsenal                 |                  12 |\n",
      "|          6 | Newcastle United        |                  11 |\n",
      "|          7 | Fulham                  |                  10 |\n",
      "|          8 | Everton                 |                  10 |\n",
      "|          9 | Swansea City            |                   8 |\n",
      "|         10 | Queens Park Rangers     |                   7 |\n",
      "|         11 | Stoke City              |                   7 |\n",
      "|         12 | Sunderland              |                   7 |\n",
      "|         13 | Norwich City            |                   7 |\n",
      "|         14 | Blackburn Rovers        |                   6 |\n",
      "|         15 | Liverpool               |                   6 |\n",
      "|         16 | West Bromwich Albion    |                   6 |\n",
      "|         17 | Wigan Athletic          |                   5 |\n",
      "|         18 | Aston Villa             |                   4 |\n",
      "|         19 | Bolton Wanderers        |                   4 |\n",
      "|         20 | Wolverhampton Wanderers |                   3 |\n",
      "\n",
      "\n",
      "## Resultados temporada 2012-2013  \n",
      "\n",
      "|   Posición | Equipo               |   Victorias locales |\n",
      "|------------|----------------------|---------------------|\n",
      "|          1 | Manchester United    |                  16 |\n",
      "|          2 | Manchester City      |                  14 |\n",
      "|          3 | Chelsea              |                  12 |\n",
      "|          4 | Everton              |                  12 |\n",
      "|          5 | Arsenal              |                  11 |\n",
      "|          6 | Tottenham Hotspur    |                  11 |\n",
      "|          7 | Newcastle United     |                   9 |\n",
      "|          8 | West Bromwich Albion |                   9 |\n",
      "|          9 | West Ham United      |                   9 |\n",
      "|         10 | Liverpool            |                   9 |\n",
      "|         11 | Norwich City         |                   8 |\n",
      "|         12 | Fulham               |                   7 |\n",
      "|         13 | Stoke City           |                   7 |\n",
      "|         14 | Southampton          |                   6 |\n",
      "|         15 | Swansea City         |                   6 |\n",
      "|         16 | Aston Villa          |                   5 |\n",
      "|         17 | Sunderland           |                   5 |\n",
      "|         18 | Reading              |                   4 |\n",
      "|         19 | Wigan Athletic       |                   4 |\n",
      "|         20 | Queens Park Rangers  |                   2 |\n",
      "\n",
      "\n",
      "## Resultados temporada 2013-2014  \n",
      "\n",
      "|   Posición | Equipo               |   Victorias locales |\n",
      "|------------|----------------------|---------------------|\n",
      "|          1 | Manchester City      |                  17 |\n",
      "|          2 | Liverpool            |                  16 |\n",
      "|          3 | Chelsea              |                  15 |\n",
      "|          4 | Arsenal              |                  13 |\n",
      "|          5 | Everton              |                  13 |\n",
      "|          6 | Tottenham Hotspur    |                  11 |\n",
      "|          7 | Stoke City           |                  10 |\n",
      "|          8 | Manchester United    |                   9 |\n",
      "|          9 | Newcastle United     |                   8 |\n",
      "|         10 | Southampton          |                   8 |\n",
      "|         11 | Crystal Palace       |                   8 |\n",
      "|         12 | Hull City            |                   7 |\n",
      "|         13 | West Ham United      |                   7 |\n",
      "|         14 | Aston Villa          |                   6 |\n",
      "|         15 | Norwich City         |                   6 |\n",
      "|         16 | Swansea City         |                   6 |\n",
      "|         17 | Fulham               |                   5 |\n",
      "|         18 | Sunderland           |                   5 |\n",
      "|         19 | Cardiff City         |                   5 |\n",
      "|         20 | West Bromwich Albion |                   4 |\n",
      "\n",
      "\n",
      "## Resultados temporada 2014-2015  \n",
      "\n",
      "|   Posición | Equipo               |   Victorias locales |\n",
      "|------------|----------------------|---------------------|\n",
      "|          1 | Chelsea              |                  15 |\n",
      "|          2 | Manchester United    |                  14 |\n",
      "|          3 | Manchester City      |                  14 |\n",
      "|          4 | Arsenal              |                  12 |\n",
      "|          5 | Southampton          |                  11 |\n",
      "|          6 | Stoke City           |                  10 |\n",
      "|          7 | Liverpool            |                  10 |\n",
      "|          8 | Tottenham Hotspur    |                  10 |\n",
      "|          9 | West Ham United      |                   9 |\n",
      "|         10 | Swansea City         |                   9 |\n",
      "|         11 | Newcastle United     |                   7 |\n",
      "|         12 | Leicester City       |                   7 |\n",
      "|         13 | West Bromwich Albion |                   7 |\n",
      "|         14 | Everton              |                   7 |\n",
      "|         15 | Queens Park Rangers  |                   6 |\n",
      "|         16 | Crystal Palace       |                   6 |\n",
      "|         17 | Aston Villa          |                   5 |\n",
      "|         18 | Hull City            |                   5 |\n",
      "|         19 | Burnley              |                   4 |\n",
      "|         20 | Sunderland           |                   4 |\n",
      "\n",
      "\n",
      "## Resultados temporada 2015-2016  \n",
      "\n",
      "|   Posición | Equipo               |   Victorias locales |\n",
      "|------------|----------------------|---------------------|\n",
      "|          1 | Manchester United    |                  12 |\n",
      "|          2 | Manchester City      |                  12 |\n",
      "|          3 | Leicester City       |                  12 |\n",
      "|          4 | Arsenal              |                  12 |\n",
      "|          5 | Southampton          |                  11 |\n",
      "|          6 | Tottenham Hotspur    |                  10 |\n",
      "|          7 | West Ham United      |                   9 |\n",
      "|          8 | Stoke City           |                   8 |\n",
      "|          9 | Swansea City         |                   8 |\n",
      "|         10 | Liverpool            |                   8 |\n",
      "|         11 | Newcastle United     |                   7 |\n",
      "|         12 | Everton              |                   6 |\n",
      "|         13 | Norwich City         |                   6 |\n",
      "|         14 | West Bromwich Albion |                   6 |\n",
      "|         15 | Sunderland           |                   6 |\n",
      "|         16 | Watford              |                   6 |\n",
      "|         17 | Crystal Palace       |                   6 |\n",
      "|         18 | Chelsea              |                   5 |\n",
      "|         19 | AFC Bournemouth      |                   5 |\n",
      "|         20 | Aston Villa          |                   2 |\n",
      "\n",
      "\n",
      "## Resultados temporada 2016-2017  \n",
      "\n",
      "|   Posición | Equipo               |   Victorias locales |\n",
      "|------------|----------------------|---------------------|\n",
      "|          1 | Chelsea              |                  17 |\n",
      "|          2 | Tottenham Hotspur    |                  17 |\n",
      "|          3 | Arsenal              |                  14 |\n",
      "|          4 | Everton              |                  13 |\n",
      "|          5 | Liverpool            |                  12 |\n",
      "|          6 | Manchester City      |                  11 |\n",
      "|          7 | Burnley              |                  10 |\n",
      "|          8 | Leicester City       |                  10 |\n",
      "|          9 | AFC Bournemouth      |                   9 |\n",
      "|         10 | West Bromwich Albion |                   9 |\n",
      "|         11 | Hull City            |                   8 |\n",
      "|         12 | Manchester United    |                   8 |\n",
      "|         13 | Swansea City         |                   8 |\n",
      "|         14 | Watford              |                   8 |\n",
      "|         15 | Stoke City           |                   7 |\n",
      "|         16 | West Ham United      |                   7 |\n",
      "|         17 | Southampton          |                   6 |\n",
      "|         18 | Crystal Palace       |                   6 |\n",
      "|         19 | Middlesbrough        |                   4 |\n",
      "|         20 | Sunderland           |                   3 |\n",
      "\n",
      "\n",
      "## Resultados temporada 2017-2018  \n",
      "\n",
      "|   Posición | Equipo                   |   Victorias locales |\n",
      "|------------|--------------------------|---------------------|\n",
      "|          1 | Manchester City          |                  16 |\n",
      "|          2 | Manchester United        |                  15 |\n",
      "|          3 | Arsenal                  |                  15 |\n",
      "|          4 | Tottenham Hotspur        |                  13 |\n",
      "|          5 | Liverpool                |                  12 |\n",
      "|          6 | Chelsea                  |                  11 |\n",
      "|          7 | Everton                  |                  10 |\n",
      "|          8 | Newcastle United         |                   8 |\n",
      "|          9 | Burnley                  |                   7 |\n",
      "|         10 | Watford                  |                   7 |\n",
      "|         11 | Crystal Palace           |                   7 |\n",
      "|         12 | Brighton and Hove Albion |                   7 |\n",
      "|         13 | AFC Bournemouth          |                   7 |\n",
      "|         14 | Leicester City           |                   7 |\n",
      "|         15 | West Ham United          |                   7 |\n",
      "|         16 | Huddersfield Town        |                   6 |\n",
      "|         17 | Swansea City             |                   6 |\n",
      "|         18 | Stoke City               |                   5 |\n",
      "|         19 | Southampton              |                   4 |\n",
      "|         20 | West Bromwich Albion     |                   3 |\n"
     ]
    }
   ],
   "source": [
    "# Vamos a mostrar los resultados totales\n",
    "#!pip install -q tabulate # para imprimir tablas bonitas\n",
    "from tabulate import tabulate \n",
    "\n",
    "cabecera = ['Posición', 'Equipo', 'Victorias locales']\n",
    "for season in season_list:\n",
    "  equipos = results[season]\n",
    "  tabla = [ [i+1, e[0], e[1]]for i,e in enumerate(equipos)]\n",
    "  print(f\"\\n\\n## Resultados temporada {season}  \\n\")\n",
    "  print(tabulate(tabla, cabecera, tablefmt=\"github\"))"
   ]
  },
  {
   "cell_type": "markdown",
   "metadata": {
    "id": "BK9pso-G8olv"
   },
   "source": [
    "## La siguiente cuestión es si existe un beneficio a jugar en local.   \n",
    "\n",
    "Para ello analizaremos el comportamiento de un equipo (introducir su nombre en la variable `equipo`) y después el de todas los equipos.\n",
    "\n",
    "Formulación del experimento: \n",
    "\n",
    "Realizaremos un [Test de los rangos con signos de Wilcoxon](https://en.wikipedia.org/wiki/Wilcoxon_signed-rank_test) ya que es el que más se adecua a la situación, \n",
    "donde \n",
    "$$Z = \\text{victorias locales} - \\text{victorias como visitante}$$\n",
    "para cada temporada.\n",
    "- La hipótesis nula $H_0$: $Z$ sigue una distribución de media $0$. \n",
    "- La hipótesis alternativa $H_1$: $Z$ **no** sigue una distribución de media 0. \n",
    "\n",
    "Vamos a proceder a calcular la variable $Z$ para un equipo concreto: "
   ]
  },
  {
   "cell_type": "markdown",
   "metadata": {
    "id": "lQ1cuaqjhGrm"
   },
   "source": [
    "### Descripción del tratamiento de los datos. \n",
    "\n",
    "Se pretende calcular la variable $z$, esto es la diferencia entre victorias como local y como visitante para un cierto equipo en una cierta temporada, para ello:\n",
    "\n",
    "1. Se filtran los datos para quedarnos solo con los concernientes al equipo buscado. \n",
    "2. Se transformarán los datos obtenidos en (1) en par `(temporada, valor)` la temporada es un `str`y valor es un entero $-1,1,0$. que indica respectivamente si ganó como visitante, como local o ninguno de esos casos. \n",
    "3. Se suman todos los datos de la misma temporada y el resultado es una lista con $z$ por temporada. "
   ]
  },
  {
   "cell_type": "code",
   "execution_count": 11,
   "metadata": {
    "colab": {
     "base_uri": "https://localhost:8080/"
    },
    "id": "BLs24ETDAKf4",
    "outputId": "6c5dfc7c-dcfa-4e63-b27f-1886888b79c6"
   },
   "outputs": [
    {
     "name": "stdout",
     "output_type": "stream",
     "text": [
      "La diferencia entre las victorias locales y como visitante del Manchester United son: \n",
      "[8, -2, 5, 2, 7, 4, 5, 13, 2, 4, -1, 5]\n"
     ]
    }
   ],
   "source": [
    "equipo = 'Manchester United'\n",
    "\n",
    "def traductor(x:tuple,equipo:str):\n",
    "  '''Devuelve:\n",
    "  1 si el equipo gana como local\n",
    "  -1 si el equipo gana como visitante\n",
    "  0 en caso contrario\n",
    "  '''\n",
    "  es_local = x[0] == equipo\n",
    "  salida = 0 \n",
    "  # Si gana como local\n",
    "  if es_local and x[4] == 'H':\n",
    "    salida = 1\n",
    "  # Si gana como visitante\n",
    "  if not es_local and x[4] == 'A':\n",
    "    salida = -1\n",
    "  return salida\n",
    "\n",
    "def victorias_locales_menos_visitante_por_equipo(equipo):\n",
    "  # Nos quedamos solo donde juegue el equipo \n",
    "  partidos_relevantes = splited_data.filter(lambda x: x[0]== equipo or x[1] == equipo)\n",
    "  # nos quedamos con las victorias locales por sesión \n",
    "  victorias_locales = partidos_relevantes.map(lambda x:(x[5],traductor(x, equipo)))\n",
    "  Z = victorias_locales.reduceByKey(lambda x,y: x+y).map(lambda x: x[1])\n",
    "  z_list = Z.collect()\n",
    "  return z_list\n",
    "\n",
    "print(f\"La diferencia entre las victorias locales y como visitante del {equipo} son: \")\n",
    "print(victorias_locales_menos_visitante_por_equipo(equipo))"
   ]
  },
  {
   "cell_type": "markdown",
   "metadata": {
    "id": "U6wYmMKtEIPX"
   },
   "source": [
    "Vamos a proceder a calcular el test, para ello utilizaremos la biblioteca de [scipy](https://docs.scipy.org/doc/scipy/reference/generated/scipy.stats.wilcoxon.html)"
   ]
  },
  {
   "cell_type": "code",
   "execution_count": 12,
   "metadata": {
    "id": "KcIV7IZIEZS7"
   },
   "outputs": [],
   "source": [
    "from scipy.stats import wilcoxon\n",
    "\n",
    "def test_wilcoxon(equipo, a=0.05): \n",
    "  res = wilcoxon(victorias_locales_menos_visitante_por_equipo(equipo))\n",
    "  if res.pvalue < a :\n",
    "    print(f\"Se ha rechazado la hipótesis nula con un p-valor de {res.pvalue} para el equipo {equipo}\")\n",
    "  else:\n",
    "    print(f\"No se ha podido rechazar la hipótesis nula ya que el p-valor es de {res.pvalue} para el equipo {equipo}\")"
   ]
  },
  {
   "cell_type": "code",
   "execution_count": 13,
   "metadata": {
    "colab": {
     "base_uri": "https://localhost:8080/"
    },
    "id": "HEyyLnx7G4kA",
    "outputId": "b068a63e-70bc-41e0-d0c0-bb073e006534"
   },
   "outputs": [
    {
     "name": "stdout",
     "output_type": "stream",
     "text": [
      "Se ha rechazado la hipótesis nula con un p-valor de 0.00048828125 para el equipo Arsenal\n"
     ]
    },
    {
     "name": "stderr",
     "output_type": "stream",
     "text": [
      "/usr/local/lib/python3.7/dist-packages/scipy/stats/morestats.py:3141: UserWarning: Exact p-value calculation does not work if there are ties. Switching to normal approximation.\n",
      "  warnings.warn(\"Exact p-value calculation does not work if there are \"\n"
     ]
    },
    {
     "name": "stdout",
     "output_type": "stream",
     "text": [
      "Se ha rechazado la hipótesis nula con un p-valor de 0.010799590882009212 para el equipo Liverpool\n",
      "No se ha podido rechazar la hipótesis nula ya que el p-valor es de 0.25 para el equipo Portsmouth\n",
      "Se ha rechazado la hipótesis nula con un p-valor de 0.00341796875 para el equipo Manchester United\n"
     ]
    }
   ],
   "source": [
    "# Vamos a mostrar algunos ejemplos concretos\n",
    "equipos = ['Arsenal', 'Liverpool', 'Portsmouth', 'Manchester United']\n",
    "for equipo in equipos:\n",
    "  test_wilcoxon(equipo)"
   ]
  },
  {
   "cell_type": "markdown",
   "metadata": {
    "id": "dGd2EfxKXDHd"
   },
   "source": [
    "Cabe destacar que el equipo Porsmouth descendió de división y que por tanto se tienen poco datos para su análisis, este puede ser el causante de que se pueda recharzar la hipótesis nula.  \n",
    "\n",
    "### Diseño del tratamiento de los datos \n",
    "\n",
    "Vamos a ver cuáles son los equipos y el número de temporadas en las que estuvieron, para ellos:  \n",
    "\n",
    "1. Transformamos cada tupla a un par `(equipo, temporada)`.\n",
    "2. Se eliminal las filas redundantes. \n",
    "3. Sumamos cada aparición de cada equipo.\n",
    "\n"
   ]
  },
  {
   "cell_type": "code",
   "execution_count": 14,
   "metadata": {
    "id": "ey9-gdkVXU-T"
   },
   "outputs": [],
   "source": [
    "team_and_season = splited_data.map(lambda x: (x[0],x[5])).distinct()\n",
    "team_appears = team_and_season.map(lambda x:(x[0],1)).reduceByKey(lambda x,y:x+y)\n",
    "teams = team_appears.collect()\n",
    "teams.sort(key=lambda x: -x[1])\n",
    "## Veamos cuales son los equipos que han jugado un mínimo de temporadas\n",
    "temporadas_jugadas_minimas = 11 \n",
    "equipos_persistentes = team_appears.filter(lambda x: x[1] >= temporadas_jugadas_minimas).map(lambda x: x[0]).collect()"
   ]
  },
  {
   "cell_type": "markdown",
   "metadata": {
    "id": "to8FLNmIby1T"
   },
   "source": [
    "Vamos a realizar el experimento para todos los equipos que han jugado más de `temporadas_jugadas_minimas`."
   ]
  },
  {
   "cell_type": "code",
   "execution_count": 15,
   "metadata": {
    "colab": {
     "base_uri": "https://localhost:8080/"
    },
    "id": "JI9QidQUbEq5",
    "outputId": "020da71d-6fc5-457a-fd12-26850c87b9fc"
   },
   "outputs": [
    {
     "name": "stdout",
     "output_type": "stream",
     "text": [
      "Los equipos que han jugado más de 11 son: \n",
      "['Manchester United', 'Chelsea', 'Manchester City', 'Arsenal', 'Everton', 'West Ham United', 'Tottenham Hotspur', 'Liverpool']\n",
      "Veamos si estos equipos tienen más a ganar en local que en visitante\n",
      "Se ha rechazado la hipótesis nula con un p-valor de 0.00341796875 para el equipo Manchester United\n",
      "Se ha rechazado la hipótesis nula con un p-valor de 0.04046183578416871 para el equipo Chelsea\n",
      "Se ha rechazado la hipótesis nula con un p-valor de 0.007466958429676204 para el equipo Manchester City\n",
      "Se ha rechazado la hipótesis nula con un p-valor de 0.00048828125 para el equipo Arsenal\n",
      "Se ha rechazado la hipótesis nula con un p-valor de 0.00146484375 para el equipo Everton\n",
      "Se ha rechazado la hipótesis nula con un p-valor de 0.0009765625 para el equipo West Ham United\n",
      "Se ha rechazado la hipótesis nula con un p-valor de 0.00048828125 para el equipo Tottenham Hotspur\n",
      "Se ha rechazado la hipótesis nula con un p-valor de 0.010799590882009212 para el equipo Liverpool\n"
     ]
    }
   ],
   "source": [
    "print(f'Los equipos que han jugado más de {temporadas_jugadas_minimas} son: \\n{equipos_persistentes}')\n",
    "print('Veamos si estos equipos tienen más a ganar en local que en visitante')\n",
    "for equipo in equipos_persistentes:\n",
    "  test_wilcoxon(equipo)"
   ]
  },
  {
   "cell_type": "markdown",
   "metadata": {
    "id": "6KoTxFyYEYAC"
   },
   "source": [
    "Como vemos todos los equipos que han jugado más de 11 temporadas tienden a ganar con más partidos como locales que como visitantes. \n"
   ]
  },
  {
   "cell_type": "markdown",
   "metadata": {
    "id": "nrc7OzaucB7q"
   },
   "source": [
    "## Experimento 2 beneficio de ganar en local más para todos los equipos\n",
    "\n",
    "### Diseño tratamiento de los datos\n",
    "\n",
    "Se busca como objetivo calcular la diferencia a ganar como local o como visitante de los equipos independientemente de la temporada. \n",
    "\n",
    "1. Filtramos los empates que en nuestro caso no aportan información. \n",
    "2. Transformamos los datos resultante en pares  `(equipo ganados, -1 o 1)` donde $-1$ corresponde si gana como visitante y $1$ si lo hace como local. \n",
    "3. Se suman todos los datos de un mismo equipo. "
   ]
  },
  {
   "cell_type": "code",
   "execution_count": 16,
   "metadata": {
    "colab": {
     "base_uri": "https://localhost:8080/"
    },
    "id": "6-XX7EcPMO3l",
    "outputId": "7d59c5c0-df87-49fb-8fc7-45f31d22696b"
   },
   "outputs": [
    {
     "name": "stdout",
     "output_type": "stream",
     "text": [
      "Se ha rechazado la hipótesis nula con un p-valor de 2.0695824579590253e-34.\n"
     ]
    }
   ],
   "source": [
    "def traductor_dos(x):\n",
    "  '''\n",
    "    La clave es el nombre del equipo y el año. \n",
    "  '''\n",
    "  es_local = x[4] == 'H'\n",
    "  if es_local:\n",
    "    return x[0]+x[5], 1 # si gana como local sumamos 1 al equipo ese año\n",
    "  else:\n",
    "    return x[1]+x[5], -1  # si gana como visitante restamos uno al equipo ese año\n",
    "\n",
    "def victorias_locales_menos_visitante():\n",
    "  # Nos quedamos solo donde se gane a se pierda\n",
    "  partidos_relevantes = splited_data.filter(lambda x: x[4] != 'D') \n",
    "  victorias_locales = partidos_relevantes.map(traductor_dos)\n",
    "  Z = victorias_locales.reduceByKey(lambda x,y: x+y).map(lambda x: x[1])\n",
    "  z_list = Z.collect()\n",
    "  return z_list\n",
    "\n",
    "a = 0.05\n",
    "res = wilcoxon(victorias_locales_menos_visitante())\n",
    "if res.pvalue < a :\n",
    "  print(f\"Se ha rechazado la hipótesis nula con un p-valor de {res.pvalue}.\")\n",
    "else:\n",
    "    print(f\"No se ha podido rechazar la hipótesis nula ya que el p-valor es de {res.pvalue}.\")"
   ]
  },
  {
   "cell_type": "markdown",
   "metadata": {
    "id": "OJzfll_-TnhQ"
   },
   "source": [
    "# Conclusiones \n",
    "\n",
    "Hemos extraído las victorias para cada equipo en cada temporada, que han sido: \n",
    "\n",
    "## Resultados temporada 2006-2007  \n",
    "\n",
    "|   Posición | Equipo            |   Victorias locales |\n",
    "|------------|-------------------|---------------------|\n",
    "|          1 | Manchester United |                  15 |\n",
    "|          2 | Liverpool         |                  14 |\n",
    "|          3 | Chelsea           |                  12 |\n",
    "|          4 | Arsenal           |                  12 |\n",
    "|          5 | Tottenham Hotspur |                  12 |\n",
    "|          6 | Reading           |                  11 |\n",
    "|          7 | Everton           |                  11 |\n",
    "|          8 | Portsmouth        |                  11 |\n",
    "|          9 | Middlesbrough     |                  10 |\n",
    "|         10 | Bolton Wanderers  |                   9 |\n",
    "|         11 | Blackburn Rovers  |                   9 |\n",
    "|         12 | West Ham United   |                   8 |\n",
    "|         13 | Newcastle United  |                   7 |\n",
    "|         14 | Aston Villa       |                   7 |\n",
    "|         15 | Fulham            |                   7 |\n",
    "|         16 | Sheffield United  |                   7 |\n",
    "|         17 | Charlton Athletic |                   7 |\n",
    "|         18 | Manchester City   |                   5 |\n",
    "|         19 | Wigan Athletic    |                   5 |\n",
    "|         20 | Watford           |                   3 |\n",
    "\n",
    "\n",
    "## Resultados temporada 2007-2008  \n",
    "\n",
    "|   Posición | Equipo            |   Victorias locales |\n",
    "|------------|-------------------|---------------------|\n",
    "|          1 | Manchester United |                  17 |\n",
    "|          2 | Arsenal           |                  14 |\n",
    "|          3 | Chelsea           |                  12 |\n",
    "|          4 | Liverpool         |                  12 |\n",
    "|          5 | Manchester City   |                  11 |\n",
    "|          6 | Everton           |                  11 |\n",
    "|          7 | Aston Villa       |                  10 |\n",
    "|          8 | Sunderland        |                   9 |\n",
    "|          9 | Reading           |                   8 |\n",
    "|         10 | Wigan Athletic    |                   8 |\n",
    "|         11 | Newcastle United  |                   8 |\n",
    "|         12 | Tottenham Hotspur |                   8 |\n",
    "|         13 | Blackburn Rovers  |                   8 |\n",
    "|         14 | Bolton Wanderers  |                   7 |\n",
    "|         15 | Middlesbrough     |                   7 |\n",
    "|         16 | West Ham United   |                   7 |\n",
    "|         17 | Portsmouth        |                   7 |\n",
    "|         18 | Birmingham City   |                   6 |\n",
    "|         19 | Fulham            |                   5 |\n",
    "|         20 | Derby County      |                   1 |\n",
    "\n",
    "\n",
    "## Resultados temporada 2008-2009  \n",
    "\n",
    "|   Posición | Equipo               |   Victorias locales |\n",
    "|------------|----------------------|---------------------|\n",
    "|          1 | Manchester United    |                  16 |\n",
    "|          2 | Manchester City      |                  13 |\n",
    "|          3 | Liverpool            |                  12 |\n",
    "|          4 | Chelsea              |                  11 |\n",
    "|          5 | Fulham               |                  11 |\n",
    "|          6 | Arsenal              |                  11 |\n",
    "|          7 | Stoke City           |                  10 |\n",
    "|          8 | Tottenham Hotspur    |                  10 |\n",
    "|          9 | West Ham United      |                   9 |\n",
    "|         10 | Wigan Athletic       |                   8 |\n",
    "|         11 | Everton              |                   8 |\n",
    "|         12 | Portsmouth           |                   8 |\n",
    "|         13 | Bolton Wanderers     |                   7 |\n",
    "|         14 | Aston Villa          |                   7 |\n",
    "|         15 | West Bromwich Albion |                   7 |\n",
    "|         16 | Sunderland           |                   6 |\n",
    "|         17 | Blackburn Rovers     |                   6 |\n",
    "|         18 | Middlesbrough        |                   5 |\n",
    "|         19 | Newcastle United     |                   5 |\n",
    "|         20 | Hull City            |                   3 |\n",
    "\n",
    "\n",
    "## Resultados temporada 2009-2010  \n",
    "\n",
    "|   Posición | Equipo                  |   Victorias locales |\n",
    "|------------|-------------------------|---------------------|\n",
    "|          1 | Chelsea                 |                  17 |\n",
    "|          2 | Manchester United       |                  16 |\n",
    "|          3 | Arsenal                 |                  15 |\n",
    "|          4 | Tottenham Hotspur       |                  14 |\n",
    "|          5 | Liverpool               |                  13 |\n",
    "|          6 | Manchester City         |                  12 |\n",
    "|          7 | Fulham                  |                  11 |\n",
    "|          8 | Everton                 |                  11 |\n",
    "|          9 | Blackburn Rovers        |                  10 |\n",
    "|         10 | Sunderland              |                   9 |\n",
    "|         11 | Aston Villa             |                   8 |\n",
    "|         12 | Birmingham City         |                   8 |\n",
    "|         13 | Burnley                 |                   7 |\n",
    "|         14 | Stoke City              |                   7 |\n",
    "|         15 | West Ham United         |                   7 |\n",
    "|         16 | Bolton Wanderers        |                   6 |\n",
    "|         17 | Wigan Athletic          |                   6 |\n",
    "|         18 | Hull City               |                   6 |\n",
    "|         19 | Wolverhampton Wanderers |                   5 |\n",
    "|         20 | Portsmouth              |                   5 |\n",
    "\n",
    "\n",
    "## Resultados temporada 2010-2011  \n",
    "\n",
    "|   Posición | Equipo                  |   Victorias locales |\n",
    "|------------|-------------------------|---------------------|\n",
    "|          1 | Manchester United       |                  18 |\n",
    "|          2 | Chelsea                 |                  14 |\n",
    "|          3 | Manchester City         |                  13 |\n",
    "|          4 | Liverpool               |                  12 |\n",
    "|          5 | Arsenal                 |                  11 |\n",
    "|          6 | Bolton Wanderers        |                  10 |\n",
    "|          7 | Stoke City              |                  10 |\n",
    "|          8 | Tottenham Hotspur       |                   9 |\n",
    "|          9 | Everton                 |                   9 |\n",
    "|         10 | Aston Villa             |                   8 |\n",
    "|         11 | Wolverhampton Wanderers |                   8 |\n",
    "|         12 | Fulham                  |                   8 |\n",
    "|         13 | West Bromwich Albion    |                   8 |\n",
    "|         14 | Blackburn Rovers        |                   7 |\n",
    "|         15 | Sunderland              |                   7 |\n",
    "|         16 | Newcastle United        |                   6 |\n",
    "|         17 | Birmingham City         |                   6 |\n",
    "|         18 | Wigan Athletic          |                   5 |\n",
    "|         19 | Blackpool               |                   5 |\n",
    "|         20 | West Ham United         |                   5 |\n",
    "\n",
    "\n",
    "## Resultados temporada 2011-2012  \n",
    "\n",
    "|   Posición | Equipo                  |   Victorias locales |\n",
    "|------------|-------------------------|---------------------|\n",
    "|          1 | Manchester City         |                  18 |\n",
    "|          2 | Manchester United       |                  15 |\n",
    "|          3 | Tottenham Hotspur       |                  13 |\n",
    "|          4 | Chelsea                 |                  12 |\n",
    "|          5 | Arsenal                 |                  12 |\n",
    "|          6 | Newcastle United        |                  11 |\n",
    "|          7 | Fulham                  |                  10 |\n",
    "|          8 | Everton                 |                  10 |\n",
    "|          9 | Swansea City            |                   8 |\n",
    "|         10 | Queens Park Rangers     |                   7 |\n",
    "|         11 | Stoke City              |                   7 |\n",
    "|         12 | Sunderland              |                   7 |\n",
    "|         13 | Norwich City            |                   7 |\n",
    "|         14 | Blackburn Rovers        |                   6 |\n",
    "|         15 | Liverpool               |                   6 |\n",
    "|         16 | West Bromwich Albion    |                   6 |\n",
    "|         17 | Wigan Athletic          |                   5 |\n",
    "|         18 | Aston Villa             |                   4 |\n",
    "|         19 | Bolton Wanderers        |                   4 |\n",
    "|         20 | Wolverhampton Wanderers |                   3 |\n",
    "\n",
    "\n",
    "## Resultados temporada 2012-2013  \n",
    "\n",
    "|   Posición | Equipo               |   Victorias locales |\n",
    "|------------|----------------------|---------------------|\n",
    "|          1 | Manchester United    |                  16 |\n",
    "|          2 | Manchester City      |                  14 |\n",
    "|          3 | Chelsea              |                  12 |\n",
    "|          4 | Everton              |                  12 |\n",
    "|          5 | Arsenal              |                  11 |\n",
    "|          6 | Tottenham Hotspur    |                  11 |\n",
    "|          7 | Newcastle United     |                   9 |\n",
    "|          8 | West Bromwich Albion |                   9 |\n",
    "|          9 | West Ham United      |                   9 |\n",
    "|         10 | Liverpool            |                   9 |\n",
    "|         11 | Norwich City         |                   8 |\n",
    "|         12 | Fulham               |                   7 |\n",
    "|         13 | Stoke City           |                   7 |\n",
    "|         14 | Southampton          |                   6 |\n",
    "|         15 | Swansea City         |                   6 |\n",
    "|         16 | Aston Villa          |                   5 |\n",
    "|         17 | Sunderland           |                   5 |\n",
    "|         18 | Reading              |                   4 |\n",
    "|         19 | Wigan Athletic       |                   4 |\n",
    "|         20 | Queens Park Rangers  |                   2 |\n",
    "\n",
    "\n",
    "## Resultados temporada 2013-2014  \n",
    "\n",
    "|   Posición | Equipo               |   Victorias locales |\n",
    "|------------|----------------------|---------------------|\n",
    "|          1 | Manchester City      |                  17 |\n",
    "|          2 | Liverpool            |                  16 |\n",
    "|          3 | Chelsea              |                  15 |\n",
    "|          4 | Arsenal              |                  13 |\n",
    "|          5 | Everton              |                  13 |\n",
    "|          6 | Tottenham Hotspur    |                  11 |\n",
    "|          7 | Stoke City           |                  10 |\n",
    "|          8 | Manchester United    |                   9 |\n",
    "|          9 | Newcastle United     |                   8 |\n",
    "|         10 | Southampton          |                   8 |\n",
    "|         11 | Crystal Palace       |                   8 |\n",
    "|         12 | Hull City            |                   7 |\n",
    "|         13 | West Ham United      |                   7 |\n",
    "|         14 | Aston Villa          |                   6 |\n",
    "|         15 | Norwich City         |                   6 |\n",
    "|         16 | Swansea City         |                   6 |\n",
    "|         17 | Fulham               |                   5 |\n",
    "|         18 | Sunderland           |                   5 |\n",
    "|         19 | Cardiff City         |                   5 |\n",
    "|         20 | West Bromwich Albion |                   4 |\n",
    "\n",
    "\n",
    "## Resultados temporada 2014-2015  \n",
    "\n",
    "|   Posición | Equipo               |   Victorias locales |\n",
    "|------------|----------------------|---------------------|\n",
    "|          1 | Chelsea              |                  15 |\n",
    "|          2 | Manchester United    |                  14 |\n",
    "|          3 | Manchester City      |                  14 |\n",
    "|          4 | Arsenal              |                  12 |\n",
    "|          5 | Southampton          |                  11 |\n",
    "|          6 | Stoke City           |                  10 |\n",
    "|          7 | Liverpool            |                  10 |\n",
    "|          8 | Tottenham Hotspur    |                  10 |\n",
    "|          9 | West Ham United      |                   9 |\n",
    "|         10 | Swansea City         |                   9 |\n",
    "|         11 | Newcastle United     |                   7 |\n",
    "|         12 | Leicester City       |                   7 |\n",
    "|         13 | West Bromwich Albion |                   7 |\n",
    "|         14 | Everton              |                   7 |\n",
    "|         15 | Queens Park Rangers  |                   6 |\n",
    "|         16 | Crystal Palace       |                   6 |\n",
    "|         17 | Aston Villa          |                   5 |\n",
    "|         18 | Hull City            |                   5 |\n",
    "|         19 | Burnley              |                   4 |\n",
    "|         20 | Sunderland           |                   4 |\n",
    "\n",
    "\n",
    "## Resultados temporada 2015-2016  \n",
    "\n",
    "|   Posición | Equipo               |   Victorias locales |\n",
    "|------------|----------------------|---------------------|\n",
    "|          1 | Manchester United    |                  12 |\n",
    "|          2 | Manchester City      |                  12 |\n",
    "|          3 | Leicester City       |                  12 |\n",
    "|          4 | Arsenal              |                  12 |\n",
    "|          5 | Southampton          |                  11 |\n",
    "|          6 | Tottenham Hotspur    |                  10 |\n",
    "|          7 | West Ham United      |                   9 |\n",
    "|          8 | Stoke City           |                   8 |\n",
    "|          9 | Swansea City         |                   8 |\n",
    "|         10 | Liverpool            |                   8 |\n",
    "|         11 | Newcastle United     |                   7 |\n",
    "|         12 | Everton              |                   6 |\n",
    "|         13 | Norwich City         |                   6 |\n",
    "|         14 | West Bromwich Albion |                   6 |\n",
    "|         15 | Sunderland           |                   6 |\n",
    "|         16 | Watford              |                   6 |\n",
    "|         17 | Crystal Palace       |                   6 |\n",
    "|         18 | Chelsea              |                   5 |\n",
    "|         19 | AFC Bournemouth      |                   5 |\n",
    "|         20 | Aston Villa          |                   2 |\n",
    "\n",
    "\n",
    "## Resultados temporada 2016-2017  \n",
    "\n",
    "|   Posición | Equipo               |   Victorias locales |\n",
    "|------------|----------------------|---------------------|\n",
    "|          1 | Chelsea              |                  17 |\n",
    "|          2 | Tottenham Hotspur    |                  17 |\n",
    "|          3 | Arsenal              |                  14 |\n",
    "|          4 | Everton              |                  13 |\n",
    "|          5 | Liverpool            |                  12 |\n",
    "|          6 | Manchester City      |                  11 |\n",
    "|          7 | Burnley              |                  10 |\n",
    "|          8 | Leicester City       |                  10 |\n",
    "|          9 | AFC Bournemouth      |                   9 |\n",
    "|         10 | West Bromwich Albion |                   9 |\n",
    "|         11 | Hull City            |                   8 |\n",
    "|         12 | Manchester United    |                   8 |\n",
    "|         13 | Swansea City         |                   8 |\n",
    "|         14 | Watford              |                   8 |\n",
    "|         15 | Stoke City           |                   7 |\n",
    "|         16 | West Ham United      |                   7 |\n",
    "|         17 | Southampton          |                   6 |\n",
    "|         18 | Crystal Palace       |                   6 |\n",
    "|         19 | Middlesbrough        |                   4 |\n",
    "|         20 | Sunderland           |                   3 |\n",
    "\n",
    "\n",
    "## Resultados temporada 2017-2018  \n",
    "\n",
    "|   Posición | Equipo                   |   Victorias locales |\n",
    "|------------|--------------------------|---------------------|\n",
    "|          1 | Manchester City          |                  16 |\n",
    "|          2 | Manchester United        |                  15 |\n",
    "|          3 | Arsenal                  |                  15 |\n",
    "|          4 | Tottenham Hotspur        |                  13 |\n",
    "|          5 | Liverpool                |                  12 |\n",
    "|          6 | Chelsea                  |                  11 |\n",
    "|          7 | Everton                  |                  10 |\n",
    "|          8 | Newcastle United         |                   8 |\n",
    "|          9 | Burnley                  |                   7 |\n",
    "|         10 | Watford                  |                   7 |\n",
    "|         11 | Crystal Palace           |                   7 |\n",
    "|         12 | Brighton and Hove Albion |                   7 |\n",
    "|         13 | AFC Bournemouth          |                   7 |\n",
    "|         14 | Leicester City           |                   7 |\n",
    "|         15 | West Ham United          |                   7 |\n",
    "|         16 | Huddersfield Town        |                   6 |\n",
    "|         17 | Swansea City             |                   6 |\n",
    "|         18 | Stoke City               |                   5 |\n",
    "|         19 | Southampton              |                   4 |\n",
    "|         20 | West Bromwich Albion     |                   3 |\n"
   ]
  },
  {
   "cell_type": "markdown",
   "metadata": {
    "id": "rUqfKgZUeCud"
   },
   "source": [
    "Además para los equipos de los que se tienen datos suficientes se ha encontrado que con más de un 95% de confianza estos equipos tienden a ganar más como locales que como visitantes. \n",
    "\n",
    "Finalmente se ha comprobado que de manera global este resultado también se ve avalado. \n",
    "\n",
    "\n",
    "## Conclusiones sobre Spark \n",
    "\n",
    "Nótese que para los distintos apartados de la práctica hemos debido de extraer los siguientes datos: \n",
    "\n",
    "- Victorias como local por equipo.\n",
    "- El número de temporadas que juega cada equipo.\n",
    "- Los equipos que juegan más de cierta cantidad de temporadas. \n",
    "- Diferencias de victorias como locales y como visitantes de cierto equipo por temporadas. \n",
    "- Diferencias de victorias como locales y como visitantes de todo los equipos por temporadas.\n",
    "\n",
    "A pesar de ser python un lenguaje orientado a objetos la redacción de éstas tareas se han hecho con herramientas funcioneles como: `reduce`, `map`, `filter` y `groupByKey` y en muy pocas líneas, lo cual demuestra la expresividad de tan lenguaje. "
   ]
  }
 ],
 "metadata": {
  "colab": {
   "collapsed_sections": [],
   "provenance": []
  },
  "kernelspec": {
   "display_name": "Python 3 (ipykernel)",
   "language": "python",
   "name": "python3"
  },
  "language_info": {
   "codemirror_mode": {
    "name": "ipython",
    "version": 3
   },
   "file_extension": ".py",
   "mimetype": "text/x-python",
   "name": "python",
   "nbconvert_exporter": "python",
   "pygments_lexer": "ipython3",
   "version": "3.9.7"
  }
 },
 "nbformat": 4,
 "nbformat_minor": 1
}
