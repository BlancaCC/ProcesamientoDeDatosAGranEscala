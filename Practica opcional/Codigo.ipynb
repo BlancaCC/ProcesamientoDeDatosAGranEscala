{
 "cells": [
  {
   "cell_type": "code",
   "execution_count": 1,
   "metadata": {},
   "outputs": [],
   "source": [
    "from ibm_quantum_widgets import CircuitComposer\n",
    "from qiskit import QuantumRegister, ClassicalRegister, QuantumCircuit\n",
    "from numpy import pi\n",
    "from qiskit import QuantumCircuit, execute, Aer, IBMQ\n",
    "from qiskit.compiler import transpile, assemble\n",
    "from qiskit.tools.jupyter import *\n",
    "from qiskit.visualization import *\n"
   ]
  },
  {
   "cell_type": "markdown",
   "metadata": {},
   "source": [
    "Comenzamos almacenando en variables los diferentes métodos de ejecución del circuito para su posterior uso:"
   ]
  },
  {
   "cell_type": "code",
   "execution_count": 2,
   "metadata": {},
   "outputs": [],
   "source": [
    "backend_unitary = Aer.get_backend('unitary_simulator')\n",
    "backend_qasm = Aer.get_backend('qasm_simulator')\n",
    "backend_stvec = Aer.get_backend('statevector_simulator')"
   ]
  },
  {
   "cell_type": "markdown",
   "metadata": {},
   "source": [
    "Ahora nos disponenmos a construir el cirucuito intoduciendo una puerta CNOT y otra de Hadamard"
   ]
  },
  {
   "cell_type": "code",
   "execution_count": 3,
   "metadata": {},
   "outputs": [
    {
     "data": {
      "text/plain": [
       "<qiskit.circuit.instructionset.InstructionSet at 0x2a5ee77dab0>"
      ]
     },
     "execution_count": 3,
     "metadata": {},
     "output_type": "execute_result"
    }
   ],
   "source": [
    "qreg_q = QuantumRegister(2, 'q')\n",
    "creg_c = ClassicalRegister(2, 'c')\n",
    "circuit = QuantumCircuit(qreg_q, creg_c)\n",
    "\n",
    "circuit.cx(qreg_q[0], qreg_q[1])\n",
    "circuit.h(qreg_q[0])"
   ]
  },
  {
   "cell_type": "markdown",
   "metadata": {},
   "source": [
    "El circuito quedará de la siguiente forma:"
   ]
  },
  {
   "cell_type": "code",
   "execution_count": 4,
   "metadata": {},
   "outputs": [
    {
     "data": {
      "text/html": [
       "<pre style=\"word-wrap: normal;white-space: pre;background: #fff0;line-height: 1.1;font-family: &quot;Courier New&quot;,Courier,monospace\">          ┌───┐\n",
       "q_0: ──■──┤ H ├\n",
       "     ┌─┴─┐└───┘\n",
       "q_1: ┤ X ├─────\n",
       "     └───┘     \n",
       "c_0: ══════════\n",
       "               \n",
       "c_1: ══════════\n",
       "               </pre>"
      ],
      "text/plain": [
       "          ┌───┐\n",
       "q_0: ──■──┤ H ├\n",
       "     ┌─┴─┐└───┘\n",
       "q_1: ┤ X ├─────\n",
       "     └───┘     \n",
       "c_0: ══════════\n",
       "               \n",
       "c_1: ══════════\n",
       "               "
      ]
     },
     "execution_count": 4,
     "metadata": {},
     "output_type": "execute_result"
    }
   ],
   "source": [
    "circuit.draw()"
   ]
  },
  {
   "cell_type": "markdown",
   "metadata": {},
   "source": [
    "Veamos la matriz que interviene en nuestro circuito."
   ]
  },
  {
   "cell_type": "code",
   "execution_count": 5,
   "metadata": {},
   "outputs": [
    {
     "data": {
      "text/latex": [
       "$$\n",
       "\n",
       "\\begin{bmatrix}\n",
       "\\tfrac{1}{\\sqrt{2}} & 0 & 0 & \\tfrac{1}{\\sqrt{2}}  \\\\\n",
       " \\tfrac{1}{\\sqrt{2}} & 0 & 0 & -\\tfrac{1}{\\sqrt{2}}  \\\\\n",
       " 0 & \\tfrac{1}{\\sqrt{2}} & \\tfrac{1}{\\sqrt{2}} & 0  \\\\\n",
       " 0 & -\\tfrac{1}{\\sqrt{2}} & \\tfrac{1}{\\sqrt{2}} & 0  \\\\\n",
       " \\end{bmatrix}\n",
       "$$"
      ],
      "text/plain": [
       "<IPython.core.display.Latex object>"
      ]
     },
     "execution_count": 5,
     "metadata": {},
     "output_type": "execute_result"
    }
   ],
   "source": [
    "unitary= execute(circuit,backend_unitary,shots=1024).result().get_unitary()\n",
    "array_to_latex(unitary)\n"
   ]
  },
  {
   "cell_type": "markdown",
   "metadata": {},
   "source": [
    "En este caso el estado inicial de nuestro circuito será $|00\\rangle $. Luego el vector de estado final se calculará de la siguiente forma:\n",
    "\n",
    "$$\n",
    "\\left(\\begin{array}{cccc}\n",
    "\\frac{1}{\\sqrt{2}}&0&0&\\frac{1}{\\sqrt{2}}\\\\\n",
    "\\frac{1}{\\sqrt{2}}&0&0&-\\frac{1}{\\sqrt{2}}\\\\\n",
    "0&\\frac{1}{\\sqrt{2}}&\\frac{1}{\\sqrt{2}}&0\\\\\n",
    "0&-\\frac{1}{\\sqrt{2}}&\\frac{1}{\\sqrt{2}}&0\n",
    "\\end{array}\\right)\n",
    "\\left(\\begin{array}{c}\n",
    "1\\\\\n",
    "0\\\\\n",
    "0\\\\\n",
    "0\n",
    "\\end{array}\\right)\n",
    "=\n",
    "\\left(\\begin{array}{c}\n",
    "\\frac{1}{\\sqrt{2}}\\\\\n",
    "\\frac{1}{\\sqrt{2}}\\\\\n",
    "0\\\\\n",
    "0\n",
    "\\end{array}\\right)\n",
    "$$\n",
    "\n",
    "Comprobemos que nuestro cálculo se ha llevado a cabo correctamente:\n"
   ]
  },
  {
   "cell_type": "code",
   "execution_count": 6,
   "metadata": {},
   "outputs": [
    {
     "data": {
      "text/latex": [
       "$$\n",
       "\n",
       "\\begin{bmatrix}\n",
       "\\tfrac{1}{\\sqrt{2}} & \\tfrac{1}{\\sqrt{2}} & 0 & 0  \\\\\n",
       " \\end{bmatrix}\n",
       "$$"
      ],
      "text/plain": [
       "<IPython.core.display.Latex object>"
      ]
     },
     "execution_count": 6,
     "metadata": {},
     "output_type": "execute_result"
    }
   ],
   "source": [
    "final_state= execute(circuit,backend_stvec,shots=1024).result().get_statevector()\n",
    "array_to_latex(final_state)"
   ]
  },
  {
   "cell_type": "markdown",
   "metadata": {},
   "source": [
    "Introducimos dos medidores para $q_0$ y $q_1$ y una barrera para separar el circuito de dichos medidores."
   ]
  },
  {
   "cell_type": "code",
   "execution_count": 7,
   "metadata": {},
   "outputs": [
    {
     "data": {
      "text/html": [
       "<pre style=\"word-wrap: normal;white-space: pre;background: #fff0;line-height: 1.1;font-family: &quot;Courier New&quot;,Courier,monospace\">          ┌───┐ ░ ┌─┐   \n",
       "q_0: ──■──┤ H ├─░─┤M├───\n",
       "     ┌─┴─┐└───┘ ░ └╥┘┌─┐\n",
       "q_1: ┤ X ├──────░──╫─┤M├\n",
       "     └───┘      ░  ║ └╥┘\n",
       "c_0: ══════════════╩══╩═\n",
       "                        \n",
       "c_1: ═══════════════════\n",
       "                        </pre>"
      ],
      "text/plain": [
       "          ┌───┐ ░ ┌─┐   \n",
       "q_0: ──■──┤ H ├─░─┤M├───\n",
       "     ┌─┴─┐└───┘ ░ └╥┘┌─┐\n",
       "q_1: ┤ X ├──────░──╫─┤M├\n",
       "     └───┘      ░  ║ └╥┘\n",
       "c_0: ══════════════╩══╩═\n",
       "                        \n",
       "c_1: ═══════════════════\n",
       "                        "
      ]
     },
     "execution_count": 7,
     "metadata": {},
     "output_type": "execute_result"
    }
   ],
   "source": [
    "circuit.barrier(qreg_q[0], qreg_q[1])\n",
    "circuit.measure(qreg_q[0], creg_c[0])\n",
    "circuit.measure(qreg_q[1], creg_c[0])\n",
    "\n",
    "circuit.draw()"
   ]
  },
  {
   "cell_type": "markdown",
   "metadata": {},
   "source": [
    "Veamos ahora desde un punto de vista gráfico, el valor que adopta el vector de estados:"
   ]
  },
  {
   "cell_type": "code",
   "execution_count": 8,
   "metadata": {},
   "outputs": [
    {
     "data": {
      "image/png": "[encoded data removed]",
      "text/plain": [
       "<Figure size 700x500 with 1 Axes>"
      ]
     },
     "execution_count": 8,
     "metadata": {},
     "output_type": "execute_result"
    }
   ],
   "source": [
    "job = execute(circuit, backend_qasm, shots=1024)\n",
    "\n",
    "plot_histogram(job.result().get_counts(), title=\"Vector de estado\")"
   ]
  },
  {
   "cell_type": "markdown",
   "metadata": {},
   "source": [
    "De esta forma la probabilidad de aparición del estado $|00\\rangle$ será de 1."
   ]
  },
  {
   "cell_type": "markdown",
   "metadata": {},
   "source": [
    "Veamos ahora otro caso donde aplicamos el algoritmo de teleportación cuántica, pero ahora pasando previamente el circuito por una puerta NOT para el qbit 0 y otra de Hadamard para el qubit 1."
   ]
  },
  {
   "cell_type": "code",
   "execution_count": 9,
   "metadata": {},
   "outputs": [
    {
     "data": {
      "text/html": [
       "<pre style=\"word-wrap: normal;white-space: pre;background: #fff0;line-height: 1.1;font-family: &quot;Courier New&quot;,Courier,monospace\">     ┌───┐     ┌───┐\n",
       "q_0: ┤ X ├──■──┤ H ├\n",
       "     ├───┤┌─┴─┐└───┘\n",
       "q_1: ┤ H ├┤ X ├─────\n",
       "     └───┘└───┘     \n",
       "c_0: ═══════════════\n",
       "                    \n",
       "c_1: ═══════════════\n",
       "                    </pre>"
      ],
      "text/plain": [
       "     ┌───┐     ┌───┐\n",
       "q_0: ┤ X ├──■──┤ H ├\n",
       "     ├───┤┌─┴─┐└───┘\n",
       "q_1: ┤ H ├┤ X ├─────\n",
       "     └───┘└───┘     \n",
       "c_0: ═══════════════\n",
       "                    \n",
       "c_1: ═══════════════\n",
       "                    "
      ]
     },
     "execution_count": 9,
     "metadata": {},
     "output_type": "execute_result"
    }
   ],
   "source": [
    "qreg_q = QuantumRegister(2, 'q')\n",
    "creg_c = ClassicalRegister(2, 'c')\n",
    "circuit_2 = QuantumCircuit(qreg_q, creg_c)\n",
    "\n",
    "circuit_2.x(qreg_q[0])\n",
    "circuit_2.h(qreg_q[1])\n",
    "circuit_2.cx(qreg_q[0], qreg_q[1])\n",
    "circuit_2.h(qreg_q[0])\n",
    "\n",
    "circuit_2.draw()"
   ]
  },
  {
   "cell_type": "code",
   "execution_count": 10,
   "metadata": {},
   "outputs": [
    {
     "data": {
      "text/latex": [
       "$$\n",
       "\n",
       "\\begin{bmatrix}\n",
       "\\tfrac{1}{2} & \\tfrac{1}{2} & -\\tfrac{1}{2} & \\tfrac{1}{2}  \\\\\n",
       " -\\tfrac{1}{2} & \\tfrac{1}{2} & \\tfrac{1}{2} & \\tfrac{1}{2}  \\\\\n",
       " \\tfrac{1}{2} & \\tfrac{1}{2} & \\tfrac{1}{2} & -\\tfrac{1}{2}  \\\\\n",
       " -\\tfrac{1}{2} & \\tfrac{1}{2} & -\\tfrac{1}{2} & -\\tfrac{1}{2}  \\\\\n",
       " \\end{bmatrix}\n",
       "$$"
      ],
      "text/plain": [
       "<IPython.core.display.Latex object>"
      ]
     },
     "execution_count": 10,
     "metadata": {},
     "output_type": "execute_result"
    }
   ],
   "source": [
    "unitary_2= execute(circuit_2,backend_unitary,shots=1024).result().get_unitary()\n",
    "array_to_latex(unitary_2)"
   ]
  },
  {
   "cell_type": "code",
   "execution_count": 11,
   "metadata": {},
   "outputs": [
    {
     "data": {
      "text/latex": [
       "$$\n",
       "\n",
       "\\begin{bmatrix}\n",
       "\\tfrac{1}{2} & -\\tfrac{1}{2} & \\tfrac{1}{2} & -\\tfrac{1}{2}  \\\\\n",
       " \\end{bmatrix}\n",
       "$$"
      ],
      "text/plain": [
       "<IPython.core.display.Latex object>"
      ]
     },
     "execution_count": 11,
     "metadata": {},
     "output_type": "execute_result"
    }
   ],
   "source": [
    "final_state_2= execute(circuit_2,backend_stvec,shots=1024).result().get_statevector()\n",
    "array_to_latex(final_state_2)"
   ]
  },
  {
   "cell_type": "code",
   "execution_count": 12,
   "metadata": {},
   "outputs": [
    {
     "data": {
      "text/html": [
       "<pre style=\"word-wrap: normal;white-space: pre;background: #fff0;line-height: 1.1;font-family: &quot;Courier New&quot;,Courier,monospace\">     ┌───┐     ┌───┐ ░ ┌─┐   \n",
       "q_0: ┤ X ├──■──┤ H ├─░─┤M├───\n",
       "     ├───┤┌─┴─┐└───┘ ░ └╥┘┌─┐\n",
       "q_1: ┤ H ├┤ X ├──────░──╫─┤M├\n",
       "     └───┘└───┘      ░  ║ └╥┘\n",
       "c_0: ═══════════════════╩══╩═\n",
       "                             \n",
       "c_1: ════════════════════════\n",
       "                             </pre>"
      ],
      "text/plain": [
       "     ┌───┐     ┌───┐ ░ ┌─┐   \n",
       "q_0: ┤ X ├──■──┤ H ├─░─┤M├───\n",
       "     ├───┤┌─┴─┐└───┘ ░ └╥┘┌─┐\n",
       "q_1: ┤ H ├┤ X ├──────░──╫─┤M├\n",
       "     └───┘└───┘      ░  ║ └╥┘\n",
       "c_0: ═══════════════════╩══╩═\n",
       "                             \n",
       "c_1: ════════════════════════\n",
       "                             "
      ]
     },
     "execution_count": 12,
     "metadata": {},
     "output_type": "execute_result"
    }
   ],
   "source": [
    "circuit_2.barrier(qreg_q[0], qreg_q[1])\n",
    "circuit_2.measure(qreg_q[0], creg_c[0])\n",
    "circuit_2.measure(qreg_q[1], creg_c[0])\n",
    "\n",
    "circuit_2.draw()"
   ]
  },
  {
   "cell_type": "code",
   "execution_count": 13,
   "metadata": {},
   "outputs": [
    {
     "data": {
      "image/png": "[encoded data removed]",
      "text/plain": [
       "<Figure size 700x500 with 1 Axes>"
      ]
     },
     "execution_count": 13,
     "metadata": {},
     "output_type": "execute_result"
    }
   ],
   "source": [
    "job_2 = execute(circuit_2, backend_qasm, shots=1024)\n",
    "\n",
    "plot_histogram(job_2.result().get_counts(), title=\"Vector de estado\")"
   ]
  }
 ],
 "metadata": {
  "kernelspec": {
   "display_name": "Python 3.10.8 64-bit (microsoft store)",
   "language": "python",
   "name": "python3"
  },
  "language_info": {
   "codemirror_mode": {
    "name": "ipython",
    "version": 3
   },
   "file_extension": ".py",
   "mimetype": "text/x-python",
   "name": "python",
   "nbconvert_exporter": "python",
   "pygments_lexer": "ipython3",
   "version": "3.10.8"
  },
  "orig_nbformat": 4,
  "vscode": {
   "interpreter": {
    "hash": "854ad7b50770bedaf0cab730b1aaabb765566ea98036f134b639e260bede141e"
   }
  }
 },
 "nbformat": 4,
 "nbformat_minor": 2
}
