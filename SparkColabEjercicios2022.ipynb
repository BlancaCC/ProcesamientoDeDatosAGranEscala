{
  "cells": [
    {
      "cell_type": "markdown",
      "metadata": {
        "colab_type": "text",
        "id": "view-in-github"
      },
      "source": [
        "<a href=\"https://colab.research.google.com/github/BlancaCC/ProcesamientoDeDatosAGranEscala/blob/spark/SparkColabEjercicios2022.ipynb\" target=\"_parent\"><img src=\"https://colab.research.google.com/assets/colab-badge.svg\" alt=\"Open In Colab\"/></a>"
      ]
    },
    {
      "cell_type": "code",
      "execution_count": null,
      "metadata": {},
      "outputs": [],
      "source": []
    },
    {
      "cell_type": "markdown",
      "metadata": {
        "id": "6aD1ALMdAy6O"
      },
      "source": [
        "# PySpark en Google Colab\n",
        "\n",
        "Instalacion Octubre/2022\n",
        "\n",
        "1.   Instalacion Java\n",
        "2.   Instalacion de Spark\n",
        "3.   Instalar PySpark\n",
        "\n",
        "## De forma General para usar pyspark en Colab (2022) siga los siguientes pasos en una celda en Colab:"
      ]
    },
    {
      "cell_type": "code",
      "execution_count": 1,
      "metadata": {
        "id": "8JuWZdteAmvv"
      },
      "outputs": [],
      "source": [
        "# instalar Java\n",
        "!apt-get install openjdk-8-jdk-headless -qq > /dev/null\n"
      ]
    },
    {
      "cell_type": "code",
      "execution_count": 2,
      "metadata": {
        "id": "SoApfKfpRunp"
      },
      "outputs": [],
      "source": [
        "# Descargar la ultima versión de java ( comprobar que existen los path de descarga)\n",
        "# Download latest release. Update if necessary\n",
        "\n",
        "!wget -q https://downloads.apache.org/spark/spark-3.3.0/spark-3.3.0-bin-hadoop3.tgz"
      ]
    },
    {
      "cell_type": "code",
      "execution_count": 3,
      "metadata": {
        "colab": {
          "base_uri": "https://localhost:8080/"
        },
        "id": "PzHJ0bpuN-od",
        "outputId": "21f9aab2-8d5b-4bf0-c936-17d4e77307db"
      },
      "outputs": [
        {
          "name": "stdout",
          "output_type": "stream",
          "text": [
            "total 292324\n",
            "drwxr-xr-x 1 root root      4096 Oct  6 06:20 \u001b[0m\u001b[01;34m.\u001b[0m/\n",
            "drwxr-xr-x 1 root root      4096 Oct  6 06:19 \u001b[01;34m..\u001b[0m/\n",
            "drwxr-xr-x 4 root root      4096 Sep 26 13:44 \u001b[01;34m.config\u001b[0m/\n",
            "drwxr-xr-x 1 root root      4096 Sep 26 13:45 \u001b[01;34msample_data\u001b[0m/\n",
            "-rw-r--r-- 1 root root 299321244 Jun  9 20:39 spark-3.3.0-bin-hadoop3.tgz\n"
          ]
        }
      ],
      "source": [
        "%ls -la /content/\n",
        "\n"
      ]
    },
    {
      "cell_type": "code",
      "execution_count": 4,
      "metadata": {
        "id": "uXpriDwJLP1I"
      },
      "outputs": [],
      "source": [
        "!tar xf spark-3.3.0-bin-hadoop3.tgz"
      ]
    },
    {
      "cell_type": "code",
      "execution_count": 5,
      "metadata": {
        "colab": {
          "base_uri": "https://localhost:8080/"
        },
        "id": "aRYGR8EsycZ1",
        "outputId": "9792ce47-0c6b-4717-9e36-e99ab0cc3e15"
      },
      "outputs": [
        {
          "name": "stdout",
          "output_type": "stream",
          "text": [
            "total 292328\n",
            "drwxr-xr-x  1 root root      4096 Oct  6 06:20 \u001b[0m\u001b[01;34m.\u001b[0m/\n",
            "drwxr-xr-x  1 root root      4096 Oct  6 06:19 \u001b[01;34m..\u001b[0m/\n",
            "drwxr-xr-x  4 root root      4096 Sep 26 13:44 \u001b[01;34m.config\u001b[0m/\n",
            "drwxr-xr-x  1 root root      4096 Sep 26 13:45 \u001b[01;34msample_data\u001b[0m/\n",
            "drwxr-xr-x 13 1000 1000      4096 Jun  9 20:37 \u001b[01;34mspark-3.3.0-bin-hadoop3\u001b[0m/\n",
            "-rw-r--r--  1 root root 299321244 Jun  9 20:39 spark-3.3.0-bin-hadoop3.tgz\n"
          ]
        }
      ],
      "source": [
        "%ls -la"
      ]
    },
    {
      "cell_type": "markdown",
      "metadata": {
        "id": "7Qih8Kt1MJla"
      },
      "source": []
    },
    {
      "cell_type": "code",
      "execution_count": 6,
      "metadata": {
        "colab": {
          "base_uri": "https://localhost:8080/"
        },
        "id": "gKlOUyKuMEr7",
        "outputId": "6ce12135-d02f-4a49-f8c9-5ee5e31c09cb"
      },
      "outputs": [
        {
          "name": "stdout",
          "output_type": "stream",
          "text": [
            "\u001b[K     |████████████████████████████████| 281.3 MB 43 kB/s \n",
            "\u001b[K     |████████████████████████████████| 199 kB 46.9 MB/s \n",
            "\u001b[?25h  Building wheel for pyspark (setup.py) ... \u001b[?25l\u001b[?25hdone\n"
          ]
        }
      ],
      "source": [
        "# instalar pyspark\n",
        "!pip install -q pyspark"
      ]
    },
    {
      "cell_type": "markdown",
      "metadata": {
        "id": "EzkJ4JKkCgno"
      },
      "source": [
        "# Variables de entorno"
      ]
    },
    {
      "cell_type": "code",
      "execution_count": 7,
      "metadata": {
        "id": "WVEIOATyCYc6"
      },
      "outputs": [],
      "source": [
        "import os # libreria de manejo del sistema operativo\n",
        "os.environ[\"JAVA_HOME\"] = \"/usr/lib/jvm/java-8-openjdk-amd64\"\n",
        "os.environ[\"SPARK_HOME\"] = \"/content/spark-3.3.0-bin-hadoop3\""
      ]
    },
    {
      "cell_type": "markdown",
      "metadata": {
        "id": "9UCH8MwWGA-Q"
      },
      "source": [
        "# Iniciar la sesión de Spark con pyspark en el sistema"
      ]
    },
    {
      "cell_type": "code",
      "execution_count": 8,
      "metadata": {
        "colab": {
          "base_uri": "https://localhost:8080/",
          "height": 242
        },
        "id": "38_3RcUSCiwb",
        "outputId": "86234de9-f1e8-4d89-fd03-ee964ecc0d9e"
      },
      "outputs": [
        {
          "data": {
            "text/html": [
              "\n",
              "            <div>\n",
              "                <p><b>SparkSession - in-memory</b></p>\n",
              "                \n",
              "        <div>\n",
              "            <p><b>SparkContext</b></p>\n",
              "\n",
              "            <p><a href=\"http://8530e1000440:4040\">Spark UI</a></p>\n",
              "\n",
              "            <dl>\n",
              "              <dt>Version</dt>\n",
              "                <dd><code>v3.3.0</code></dd>\n",
              "              <dt>Master</dt>\n",
              "                <dd><code>local[*]</code></dd>\n",
              "              <dt>AppName</dt>\n",
              "                <dd><code>PDGE-tutorialSpark1</code></dd>\n",
              "            </dl>\n",
              "        </div>\n",
              "        \n",
              "            </div>\n",
              "        "
            ],
            "text/plain": [
              "<pyspark.sql.session.SparkSession at 0x7f2345c73c50>"
            ]
          },
          "execution_count": 8,
          "metadata": {},
          "output_type": "execute_result"
        }
      ],
      "source": [
        "from pyspark.sql import SparkSession\n",
        "\n",
        "APP_NAME = \"PDGE-tutorialSpark1\"\n",
        "SPARK_URL = \"local[*]\"\n",
        "spark = SparkSession.builder.appName(APP_NAME).master(SPARK_URL).getOrCreate()\n",
        "spark"
      ]
    },
    {
      "cell_type": "code",
      "execution_count": 9,
      "metadata": {
        "colab": {
          "base_uri": "https://localhost:8080/",
          "height": 218
        },
        "id": "zRK16gv0zAnN",
        "outputId": "27295cf9-ffa4-492e-9ea7-92e70e9c4ebe"
      },
      "outputs": [
        {
          "data": {
            "text/html": [
              "\n",
              "        <div>\n",
              "            <p><b>SparkContext</b></p>\n",
              "\n",
              "            <p><a href=\"http://8530e1000440:4040\">Spark UI</a></p>\n",
              "\n",
              "            <dl>\n",
              "              <dt>Version</dt>\n",
              "                <dd><code>v3.3.0</code></dd>\n",
              "              <dt>Master</dt>\n",
              "                <dd><code>local[*]</code></dd>\n",
              "              <dt>AppName</dt>\n",
              "                <dd><code>PDGE-tutorialSpark1</code></dd>\n",
              "            </dl>\n",
              "        </div>\n",
              "        "
            ],
            "text/plain": [
              "<SparkContext master=local[*] appName=PDGE-tutorialSpark1>"
            ]
          },
          "execution_count": 9,
          "metadata": {},
          "output_type": "execute_result"
        }
      ],
      "source": [
        "sc = spark.sparkContext\n",
        "#obtener el contexto de ejecución de Spark del Driver.\n",
        "sc"
      ]
    },
    {
      "cell_type": "code",
      "execution_count": 10,
      "metadata": {
        "colab": {
          "base_uri": "https://localhost:8080/"
        },
        "id": "DoAGmb4GY829",
        "outputId": "ee2e8940-9432-4c37-8b86-e936f15a6446"
      },
      "outputs": [
        {
          "data": {
            "text/plain": [
              "ParallelCollectionRDD[0] at readRDDFromFile at PythonRDD.scala:274"
            ]
          },
          "execution_count": 10,
          "metadata": {},
          "output_type": "execute_result"
        }
      ],
      "source": [
        "array = sc.parallelize([1,2,3,4,5,6,7,8,9,10], 2)\n",
        "array"
      ]
    },
    {
      "cell_type": "code",
      "execution_count": 11,
      "metadata": {
        "colab": {
          "base_uri": "https://localhost:8080/"
        },
        "id": "eOLHf13HZ2h1",
        "outputId": "cae04801-cce4-42d0-bb22-c17d6df16837"
      },
      "outputs": [
        {
          "name": "stdout",
          "output_type": "stream",
          "text": [
            "[1, 2, 3, 4, 5, 6, 7, 8, 9, 10]\n"
          ]
        }
      ],
      "source": [
        "print(array.collect())"
      ]
    },
    {
      "cell_type": "code",
      "execution_count": 12,
      "metadata": {
        "colab": {
          "base_uri": "https://localhost:8080/"
        },
        "id": "iuZ5GDGqVwrS",
        "outputId": "13680762-85fc-41d8-be1b-4b66574fd2fb"
      },
      "outputs": [
        {
          "name": "stdout",
          "output_type": "stream",
          "text": [
            "10\n"
          ]
        }
      ],
      "source": [
        "print(array.count())\n"
      ]
    },
    {
      "cell_type": "code",
      "execution_count": 13,
      "metadata": {
        "id": "gy-anBhZ4f0-"
      },
      "outputs": [],
      "source": [
        "num3 = array.map(lambda elemento: 3*elemento)"
      ]
    },
    {
      "cell_type": "code",
      "execution_count": 14,
      "metadata": {
        "colab": {
          "base_uri": "https://localhost:8080/"
        },
        "id": "MKCuCvPI4sgZ",
        "outputId": "e0a3b97c-ab78-474a-931e-65cdbef32e7d"
      },
      "outputs": [
        {
          "name": "stdout",
          "output_type": "stream",
          "text": [
            "[3, 6, 9, 12, 15, 18, 21, 24, 27, 30]\n"
          ]
        }
      ],
      "source": [
        "print(num3.collect())"
      ]
    },
    {
      "cell_type": "markdown",
      "metadata": {
        "id": "ogJwPyVjZWcd"
      },
      "source": [
        "# Ejemplos de operaciones con RDDs de Spark"
      ]
    },
    {
      "cell_type": "code",
      "execution_count": 15,
      "metadata": {
        "colab": {
          "base_uri": "https://localhost:8080/"
        },
        "id": "h_sTML7yZzuH",
        "outputId": "3dcbe8ce-d6ee-43e2-eb3c-a8bb86882a71"
      },
      "outputs": [
        {
          "name": "stdout",
          "output_type": "stream",
          "text": [
            "55\n"
          ]
        }
      ],
      "source": [
        "numeros = sc.parallelize([1,2,3,4,5,6,7,8,9,10],2)\n",
        "\n",
        "print(numeros.reduce(lambda e1,e2: e1+e2))"
      ]
    },
    {
      "cell_type": "code",
      "execution_count": 16,
      "metadata": {
        "colab": {
          "base_uri": "https://localhost:8080/"
        },
        "id": "7PjaW8UhaPoj",
        "outputId": "15972924-d71c-4b25-f1a2-45e2e8133018"
      },
      "outputs": [
        {
          "name": "stdout",
          "output_type": "stream",
          "text": [
            "[2, 4, 6, 8, 10, 12, 14, 16, 18, 20]\n"
          ]
        }
      ],
      "source": [
        "pnumeros = sc.parallelize([1,2,3,4,5,6,7,8,9,10])\n",
        "\n",
        "rdd = pnumeros.map(lambda e: 2*e)\n",
        "\n",
        "print(rdd.collect())\n"
      ]
    },
    {
      "cell_type": "markdown",
      "metadata": {
        "id": "7EObylHIaZKC"
      },
      "source": [
        "## Pregunta TS1.1 ¿Cómo hacer para obtener una lista de los elementos al cuadrado?"
      ]
    },
    {
      "cell_type": "code",
      "execution_count": 17,
      "metadata": {
        "colab": {
          "base_uri": "https://localhost:8080/"
        },
        "id": "IpED25-ga6MX",
        "outputId": "3650fe1f-0e1b-44bc-a163-6e88d7b09f2a"
      },
      "outputs": [
        {
          "name": "stdout",
          "output_type": "stream",
          "text": [
            "[1, 4, 9, 16, 25, 36, 49, 64, 81, 100]\n"
          ]
        }
      ],
      "source": [
        "#¿Cómo hacer para obtener una lista de los elementos al cuadrado?\n",
        "numeros = sc.parallelize([1,2,3,4,5,6,7,8,9,10])\n",
        "\n",
        "#rdd = numeros...\n",
        "rdd = numeros.map(lambda e: e**2)\n",
        "\n",
        "print(rdd.collect())\n"
      ]
    },
    {
      "cell_type": "markdown",
      "metadata": {
        "id": "2LtU6J3ia8Hw"
      },
      "source": [
        "## Pregunta TS1.2 ¿Cómo filtrar los impares?"
      ]
    },
    {
      "cell_type": "code",
      "execution_count": 18,
      "metadata": {
        "colab": {
          "base_uri": "https://localhost:8080/"
        },
        "id": "r5pQG0VDZzkY",
        "outputId": "3883cbe1-4447-4a75-9674-5e383c1aaee4"
      },
      "outputs": [
        {
          "name": "stdout",
          "output_type": "stream",
          "text": [
            "[2, 4, 6, 8, 10]\n"
          ]
        }
      ],
      "source": [
        "#¿Cómo filtrar los impares?\n",
        "#rddi = numeros.\n",
        "rddi = numeros.filter(lambda n: n%2 == 0) # Mostrará los números impares\n",
        "print(rddi.collect())\n"
      ]
    },
    {
      "cell_type": "markdown",
      "metadata": {
        "id": "qc_udeL9kDXu"
      },
      "source": [
        "# Ejemplos de operaciones con números"
      ]
    },
    {
      "cell_type": "markdown",
      "metadata": {
        "id": "RsbMVChlP5r0"
      },
      "source": [
        "Sumar n numeros"
      ]
    },
    {
      "cell_type": "code",
      "execution_count": 19,
      "metadata": {
        "colab": {
          "base_uri": "https://localhost:8080/"
        },
        "id": "ial-4tcjjMUj",
        "outputId": "504930ca-21b2-4a32-8da2-a9c354cc190a"
      },
      "outputs": [
        {
          "data": {
            "text/plain": [
              "499999500000"
            ]
          },
          "execution_count": 19,
          "metadata": {},
          "output_type": "execute_result"
        }
      ],
      "source": [
        "rddnum=sc.range(1000000)\n",
        "rddnum.reduce(lambda a,b: a+b)"
      ]
    },
    {
      "cell_type": "code",
      "execution_count": 20,
      "metadata": {
        "colab": {
          "base_uri": "https://localhost:8080/"
        },
        "id": "EYsRY4yMoB3C",
        "outputId": "06a8fc78-1bd2-43d4-ae34-dd9e4f139195"
      },
      "outputs": [
        {
          "name": "stdout",
          "output_type": "stream",
          "text": [
            "[2, 1, 5]\n"
          ]
        }
      ],
      "source": [
        "numeros = sc.parallelize([1,1,2,2,5])\n",
        "\n",
        "unicos = numeros.distinct()\n",
        "\n",
        "print (unicos.collect())"
      ]
    },
    {
      "cell_type": "code",
      "execution_count": 21,
      "metadata": {
        "colab": {
          "base_uri": "https://localhost:8080/"
        },
        "id": "5uRY-KHycVim",
        "outputId": "64c1813f-f6d3-46f1-fecc-c7db29dbef26"
      },
      "outputs": [
        {
          "name": "stdout",
          "output_type": "stream",
          "text": [
            "[1, 10, 2, 20, 3, 30, 4, 40, 5, 50]\n"
          ]
        }
      ],
      "source": [
        "numeros = sc.parallelize([1,2,3,4,5])\n",
        "\n",
        "rdd = numeros.flatMap(lambda elemento: [elemento, 10*elemento])\n",
        "\n",
        "print (rdd.collect())"
      ]
    },
    {
      "cell_type": "markdown",
      "metadata": {
        "id": "2Iz55urM7Kl3"
      },
      "source": [
        "Muestreo"
      ]
    },
    {
      "cell_type": "code",
      "execution_count": 22,
      "metadata": {
        "colab": {
          "base_uri": "https://localhost:8080/"
        },
        "id": "4m70js9d7N8x",
        "outputId": "0cee26de-daff-4b34-d737-0b6cfe054386"
      },
      "outputs": [
        {
          "name": "stdout",
          "output_type": "stream",
          "text": [
            "[3, 4, 4, 5, 6, 6, 7, 10, 10]\n"
          ]
        }
      ],
      "source": [
        "numeros = sc.parallelize([1,2,3,4,5,6,7,8,9,10])\n",
        "\n",
        "rdd = numeros.sample(True, 1.0)\n",
        "# True = sin reemplazar\n",
        "# 1.0 = fracción de elementos = 100%\n",
        "print (rdd.collect())"
      ]
    },
    {
      "cell_type": "markdown",
      "metadata": {
        "id": "6MlNG4--Pns0"
      },
      "source": [
        "Union "
      ]
    },
    {
      "cell_type": "code",
      "execution_count": 23,
      "metadata": {
        "colab": {
          "base_uri": "https://localhost:8080/"
        },
        "id": "Nib7-OKadSEn",
        "outputId": "c56d8177-60b6-4aae-9d6b-d45fbef10968"
      },
      "outputs": [
        {
          "name": "stdout",
          "output_type": "stream",
          "text": [
            "[2, 4, 6, 8, 10, 1, 3, 5, 7, 9]\n"
          ]
        }
      ],
      "source": [
        "pares = sc.parallelize([2,4,6,8,10])\n",
        "impares = sc.parallelize([1,3,5,7,9])\n",
        "\n",
        "numeros = pares.union(impares)\n",
        "\n",
        "print (numeros.collect())"
      ]
    },
    {
      "cell_type": "markdown",
      "metadata": {
        "id": "YexhndIY7ikM"
      },
      "source": [
        "reducción\n"
      ]
    },
    {
      "cell_type": "code",
      "execution_count": 24,
      "metadata": {
        "colab": {
          "base_uri": "https://localhost:8080/"
        },
        "id": "x3R31PVc7k_L",
        "outputId": "2ec53d20-fe8b-4d8b-cd24-f357cb6b76ae"
      },
      "outputs": [
        {
          "name": "stdout",
          "output_type": "stream",
          "text": [
            "15\n"
          ]
        }
      ],
      "source": [
        "numeros = sc.parallelize([1,2,3,4,5])\n",
        "\n",
        "print (numeros.reduce(lambda elem1,elem2: elem2+elem1))"
      ]
    },
    {
      "cell_type": "markdown",
      "metadata": {
        "id": "Z-KQK9fj78uU"
      },
      "source": [
        "## Pregunta TS1.3 ¿Tiene sentido cambiar la suma por una diferencia? ¿Si se repite se obtiene siempre el mismo resultado?"
      ]
    },
    {
      "cell_type": "code",
      "execution_count": 25,
      "metadata": {
        "colab": {
          "base_uri": "https://localhost:8080/"
        },
        "id": "Gvr3unXn8NOO",
        "outputId": "f225436c-7d02-4b93-f8c4-62a240318ef4"
      },
      "outputs": [
        {
          "name": "stdout",
          "output_type": "stream",
          "text": [
            "15\n"
          ]
        }
      ],
      "source": [
        "#Tiene sentido la reducción(elem1-elem2)?\n",
        "numeros = sc.parallelize([1,2,3,4,5,6,7,8,9,10])\n",
        "\n",
        "print (numeros.reduce(lambda elem1,elem2: elem1-elem2))"
      ]
    },
    {
      "cell_type": "markdown",
      "metadata": {
        "id": "7zn2yurxfjEE"
      },
      "source": [
        "# Respuesta TS1.3 \n",
        "\n",
        "Tal operación **no** tiene sentido ya que la operación obtenida no es la esperada. \n",
        "\n",
        "Para entender qué es lo que está ocurriendo es necesario consultar la documentación oficial de spark [última consulta 30 de septiembre del 2022](https://spark.apache.org/docs/latest/rdd-programming-guide.html)\n",
        "\n",
        "al realizar parallelize por defecto se hacen dos particiones de RRD, por tanto al hacer el reduce se calcularía la operación en las respectivas dos particiones y tras esto se haría la resta de los resultados de ambas. \n",
        "\n",
        "Si quisiéramos que el resultado fuera el esperado deberiamos de especificar de que solo hubiera una partición (ver la celda siguiente)\n"
      ]
    },
    {
      "cell_type": "code",
      "execution_count": 26,
      "metadata": {
        "colab": {
          "base_uri": "https://localhost:8080/"
        },
        "id": "jdC3W6Swgn6z",
        "outputId": "a0fd292d-51de-4106-baa1-42392fe7d63c"
      },
      "outputs": [
        {
          "name": "stdout",
          "output_type": "stream",
          "text": [
            "-53\n"
          ]
        }
      ],
      "source": [
        "# Celda de ejemplo de cómo habría que programarlo para que el resultado fuera el correcto: \n",
        "\n",
        "#Tiene sentido la reducción(elem1-elem2)?\n",
        "numeros = sc.parallelize([1,2,3,4,5,6,7,8,9,10],1)\n",
        "\n",
        "print (numeros.reduce(lambda elem1,elem2: elem1-elem2))"
      ]
    },
    {
      "cell_type": "markdown",
      "metadata": {
        "id": "MLuYVuqYgyA0"
      },
      "source": [
        "Como es de esperar si variamos el número de particiones la salida se verá afectada. Esto nos hace pensar que para poder paralelizar este tipo de operaciones es necesario que las operaciones sean **asociativas y conmutativas**. "
      ]
    },
    {
      "cell_type": "code",
      "execution_count": 27,
      "metadata": {
        "colab": {
          "base_uri": "https://localhost:8080/"
        },
        "id": "A6c147To8T4s",
        "outputId": "e7d1afe2-65ad-4933-a18d-56ee73ad3d25"
      },
      "outputs": [
        {
          "name": "stdout",
          "output_type": "stream",
          "text": [
            "17\n"
          ]
        }
      ],
      "source": [
        "#Tiene sentido la reducción(elem1-elem2) si la repetimos y los elementos están en otro orden?\n",
        "numeros = sc.parallelize([2,1,4,3,5,6,7,8,9,10])\n",
        "\n",
        "print (numeros.reduce(lambda elem1,elem2: elem1-elem2))"
      ]
    },
    {
      "cell_type": "code",
      "execution_count": 28,
      "metadata": {
        "colab": {
          "base_uri": "https://localhost:8080/"
        },
        "id": "t4s4dddrSpjc",
        "outputId": "f857bd9b-8600-451d-f99a-80c820788b8a"
      },
      "outputs": [
        {
          "name": "stdout",
          "output_type": "stream",
          "text": [
            "3\n"
          ]
        }
      ],
      "source": [
        "#Tiene sentido la reducción(elem1-elem2)? ¿qué pasa si cambiamos la paralelización a 5? ¿y si es 2?\n",
        "numeros = sc.parallelize([1,2,3,4,5,6,7,8,9,10],5)\n",
        "\n",
        "print (numeros.reduce(lambda elem1,elem2: elem1-elem2))"
      ]
    },
    {
      "cell_type": "markdown",
      "metadata": {
        "id": "c9iVsHyW8lBj"
      },
      "source": [
        "#Acciones"
      ]
    },
    {
      "cell_type": "code",
      "execution_count": 29,
      "metadata": {
        "colab": {
          "base_uri": "https://localhost:8080/"
        },
        "id": "vNyMypQj8o__",
        "outputId": "6925d987-7d7c-48b5-845a-bbcbdfb7b5d8"
      },
      "outputs": [
        {
          "name": "stdout",
          "output_type": "stream",
          "text": [
            "[5, 3, 1]\n"
          ]
        }
      ],
      "source": [
        "numeros = sc.parallelize([5,3,1,2,4])\n",
        "\n",
        "print (numeros.take(3))\n",
        "#¿Qué sucede si ponemos 30 en vez de 3 elementos?"
      ]
    },
    {
      "cell_type": "markdown",
      "metadata": {
        "id": "fWL86-R8JTmx"
      },
      "source": [
        "### Solución \n",
        "\n",
        "Tomará los 30 primeros, en nuestro caso, puesto que solo hay 5 tomará los 5 prieros. "
      ]
    },
    {
      "cell_type": "code",
      "execution_count": 30,
      "metadata": {
        "colab": {
          "base_uri": "https://localhost:8080/"
        },
        "id": "RRuJczUX8kSv",
        "outputId": "a06b5064-39de-4ff9-b5ea-947235855992"
      },
      "outputs": [
        {
          "name": "stdout",
          "output_type": "stream",
          "text": [
            "[5, 4, 3]\n"
          ]
        }
      ],
      "source": [
        "numeros = sc.parallelize([3,2,1,4,5])\n",
        "# (La segunda función se utiliza como índice de ordenación)\n",
        "print (numeros.takeOrdered(3, lambda elem: -elem))\n",
        "# La función lambda se está utilizando para crear el índice de la lista de ordenación "
      ]
    },
    {
      "cell_type": "markdown",
      "metadata": {
        "id": "ltQB9md2ME1l"
      },
      "source": [
        "## Pregunta TS1.4 ¿Cómo lo ordenarías para que primero aparezcan los impares y luego los pares?"
      ]
    },
    {
      "cell_type": "code",
      "execution_count": 31,
      "metadata": {
        "colab": {
          "base_uri": "https://localhost:8080/"
        },
        "id": "BIaKzQy1M98H",
        "outputId": "bbf6c55b-0658-4cfc-dc13-d1697e72b818"
      },
      "outputs": [
        {
          "name": "stdout",
          "output_type": "stream",
          "text": [
            "[1, 5, 2, 3, 4]\n"
          ]
        }
      ],
      "source": [
        "#¿Cómo lo ordenarías para que primero aparezcan los impares y luego los pares?\n",
        "numeros = sc.parallelize([3,2,1,4,5])\n",
        "#print(numeros...\n",
        "print (numeros.takeOrdered(5, lambda elem: elem*(elem %5) + elem))\n"
      ]
    },
    {
      "cell_type": "markdown",
      "metadata": {
        "id": "ctm29gO0ZIbZ"
      },
      "source": [
        "# RDDs con string"
      ]
    },
    {
      "cell_type": "code",
      "execution_count": 32,
      "metadata": {
        "colab": {
          "base_uri": "https://localhost:8080/"
        },
        "id": "wzdO64iKaC1q",
        "outputId": "363d36ec-d581-4477-82d6-f81976929e1d"
      },
      "outputs": [
        {
          "name": "stdout",
          "output_type": "stream",
          "text": [
            "['hola', 'que', 'tal', 'bien']\n"
          ]
        }
      ],
      "source": [
        "palabras = sc.parallelize(['HOLA', 'Que', 'TAL', 'Bien'])\n",
        "\n",
        "pal_minus = palabras.map(lambda elemento: elemento.lower())\n",
        "\n",
        "print (pal_minus.collect())"
      ]
    },
    {
      "cell_type": "code",
      "execution_count": 33,
      "metadata": {
        "colab": {
          "base_uri": "https://localhost:8080/"
        },
        "id": "_7Pn8FjtakNG",
        "outputId": "fb2ace4c-2990-436f-f384-dfcfce1b46a3"
      },
      "outputs": [
        {
          "name": "stdout",
          "output_type": "stream",
          "text": [
            "[4, 3, 3, 4]\n"
          ]
        }
      ],
      "source": [
        "palabras = sc.parallelize(['HOLA', 'Que', 'TAL', 'Bien'])\n",
        "\n",
        "pal_long = palabras.map(lambda elemento: len(elemento))\n",
        "\n",
        "print (pal_long.collect())"
      ]
    },
    {
      "cell_type": "code",
      "execution_count": 34,
      "metadata": {
        "colab": {
          "base_uri": "https://localhost:8080/"
        },
        "id": "rmZwI0MGbAOS",
        "outputId": "3f4bd5ba-6936-4a43-f11e-1b1e90058121"
      },
      "outputs": [
        {
          "name": "stdout",
          "output_type": "stream",
          "text": [
            "['E: e21', 'E: e45']\n"
          ]
        }
      ],
      "source": [
        "log = sc.parallelize(['E: e21', 'W: w12', 'W: w13', 'E: e45'])\n",
        "\n",
        "errors = log.filter(lambda elemento: elemento[0]=='E')\n",
        "\n",
        "print (errors.collect())"
      ]
    },
    {
      "cell_type": "code",
      "execution_count": 35,
      "metadata": {
        "colab": {
          "base_uri": "https://localhost:8080/"
        },
        "id": "KKDB9UzIcbau",
        "outputId": "9f883e6b-1f19-41c4-b200-4ff4312fa2aa"
      },
      "outputs": [
        {
          "name": "stdout",
          "output_type": "stream",
          "text": [
            "['a', 'a', 'b', 'a', 'b', 'c']\n"
          ]
        }
      ],
      "source": [
        "lineas = sc.parallelize(['', 'a', 'a b', 'a b c'])\n",
        "\n",
        "palabras = lineas.flatMap(lambda elemento: elemento.split())\n",
        "\n",
        "print (palabras.collect())"
      ]
    },
    {
      "cell_type": "code",
      "execution_count": 36,
      "metadata": {
        "colab": {
          "base_uri": "https://localhost:8080/"
        },
        "id": "ZpM4oMF_cnW4",
        "outputId": "58beb6d2-7791-44da-e4bb-6d0fefa94e53"
      },
      "outputs": [
        {
          "name": "stdout",
          "output_type": "stream",
          "text": [
            "['a', 'a', 'b', 'a', 'b', 'c']\n",
            "[[], ['a'], ['a', 'b'], ['a', 'b', 'c']]\n"
          ]
        }
      ],
      "source": [
        "lineas = sc.parallelize(['', 'a', 'a b', 'a b c'])\n",
        "\n",
        "palabras_flat = lineas.flatMap(lambda elemento: elemento.split())\n",
        "palabras_map = lineas.map(lambda elemento: elemento.split())\n",
        "\n",
        "print (palabras_flat.collect())\n",
        "print (palabras_map.collect())\n"
      ]
    },
    {
      "cell_type": "markdown",
      "metadata": {
        "id": "saVy72uncpMC"
      },
      "source": [
        "## Pregunta TS1.5 ¿Cuántos elementos tiene cada rdd? ¿Cuál tiene más?\n"
      ]
    },
    {
      "cell_type": "code",
      "execution_count": 37,
      "metadata": {
        "colab": {
          "base_uri": "https://localhost:8080/"
        },
        "id": "pfLDcQrV3e7j",
        "outputId": "9dc35f48-a97e-4887-8974-41b4e63a2fc0"
      },
      "outputs": [
        {
          "name": "stdout",
          "output_type": "stream",
          "text": [
            "['a', 'a', 'b', 'a', 'b', 'c']\n",
            "[[], ['a'], ['a', 'b'], ['a', 'b', 'c']]\n"
          ]
        }
      ],
      "source": [
        "#¿Cuántos elementos tiene cada rdd? ¿Cuál tiene más?\n",
        "print (palabras_flat.collect())\n",
        "print (palabras_map.collect())"
      ]
    },
    {
      "cell_type": "markdown",
      "metadata": {
        "id": "Uazj97cgLY_u"
      },
      "source": [
        "### Respuesta TS1.5\n",
        "El primero posee 6, mientras que el otro 4. Es evidente que el primero posee más. "
      ]
    },
    {
      "cell_type": "markdown",
      "metadata": {
        "id": "cDgvc1iU3MA2"
      },
      "source": [
        "## Pregunta TS1.6 ¿De qué tipo son los elementos del rdd palabras_map? ¿Por qué palabras_map tiene el primer elemento vacío?\n",
        "\n",
        "### Respuesta TS1.6\n",
        "\n",
        "Son listas. \n",
        "\n",
        "Está vacía porque se generado a partir de un string sin ningún carácter ni espacio, que tras ser *separados* por la función  `split` se traduce en la lista vacía. \n"
      ]
    },
    {
      "cell_type": "code",
      "execution_count": 38,
      "metadata": {
        "colab": {
          "base_uri": "https://localhost:8080/"
        },
        "id": "zsa9OFbhc0-i",
        "outputId": "9f299847-ae9e-4ad5-a6d0-cc65bdfefbfa"
      },
      "outputs": [
        {
          "data": {
            "text/plain": [
              "['a']"
            ]
          },
          "execution_count": 38,
          "metadata": {},
          "output_type": "execute_result"
        }
      ],
      "source": [
        "palabras_flat.take(1)"
      ]
    },
    {
      "cell_type": "code",
      "execution_count": 39,
      "metadata": {
        "colab": {
          "base_uri": "https://localhost:8080/"
        },
        "id": "Gwn33hfO0XoJ",
        "outputId": "24fd3d97-9e73-4092-dfec-a95bc72a6f24"
      },
      "outputs": [
        {
          "data": {
            "text/plain": [
              "[[]]"
            ]
          },
          "execution_count": 39,
          "metadata": {},
          "output_type": "execute_result"
        }
      ],
      "source": [
        "palabras_map.take(1)\n"
      ]
    },
    {
      "cell_type": "markdown",
      "metadata": {
        "id": "1Lv-KrP0dNdE"
      },
      "source": [
        "## Pregunta TS1.7. Prueba la transformación distinct si lo aplicamos a cadenas."
      ]
    },
    {
      "cell_type": "code",
      "execution_count": 40,
      "metadata": {
        "colab": {
          "base_uri": "https://localhost:8080/"
        },
        "id": "6oyxAO8KdIWH",
        "outputId": "b39f4912-6102-4aab-ede6-30bb3ae708d0"
      },
      "outputs": [
        {
          "name": "stdout",
          "output_type": "stream",
          "text": [
            "['I: i11', 'W: w12', 'W: w13', 'E: e45', 'E: e21']\n"
          ]
        }
      ],
      "source": [
        "# Prueba la transformación distinct si lo aplicamos a cadenas.¿Que realiza?\n",
        "log = sc.parallelize(['E: e21', 'I: i11', 'W: w12', 'I: i11', 'W: w13', 'E: e45'])\n",
        "print( log.distinct().collect() )"
      ]
    },
    {
      "cell_type": "markdown",
      "metadata": {
        "id": "CQ9t8hMPOqrk"
      },
      "source": [
        "### Respuesta TS1.7 \n",
        "\n",
        "Podemos observar que muestra los elementos de la lista sin repeticiones. "
      ]
    },
    {
      "cell_type": "markdown",
      "metadata": {
        "id": "mjuin2jgcqCo"
      },
      "source": [
        "## Pregunta TS1.8 ¿Cómo se podría obtener la misma salida pero utilizando una sola transformación y sin realizar la unión?"
      ]
    },
    {
      "cell_type": "code",
      "execution_count": 41,
      "metadata": {
        "colab": {
          "base_uri": "https://localhost:8080/"
        },
        "id": "Y2NdOdomdoHP",
        "outputId": "e4d64544-d162-4b8a-c6a1-1a570b3b5646"
      },
      "outputs": [
        {
          "name": "stdout",
          "output_type": "stream",
          "text": [
            "['I: i11', 'I: i11', 'E: e21', 'E: e45']\n"
          ]
        }
      ],
      "source": [
        "log = sc.parallelize(['E: e21', 'I: i11', 'W: w12', 'I: i11', 'W: w13', 'E: e45'])\n",
        "\n",
        "infos = log.filter(lambda elemento: elemento[0]=='I')\n",
        "errors = log.filter(lambda elemento: elemento[0]=='E')\n",
        "\n",
        "inferr = infos.union(errors)\n",
        "\n",
        "print (inferr.collect())"
      ]
    },
    {
      "cell_type": "markdown",
      "metadata": {
        "id": "O6xIKeQ7FF7T"
      },
      "source": [
        "### Respuesta TS1.8 \n",
        "\n",
        "Para ello vamos a realizar directamente el filtro donde se admitan ambas condiciones.  "
      ]
    },
    {
      "cell_type": "code",
      "execution_count": 42,
      "metadata": {
        "colab": {
          "base_uri": "https://localhost:8080/"
        },
        "id": "9pkSehs-X0O7",
        "outputId": "9e8fd7f0-71e9-4d00-981f-c8f775e9f8e8"
      },
      "outputs": [
        {
          "name": "stdout",
          "output_type": "stream",
          "text": [
            "['E: e21', 'I: i11', 'I: i11', 'E: e45']\n"
          ]
        }
      ],
      "source": [
        "#¿Cómo se podría obtener la misma salida pero utilizando una sola transformación y sin realizar la unión?\n",
        "log = sc.parallelize(['E: e21', 'I: i11', 'W: w12', 'I: i11', 'W: w13', 'E: e45'])\n",
        "result = log.filter(lambda elemento: elemento[0]=='I' or elemento[0]=='E')\n",
        "print(result.collect())\n"
      ]
    },
    {
      "cell_type": "markdown",
      "metadata": {
        "id": "gcCxyCHYX6GB"
      },
      "source": [
        "# Diferencias entre hacer map y recuce con números y cadenas"
      ]
    },
    {
      "cell_type": "code",
      "execution_count": 43,
      "metadata": {
        "colab": {
          "base_uri": "https://localhost:8080/"
        },
        "id": "mv4rsT2Fd_1p",
        "outputId": "d7979ef0-d18d-451f-dc0a-192f2773bb11"
      },
      "outputs": [
        {
          "name": "stdout",
          "output_type": "stream",
          "text": [
            "15\n"
          ]
        }
      ],
      "source": [
        "numeros = sc.parallelize([1,2,3,4,5])\n",
        "\n",
        "print (numeros.reduce(lambda elem1,elem2: elem2+elem1))"
      ]
    },
    {
      "cell_type": "code",
      "execution_count": 44,
      "metadata": {
        "colab": {
          "base_uri": "https://localhost:8080/"
        },
        "id": "Ej3-MXZDeFmy",
        "outputId": "de1cc30f-a973-4b8b-c25e-1ab2e3607e4a"
      },
      "outputs": [
        {
          "name": "stdout",
          "output_type": "stream",
          "text": [
            "3\n"
          ]
        }
      ],
      "source": [
        "#Tiene sentido esta operación?¿Cómo sale el resultado? pruebe los resultados\n",
        "# empezando con 2 elementos e ir incrementando hasta tener 5\n",
        "\n",
        "numeros = sc.parallelize([1,2,3,4,5])\n",
        "\n",
        "print (numeros.reduce(lambda elem1,elem2: elem2-elem1))"
      ]
    },
    {
      "cell_type": "markdown",
      "metadata": {
        "id": "0-fKrTkrFi5W"
      },
      "source": [
        "No tiene sentido porque el resultado no es correcto. "
      ]
    },
    {
      "cell_type": "code",
      "execution_count": 45,
      "metadata": {
        "colab": {
          "base_uri": "https://localhost:8080/"
        },
        "id": "8Fn01BADUaW2",
        "outputId": "99e32600-1871-4d86-bcc5-98bc77818d67"
      },
      "outputs": [
        {
          "name": "stdout",
          "output_type": "stream",
          "text": [
            "Para 2 elementos, la lista que se  es [1, 2]\n",
            "Para 2 elementos 1\n",
            "Para 3 elementos, la lista que se  es [1, 2, 3]\n",
            "Para 3 elementos 0\n",
            "Para 4 elementos, la lista que se  es [1, 2, 3, 4]\n",
            "Para 4 elementos 0\n",
            "Para 5 elementos, la lista que se  es [1, 2, 3, 4, 5]\n",
            "Para 5 elementos 3\n"
          ]
        }
      ],
      "source": [
        "for i in range(2,6):\n",
        "  print(f\"Para {i} elementos, la lista que se  es {list(range(1,i+1))}\")\n",
        "  numeros = sc.parallelize(list(range(1,i+1)))\n",
        "  print (f\"Para {i} elementos\", numeros.reduce(lambda elem1,elem2: elem2-elem1))"
      ]
    },
    {
      "cell_type": "code",
      "execution_count": 46,
      "metadata": {
        "colab": {
          "base_uri": "https://localhost:8080/"
        },
        "id": "jgXmpVzveNaW",
        "outputId": "02d631e9-7f1a-46da-fdc4-fbe91e1f62a3"
      },
      "outputs": [
        {
          "name": "stdout",
          "output_type": "stream",
          "text": [
            "hola-que-tal-bien\n"
          ]
        }
      ],
      "source": [
        "palabras = sc.parallelize(['HOLA', 'Que', 'TAL', 'Bien'])\n",
        "\n",
        "pal_minus = palabras.map(lambda elemento: elemento.lower())\n",
        "\n",
        "print (pal_minus.reduce(lambda elem1,elem2: elem1+\"-\"+elem2))\n",
        "#y esta tiene sentido esta operación?\n",
        "#Sí tiene \n",
        "# Qué pasa si ponemos elem2+\"-\"+elem1\n",
        "#"
      ]
    },
    {
      "cell_type": "code",
      "execution_count": 47,
      "metadata": {
        "colab": {
          "base_uri": "https://localhost:8080/"
        },
        "id": "J7Xq1qjhWFR2",
        "outputId": "173cf82b-655a-4b50-fd6c-01a707483497"
      },
      "outputs": [
        {
          "name": "stdout",
          "output_type": "stream",
          "text": [
            "bien-tal-que-hola\n"
          ]
        }
      ],
      "source": [
        "print (pal_minus.reduce(lambda elem1,elem2: elem2+\"-\"+elem1))"
      ]
    },
    {
      "cell_type": "markdown",
      "metadata": {
        "id": "GenLAdgPF9kA"
      },
      "source": [
        "En este ejemplo se pone de manifiesto claramente lo que se comentó en la respuesta [Respuesta TS1.3](#respuesta-ts1.3). "
      ]
    },
    {
      "cell_type": "code",
      "execution_count": 48,
      "metadata": {
        "colab": {
          "base_uri": "https://localhost:8080/"
        },
        "id": "1lzjZV5xeVze",
        "outputId": "cb82851c-c0c5-42d4-df7f-c74fbc6775e9"
      },
      "outputs": [
        {
          "name": "stdout",
          "output_type": "stream",
          "text": [
            "[('C', 4), ('A', 2), ('B', 5)]\n"
          ]
        }
      ],
      "source": [
        "r = sc.parallelize([('A', 1),('C', 4),('A', 1),('B', 1),('B', 4)])\n",
        "rr = r.reduceByKey(lambda v1,v2:v1+v2)\n",
        "print (rr.collect())"
      ]
    },
    {
      "cell_type": "code",
      "execution_count": 49,
      "metadata": {
        "colab": {
          "base_uri": "https://localhost:8080/"
        },
        "id": "EZ3sOeL5ebOw",
        "outputId": "77350ef3-b28c-4fd9-9506-43444413aea3"
      },
      "outputs": [
        {
          "name": "stdout",
          "output_type": "stream",
          "text": [
            "[('C', 4), ('A', 2), ('B', 5)]\n",
            "[('C', 4), ('A', 2), ('B', 5)]\n"
          ]
        }
      ],
      "source": [
        "r = sc.parallelize([('A', 1),('C', 4),('A', 1),('B', 1),('B', 4)])\n",
        "rr1 = r.reduceByKey(lambda v1,v2:v1+v2)\n",
        "print (rr1.collect())\n",
        "rr2 = rr1.reduceByKey(lambda v1,v2:v1)\n",
        "print (rr2.collect())\n"
      ]
    },
    {
      "cell_type": "markdown",
      "metadata": {
        "id": "LLPvqqELz-Pt"
      },
      "source": [
        "## Pregunta TS1.9 ¿Cómo explica el funcionamiento de las celdas anteriores?"
      ]
    },
    {
      "cell_type": "code",
      "execution_count": 50,
      "metadata": {
        "id": "XTv2W1dCa7Mo"
      },
      "outputs": [],
      "source": [
        "#palabras = sc.parallelize(['HOLA', 'Que', 'TAL', 'Bien'])\n",
        "#print (pal_minus.reduce(lambda elem1,elem2: elem1+\"-\"+elem2))\n",
        "#y esta tiene sentido esta operación?\n",
        "# Qué pasa si ponemos elem2+\"-\"+elem1"
      ]
    },
    {
      "cell_type": "code",
      "execution_count": 51,
      "metadata": {
        "colab": {
          "base_uri": "https://localhost:8080/"
        },
        "id": "20T9DRYMbPYU",
        "outputId": "f2fabffa-304e-4384-e1a5-5d2556f6eff5"
      },
      "outputs": [
        {
          "name": "stdout",
          "output_type": "stream",
          "text": [
            "[('C', 4), ('A', 2), ('B', 5)]\n"
          ]
        }
      ],
      "source": [
        "r = sc.parallelize([('A', 1),('C', 4),('A', 1),('B', 1),('B', 4)])\n",
        "rr = r.reduceByKey(lambda v1,v2:v1+v2)\n",
        "print (rr.collect())"
      ]
    },
    {
      "cell_type": "markdown",
      "metadata": {
        "id": "WeBNwRIlW7_H"
      },
      "source": [
        "\n",
        "De cada dupla suma el valor de los elementos que comparten la misma clave. "
      ]
    },
    {
      "cell_type": "code",
      "execution_count": 52,
      "metadata": {
        "colab": {
          "base_uri": "https://localhost:8080/"
        },
        "id": "5k9o9JzEbZGn",
        "outputId": "ced9df1b-c843-4015-f735-cf64400d94c6"
      },
      "outputs": [
        {
          "name": "stdout",
          "output_type": "stream",
          "text": [
            "[('C', 4), ('A', 2), ('B', 5)]\n",
            "[('C', 4), ('A', 2), ('B', 5)]\n"
          ]
        }
      ],
      "source": [
        "r = sc.parallelize([('A', 1),('C', 4),('A', 1),('B', 1),('B', 4)])\n",
        "rr1 = r.reduceByKey(lambda v1,v2:v1+v2)\n",
        "print (rr1.collect())\n",
        "rr2 = rr1.reduceByKey(lambda v1,v2:v1)\n",
        "print (rr2.collect())\n"
      ]
    },
    {
      "cell_type": "markdown",
      "metadata": {
        "id": "GVlCUhOya1-z"
      },
      "source": [
        "# TS1.10 Responda a las preguntas planteadas al hacer los cambios sugeridos en las siguiente celdas"
      ]
    },
    {
      "cell_type": "code",
      "execution_count": 53,
      "metadata": {
        "colab": {
          "base_uri": "https://localhost:8080/"
        },
        "id": "fR2ruD-TeeK2",
        "outputId": "278d183a-a941-4b9f-ac6d-ad7a003985e7"
      },
      "outputs": [
        {
          "name": "stdout",
          "output_type": "stream",
          "text": [
            "[('C', 4), ('A', 'hola'), ('B', 'hola')]\n",
            "[('C', 4), ('A', 'hola'), ('B', 'hola')]\n"
          ]
        }
      ],
      "source": [
        "r = sc.parallelize([('A', 1),('C', 4),('A', 1),('B', 1),('B', 4)])\n",
        "rr1 = r.reduceByKey(lambda v1,v2:'hola')\n",
        "print (rr1.collect())\n",
        "rr2 = rr1.reduceByKey(lambda v1,v2:'hola')\n",
        "print (rr2.collect())"
      ]
    },
    {
      "cell_type": "code",
      "execution_count": 54,
      "metadata": {
        "colab": {
          "base_uri": "https://localhost:8080/"
        },
        "id": "gKbP8VKzeitK",
        "outputId": "1e6622e5-07ab-4d97-ce43-7234c53e9793"
      },
      "outputs": [
        {
          "name": "stdout",
          "output_type": "stream",
          "text": [
            "C [2]\n",
            "A [1, 3]\n",
            "B [4, 5]\n"
          ]
        }
      ],
      "source": [
        "r = sc.parallelize([('A', 1),('C', 2),('A', 3),('B', 4),('B', 5)])\n",
        "rr = r.groupByKey()\n",
        "res= rr.collect()\n",
        "for k,v in res:\n",
        "    print (k, list(v))\n",
        "# Que operación se puede realizar al RDD rr para que la operacion sea como un reduceByKey\n",
        "#¿Y simular un group con un reduceByKey y un map?"
      ]
    },
    {
      "cell_type": "markdown",
      "metadata": {
        "id": "37CavW5dJ79M"
      },
      "source": [
        "### Respuestas TS1.10 \n",
        "\n",
        "#### Transformar groupByKey para que se transforme como un reduce \n",
        "\n",
        "\n"
      ]
    },
    {
      "cell_type": "code",
      "execution_count": 55,
      "metadata": {
        "colab": {
          "base_uri": "https://localhost:8080/"
        },
        "id": "w9JtoHftJ6lN",
        "outputId": "9202ecc0-7794-42a2-caeb-00331142478f"
      },
      "outputs": [
        {
          "name": "stdout",
          "output_type": "stream",
          "text": [
            "[('C', 2), ('A', 'hola'), ('B', 'hola')]\n"
          ]
        }
      ],
      "source": [
        "from functools import reduce \n",
        "r = sc.parallelize([('A', 1),('C', 2),('A', 3),('B', 4),('B', 5)])\n",
        "# Transformación con sentencias de python \n",
        "rr = (r.groupByKey()).collect()\n",
        "res = list(map( lambda v: (v[0], reduce( lambda x,y: \"hola\", list(v[1]))), rr))\n",
        "print(res)"
      ]
    },
    {
      "cell_type": "markdown",
      "metadata": {
        "id": "s39AsHW3Qo-5"
      },
      "source": [
        "### Simular un GroupBy con un reduceByKey y un map\n",
        "\n",
        "De cada par clave valor la idea es introducir cada valor a una lista y despues realizar `reduceByKey` donde la operación de *reduce* es concaternar las listas. "
      ]
    },
    {
      "cell_type": "code",
      "execution_count": 56,
      "metadata": {
        "colab": {
          "base_uri": "https://localhost:8080/"
        },
        "id": "T91VeOmeQ6UF",
        "outputId": "8a9d702e-18c6-4df0-c7d9-e60e515ea8ec"
      },
      "outputs": [
        {
          "name": "stdout",
          "output_type": "stream",
          "text": [
            "[('C', [4]), ('A', [1, 1]), ('B', [1, 4])]\n"
          ]
        }
      ],
      "source": [
        "r = sc.parallelize([('A', 1),('C', 4),('A', 1),('B', 1),('B', 4)])\n",
        "r_map = r.map(lambda x: (x[0],[x[1]]))\n",
        "rr1 = r_map.reduceByKey(lambda v1,v2: v1+v2)\n",
        "print (rr1.collect())"
      ]
    },
    {
      "cell_type": "code",
      "execution_count": 57,
      "metadata": {
        "colab": {
          "base_uri": "https://localhost:8080/"
        },
        "id": "1UBMxjgi19V8",
        "outputId": "640dd1a6-1262-42fd-d882-8666950992f2"
      },
      "outputs": [
        {
          "name": "stdout",
          "output_type": "stream",
          "text": [
            "[('A', (1, 4)), ('B', (2, 5)), ('C', (3, 6))]\n"
          ]
        }
      ],
      "source": [
        "rdd1 = sc.parallelize([('A',1),('B',2),('C',3)])\n",
        "rdd2 = sc.parallelize([('A',4),('B',5),('C',6)])\n",
        "\n",
        "rddjoin = rdd1.join(rdd2)\n",
        "\n",
        "print (rddjoin.collect())\n",
        "# Prueba a cambiar las claves del rdd1 y rdd2 para ver cuántos elementos se crean"
      ]
    },
    {
      "cell_type": "code",
      "execution_count": 58,
      "metadata": {
        "colab": {
          "base_uri": "https://localhost:8080/"
        },
        "id": "XXVC6hoC2Kw-",
        "outputId": "ef73734f-8327-49f5-8ec3-b59a3b0ea486"
      },
      "outputs": [
        {
          "name": "stdout",
          "output_type": "stream",
          "text": [
            "[('A', (1, 4)), ('A', (1, 5)), ('B', (2, 6))]\n"
          ]
        }
      ],
      "source": [
        "rdd1 = sc.parallelize([('A',1),('B',2),('C',3)])\n",
        "rdd2 = sc.parallelize([('A',4),('A',5),('B',6),('D',7)])\n",
        "\n",
        "rddjoin = rdd1.join(rdd2)\n",
        "\n",
        "print (rddjoin.collect())\n",
        "#Modifica join por leftOuterJoin, rightOuterJoin y fullOuterJoin ¿Qué sucede? \n"
      ]
    },
    {
      "cell_type": "code",
      "execution_count": 59,
      "metadata": {
        "colab": {
          "base_uri": "https://localhost:8080/"
        },
        "id": "quNvzEdK2gv5",
        "outputId": "836cfef5-df47-4d11-d201-fe1e63c6ad67"
      },
      "outputs": [
        {
          "name": "stdout",
          "output_type": "stream",
          "text": [
            "[('C', 3), ('B', 2), ('B', 6), ('A', 1), ('A', 4), ('A', 5)]\n"
          ]
        }
      ],
      "source": [
        "rdd = sc.parallelize([('A',1),('B',2),('C',3),('A',4),('A',5),('B',6)])\n",
        "\n",
        "res = rdd.sortByKey(False)\n",
        "\n",
        "print (res.collect())"
      ]
    },
    {
      "cell_type": "markdown",
      "metadata": {
        "id": "zOir6ry549KP"
      },
      "source": [
        "# Utilización de ficheros"
      ]
    },
    {
      "cell_type": "code",
      "execution_count": 60,
      "metadata": {
        "id": "0HSk78ba3DTv"
      },
      "outputs": [],
      "source": [
        "\n",
        "# Crea una lista de 1000 números y la guarda.\n",
        "# Da error si 'salida' existe, descomenta la linea de borrar en ese caso.\n",
        "%rm -rf salida\n",
        "numeros = sc.parallelize(range(0,1000))\n",
        "numeros.saveAsTextFile('salida')\n"
      ]
    },
    {
      "cell_type": "code",
      "execution_count": 61,
      "metadata": {
        "colab": {
          "base_uri": "https://localhost:8080/"
        },
        "id": "r1oOMj9U3azd",
        "outputId": "a4519613-e271-41c3-9e51-f158e583dc02"
      },
      "outputs": [
        {
          "name": "stdout",
          "output_type": "stream",
          "text": [
            "total 292332\n",
            "drwxr-xr-x  1 root root      4096 Oct  6 06:22 \u001b[0m\u001b[01;34m.\u001b[0m/\n",
            "drwxr-xr-x  1 root root      4096 Oct  6 06:19 \u001b[01;34m..\u001b[0m/\n",
            "drwxr-xr-x  4 root root      4096 Sep 26 13:44 \u001b[01;34m.config\u001b[0m/\n",
            "drwxr-xr-x  2 root root      4096 Oct  6 06:22 \u001b[01;34msalida\u001b[0m/\n",
            "drwxr-xr-x  1 root root      4096 Sep 26 13:45 \u001b[01;34msample_data\u001b[0m/\n",
            "drwxr-xr-x 13 1000 1000      4096 Jun  9 20:37 \u001b[01;34mspark-3.3.0-bin-hadoop3\u001b[0m/\n",
            "-rw-r--r--  1 root root 299321244 Jun  9 20:39 spark-3.3.0-bin-hadoop3.tgz\n"
          ]
        }
      ],
      "source": [
        "ls -la"
      ]
    },
    {
      "cell_type": "code",
      "execution_count": 62,
      "metadata": {
        "colab": {
          "base_uri": "https://localhost:8080/"
        },
        "id": "y3T8t98g3koT",
        "outputId": "ba756891-da65-4609-d602-7bed1d3de3fc"
      },
      "outputs": [
        {
          "name": "stdout",
          "output_type": "stream",
          "text": [
            "-rw-r--r-- 1 root root 1890 Oct  6 06:22 salida/part-00000\n",
            "-rw-r--r-- 1 root root 2000 Oct  6 06:22 salida/part-00001\n",
            "-rw-r--r-- 1 root root    0 Oct  6 06:22 salida/_SUCCESS\n"
          ]
        }
      ],
      "source": [
        "%ls -la salida/*\n"
      ]
    },
    {
      "cell_type": "code",
      "execution_count": 63,
      "metadata": {
        "id": "2yWrIYA83q_c"
      },
      "outputs": [],
      "source": [
        "#%cat salida/part-00000"
      ]
    },
    {
      "cell_type": "code",
      "execution_count": 64,
      "metadata": {
        "colab": {
          "base_uri": "https://localhost:8080/"
        },
        "id": "D6_KGg9w3Rqm",
        "outputId": "c84f1111-b2bf-4771-fe1b-500a9e3c026e"
      },
      "outputs": [
        {
          "name": "stdout",
          "output_type": "stream",
          "text": [
            "499500\n"
          ]
        }
      ],
      "source": [
        "# Recupera el fichero guardado y realiza la suma\n",
        "n2 = sc.textFile('salida').map(lambda a:int(a))\n",
        "print(n2.reduce(lambda v1,v2: v1 + v2))\n",
        "\n",
        "# Prueba este código y mira qué genera?\n",
        "# Borra la salida y cambia las particiones en parallelize ¿Qué sucede? \n",
        "#    (pe c.parallelize(xrange(0,1000),8))\n"
      ]
    },
    {
      "cell_type": "markdown",
      "metadata": {
        "id": "33FiLTWp6LQ2"
      },
      "source": [
        "## Pregunta TS1.11 Borra la salida y cambia las particiones en parallelize ¿Qué sucede? \n",
        "  (pe c.parallelize(xrange(0,1000),8))\n"
      ]
    },
    {
      "cell_type": "code",
      "execution_count": 65,
      "metadata": {
        "colab": {
          "base_uri": "https://localhost:8080/"
        },
        "id": "b-MVlt7T0nhT",
        "outputId": "438bca2d-c9ca-4c09-ad16-98da692645c3"
      },
      "outputs": [
        {
          "name": "stdout",
          "output_type": "stream",
          "text": [
            "499500\n"
          ]
        }
      ],
      "source": [
        "# Recupera el fichero guardado y realiza la suma\n",
        "n2 = sc.textFile('salida').map(lambda a:int(a))\n",
        "print(n2.reduce(lambda v1,v2: v1 + v2))\n",
        "\n",
        "# Prueba este código y mira qué genera?\n",
        "# Borra la salida y cambia las particiones en parallelize ¿Qué sucede? \n",
        "sc.parallelize(range(0,1000),8)\n",
        "numeros.saveAsTextFile('salida2')\n"
      ]
    },
    {
      "cell_type": "code",
      "execution_count": 66,
      "metadata": {
        "colab": {
          "base_uri": "https://localhost:8080/"
        },
        "id": "H0ZoCcKbVWa2",
        "outputId": "ad046af6-100c-4c91-c152-8cac5bda98f9"
      },
      "outputs": [
        {
          "name": "stdout",
          "output_type": "stream",
          "text": [
            "0\n",
            "1\n"
          ]
        }
      ],
      "source": [
        "# Prueba este código y mira qué genera?\n",
        "# Borra la salida y cambia las particiones en parallelize ¿Qué sucede? \n",
        "%rm -rf salida3\n",
        "n = sc.parallelize(range(0,17),8)\n",
        "n.saveAsTextFile('salida3')\n",
        "%cat salida3/part-00000\n"
      ]
    },
    {
      "cell_type": "markdown",
      "metadata": {
        "id": "8LebgGjsW2GE"
      },
      "source": [
        "### Respuesta TS1.11\n",
        "Podemos observar que cada proceso en paralelo sobreescribe el fichero y por tanto solo se refleja la última que ha sido guardada. "
      ]
    },
    {
      "cell_type": "code",
      "execution_count": 67,
      "metadata": {
        "colab": {
          "base_uri": "https://localhost:8080/"
        },
        "id": "WeJ_uFiZVcG4",
        "outputId": "1defa567-3512-4e77-d6f7-fec1c22d3fc0"
      },
      "outputs": [
        {
          "name": "stdout",
          "output_type": "stream",
          "text": [
            "0\n",
            "1\n"
          ]
        }
      ],
      "source": [
        "%cat salida3/part-00000"
      ]
    },
    {
      "cell_type": "code",
      "execution_count": 68,
      "metadata": {
        "colab": {
          "base_uri": "https://localhost:8080/"
        },
        "id": "H4lLsBhy4Yxq",
        "outputId": "0c865bfc-b6af-4c49-ce01-95b3b5c5059d"
      },
      "outputs": [
        {
          "name": "stdout",
          "output_type": "stream",
          "text": [
            "total 292336\n",
            "drwxr-xr-x  1 root root      4096 Oct  6 06:22 \u001b[0m\u001b[01;34m.\u001b[0m/\n",
            "drwxr-xr-x  1 root root      4096 Oct  6 06:19 \u001b[01;34m..\u001b[0m/\n",
            "drwxr-xr-x  4 root root      4096 Sep 26 13:44 \u001b[01;34m.config\u001b[0m/\n",
            "drwxr-xr-x  2 root root      4096 Oct  6 06:22 \u001b[01;34msalida2\u001b[0m/\n",
            "drwxr-xr-x  2 root root      4096 Oct  6 06:22 \u001b[01;34msalida3\u001b[0m/\n",
            "drwxr-xr-x  1 root root      4096 Sep 26 13:45 \u001b[01;34msample_data\u001b[0m/\n",
            "drwxr-xr-x 13 1000 1000      4096 Jun  9 20:37 \u001b[01;34mspark-3.3.0-bin-hadoop3\u001b[0m/\n",
            "-rw-r--r--  1 root root 299321244 Jun  9 20:39 spark-3.3.0-bin-hadoop3.tgz\n"
          ]
        }
      ],
      "source": [
        "%rm -rf salida\n",
        "%ls -la\n"
      ]
    },
    {
      "cell_type": "markdown",
      "metadata": {
        "id": "SyfefweJenb8"
      },
      "source": [
        "# El quijote"
      ]
    },
    {
      "cell_type": "markdown",
      "metadata": {
        "id": "xcxH-o_ZQSje"
      },
      "source": [
        "Montar el directorio de trabajo utilizando Google Drive\n",
        "Loading Your Data into Google Colaboratory.\n",
        "1. First of all, Upload your Data to your Google Drive.\n",
        "2. Run the following script in colab shell.\n",
        "3. Copy the authorization code of your account.\n",
        "4. Paste the authorization code into the output shell.\n",
        "5. Congrats! Now your Google Drive is mounted to this location /content/gdrive/MyDrive/\n",
        "\n",
        "\n"
      ]
    },
    {
      "cell_type": "markdown",
      "metadata": {
        "id": "5aS_Xvk2_kSN"
      },
      "source": []
    },
    {
      "cell_type": "code",
      "execution_count": 69,
      "metadata": {
        "colab": {
          "base_uri": "https://localhost:8080/"
        },
        "id": "Vl0Fq5nChoYj",
        "outputId": "08aa447e-3c90-4c25-913f-5f30cede10a4"
      },
      "outputs": [
        {
          "name": "stdout",
          "output_type": "stream",
          "text": [
            "Mounted at /content/gdrive\n"
          ]
        }
      ],
      "source": [
        "from google.colab import drive\n",
        "#drive.flush_and_unmount()\n",
        "drive.mount('/content/gdrive')"
      ]
    },
    {
      "cell_type": "code",
      "execution_count": 70,
      "metadata": {
        "colab": {
          "base_uri": "https://localhost:8080/"
        },
        "id": "jL-wqZOCZzrL",
        "outputId": "b2379120-9f18-48d7-8203-098cce6987dd"
      },
      "outputs": [
        {
          "name": "stdout",
          "output_type": "stream",
          "text": [
            " \u001b[0m\u001b[01;34mBlog\u001b[0m/\n",
            "\u001b[01;34m'Colab Notebooks'\u001b[0m/\n",
            "'Copy of review 1.docx'\n",
            "'Copy of review 1.gdoc'\n",
            "'Ejercicios de Topologia Rafael camino.zip'\n",
            " Ejercicios-resueltos-Topologia-E-Nieto.pdf\n",
            " essay0902.gdoc\n",
            "'Essay 2.gdoc'\n",
            "'Essay, further education.gdoc'\n",
            "'Fecha graduaciones.gsheet'\n",
            " \u001b[01;34mFotos-actos-graduación\u001b[0m/\n",
            " \u001b[01;34mGoodNotes\u001b[0m/\n",
            "'IQ gente de primero.gsheet'\n",
            "'libro nuevo matemáticas.zip'\n",
            " \u001b[01;34mlibros\u001b[0m/\n",
            " libro_topologia_rafael_lopez_camino.pdf\n",
            "'Los libros.zip'\n",
            "'Memories timesheet.gsheet'\n",
            "'Proposal 2.gdoc'\n",
            " Proposals.gdoc\n",
            "'review 1.gdoc'\n",
            " \u001b[01;34mstat\u001b[0m/\n",
            "'TFG Summary.gdoc'\n",
            "\u001b[01;34m'Viaje estudios Alemania 2016'\u001b[0m/\n"
          ]
        }
      ],
      "source": [
        "%ls /content/gdrive/MyDrive/"
      ]
    },
    {
      "cell_type": "code",
      "execution_count": 71,
      "metadata": {
        "colab": {
          "base_uri": "https://localhost:8080/"
        },
        "id": "YpBiHwBjauJk",
        "outputId": "5854e634-f7ea-487c-ecf0-e74150304f86"
      },
      "outputs": [
        {
          "name": "stdout",
          "output_type": "stream",
          "text": [
            "cp: cannot stat './gdrive/MyDrive/Colab\\ Notebooks/quijote.txt': No such file or directory\n"
          ]
        }
      ],
      "source": [
        "#!cp \"/content/gdrive/My Drive/quijote.txt\" .\n",
        "# Nota: He tenido que añadir la ruta esta para concreta para que lo lea en mi drive\n",
        "!cp \"./gdrive/MyDrive/Colab\\ Notebooks/quijote.txt\" ."
      ]
    },
    {
      "cell_type": "code",
      "execution_count": 72,
      "metadata": {
        "colab": {
          "base_uri": "https://localhost:8080/"
        },
        "id": "TmlBII6cbiIt",
        "outputId": "9cdc2aef-cf01-4b1d-eac9-be9ec5ff766f"
      },
      "outputs": [
        {
          "name": "stdout",
          "output_type": "stream",
          "text": [
            "total 292340\n",
            "drwxr-xr-x  1 root root      4096 Oct  6 06:22 \u001b[0m\u001b[01;34m.\u001b[0m/\n",
            "drwxr-xr-x  1 root root      4096 Oct  6 06:19 \u001b[01;34m..\u001b[0m/\n",
            "drwxr-xr-x  4 root root      4096 Sep 26 13:44 \u001b[01;34m.config\u001b[0m/\n",
            "drwx------  5 root root      4096 Oct  6 06:22 \u001b[01;34mgdrive\u001b[0m/\n",
            "drwxr-xr-x  2 root root      4096 Oct  6 06:22 \u001b[01;34msalida2\u001b[0m/\n",
            "drwxr-xr-x  2 root root      4096 Oct  6 06:22 \u001b[01;34msalida3\u001b[0m/\n",
            "drwxr-xr-x  1 root root      4096 Sep 26 13:45 \u001b[01;34msample_data\u001b[0m/\n",
            "drwxr-xr-x 13 1000 1000      4096 Jun  9 20:37 \u001b[01;34mspark-3.3.0-bin-hadoop3\u001b[0m/\n",
            "-rw-r--r--  1 root root 299321244 Jun  9 20:39 spark-3.3.0-bin-hadoop3.tgz\n"
          ]
        }
      ],
      "source": [
        "%ls -la"
      ]
    },
    {
      "cell_type": "code",
      "execution_count": 73,
      "metadata": {
        "colab": {
          "base_uri": "https://localhost:8080/",
          "height": 57
        },
        "id": "OgqJUkLqb5ZG",
        "outputId": "ae857cbf-134f-4774-f1d8-2d8b150dae0a"
      },
      "outputs": [
        {
          "data": {
            "application/vnd.google.colaboratory.intrinsic+json": {
              "type": "string"
            },
            "text/plain": [
              "'/content'"
            ]
          },
          "execution_count": 73,
          "metadata": {},
          "output_type": "execute_result"
        }
      ],
      "source": [
        "%pwd\n",
        "\n"
      ]
    },
    {
      "cell_type": "markdown",
      "metadata": {
        "id": "y9E6_qc-a7GE"
      },
      "source": [
        "# Procesando el QUIJOTE"
      ]
    },
    {
      "cell_type": "code",
      "execution_count": 74,
      "metadata": {
        "colab": {
          "base_uri": "https://localhost:8080/"
        },
        "id": "_Li3mX8ebMSi",
        "outputId": "aee24bf2-ddbb-47ad-dc6f-cc2b7fd64367"
      },
      "outputs": [
        {
          "data": {
            "text/plain": [
              "['EL INGENIOSO HIDALGO DON QUIJOTE DE LA MANCHA',\n",
              " '',\n",
              " 'Miguel de Cervantes Saavedra',\n",
              " '',\n",
              " '     Capítulo primero',\n",
              " '',\n",
              " '     Que trata de la condición y ejercicio del famoso hidalgo D.',\n",
              " 'Quijote de la ',\n",
              " '     Mancha',\n",
              " '']"
            ]
          },
          "execution_count": 74,
          "metadata": {},
          "output_type": "execute_result"
        }
      ],
      "source": [
        "# Nota: He tenido que añadir la ruta esta para concreta para que lo lea en mi drive\n",
        "quijote = sc.textFile(\"gdrive/MyDrive/Colab\\ Notebooks/quijote.txt\")\n",
        "quijote.take(10)"
      ]
    },
    {
      "cell_type": "markdown",
      "metadata": {
        "id": "GDVSZOrYbrEt"
      },
      "source": [
        "Transformaciones"
      ]
    },
    {
      "cell_type": "code",
      "execution_count": 75,
      "metadata": {
        "id": "ITsCl47JbfM_"
      },
      "outputs": [],
      "source": [
        "charsPerLine = quijote.map(lambda s: len(s))\n",
        "allWords = quijote.flatMap(lambda s: s.split())\n",
        "allWordsNoArticles = allWords.filter(lambda a: a.lower() not in [\"el\", \"la\"])\n",
        "allWordsUnique = allWords.map(lambda s: s.lower()).distinct()\n",
        "sampleWords = allWords.sample(withReplacement=True, fraction=0.2, seed=666)\n",
        "weirdSampling = sampleWords.union(allWordsNoArticles.sample(False, fraction=0.3))\n",
        "# cómo funciona cada transformación"
      ]
    },
    {
      "cell_type": "markdown",
      "metadata": {
        "id": "HxPQC3gSJ8t9"
      },
      "source": [
        "- `charsPerLine`: Caracteres por líneas. \n",
        "- `allWords`: Contiene un RRD cuyos elementos son variables de tipo `String` con las palabras del quijote.\n",
        "- `allWordsNoArticles`: Minimiza las palabras del RDD `allWords` y devuelve todas menos los artículos `el` y `la`.\n",
        "- `allWordsUnique`:  Minimiza las palabras del RDD `allWords` y deja solo un representante. \n",
        "- `sampleWords`: Toma una muestra aleatora de tamaño aproximadamente $20\\%$  del RRD de `allWords` con remplazamiento y semilla $666$. \n",
        "- `weirdSampling`: Devuelve un RDD que contiene los elementos de `sampleWords` y una mueestra aleatoria de `allWordsNoArticles` sin remplazamiento y de tamaño alrededor del $30\\%$.\n",
        "\n",
        "Se detallarán las funciones en la respuesta a TS2.1. \n"
      ]
    },
    {
      "cell_type": "code",
      "execution_count": 76,
      "metadata": {
        "colab": {
          "base_uri": "https://localhost:8080/"
        },
        "id": "4kpZSOS7cAYr",
        "outputId": "191e9c2a-efcc-42a4-f921-5473ea6b2985"
      },
      "outputs": [
        {
          "data": {
            "text/plain": [
              "['el',\n",
              " 'hidalgo',\n",
              " 'don',\n",
              " 'mancha',\n",
              " 'saavedra',\n",
              " 'que',\n",
              " 'condición',\n",
              " 'y',\n",
              " 'del',\n",
              " 'd.']"
            ]
          },
          "execution_count": 76,
          "metadata": {},
          "output_type": "execute_result"
        }
      ],
      "source": [
        "allWordsUnique.take(10)"
      ]
    },
    {
      "cell_type": "markdown",
      "metadata": {
        "id": "PpAuT-AkcRyf"
      },
      "source": [
        "## Pregunta TS2.1 Explica la utilidad de cada transformación y detalle para cada una de ellas si cambia el número de elementos en el RDD resultante. Es decir si el RDD de partida tiene N elementos, y el de salida M elementos, indica si N>M, N=M o N<M."
      ]
    },
    {
      "cell_type": "markdown",
      "metadata": {
        "id": "-0Xj_MR9eVCf"
      },
      "source": [
        "-  map\n",
        "- flatmap\n",
        "- filter\n",
        "- distinct\n",
        "- sample\n",
        "- union\n"
      ]
    },
    {
      "cell_type": "markdown",
      "metadata": {
        "id": "gCasPZBmyHaI"
      },
      "source": [
        "## Respuesta TS2.1\n",
        "\n",
        "### Map\n",
        "\n",
        "Los argumentos de `map` son `map(f) ` donde `f` a cuyo dominio pertenecen los elementos del RDD. \n",
        "\n",
        "El RDD resultante son las respectivas imágenes de aplicar los elementos del RDD de entrada a `f`. \n",
        "\n",
        "Es por ello que N = M.\n",
        "\n",
        "Ejemplo: \n"
      ]
    },
    {
      "cell_type": "code",
      "execution_count": 77,
      "metadata": {
        "colab": {
          "base_uri": "https://localhost:8080/"
        },
        "id": "C1gRqw9r0Chd",
        "outputId": "4d8f0518-e403-43b7-8d6c-5ec2517727f1"
      },
      "outputs": [
        {
          "name": "stdout",
          "output_type": "stream",
          "text": [
            "[0, 11, 22, 33, 44, 55, 66, 77, 88, 99]\n"
          ]
        }
      ],
      "source": [
        "numeros = sc.parallelize(list(range(10)))\n",
        "rdd = numeros.map(lambda x: x*10+x)\n",
        "print(rdd.collect())"
      ]
    },
    {
      "cell_type": "markdown",
      "metadata": {
        "id": "04LaBAYX0ivk"
      },
      "source": [
        "### Flatmap\n",
        "Funciona como un `map` el cual generaría un RDD cuyos elementos deben ser iterables, a éstos se le aplica la operación de *flattening*, es decir *saca* los elementos que estén en una lista (solo actúa a un nivel, una lista de lista devolvería una lista). \n",
        "\n",
        "No se puede establecer que ninguna relación entre N y M ya que si hay listas  vacías entonces pudiera darse el caso que N > M (ver ejemplo 2 que se mostrará a continuación). Aunque si imponemos que no hay listas vacías entonces $N \\leq M$. \n",
        "\n"
      ]
    },
    {
      "cell_type": "code",
      "execution_count": 78,
      "metadata": {
        "colab": {
          "base_uri": "https://localhost:8080/"
        },
        "id": "E-Fjgm5C2m_U",
        "outputId": "2caf602c-16f9-44bb-fe7b-4c687dcfe413"
      },
      "outputs": [
        {
          "name": "stdout",
          "output_type": "stream",
          "text": [
            "[0, 0, 1, 11, 2, 22, 3, 33, 4, 44, 5, 55, 6, 66, 7, 77, 8, 88, 9, 99]\n",
            "Ejemplo 2: si se aplicara un map solo  solo:\n",
            " [[], [[]], [[[]]]]\n",
            "Ejemplo 2: de qué habría en un flapMap:\n",
            " [[], [[]]]\n",
            "Ejemplo 3: si se aplicara un map solo:\n",
            " [[0], [1], [[1]]]\n",
            "Ejemplo 3: si se aplicara un flapMap:\n",
            " [0, 1, [1]]\n"
          ]
        }
      ],
      "source": [
        "# Ejemplo 1: N < M\n",
        "numeros = sc.parallelize(list(range(10)))\n",
        "rdd = numeros.flatMap(lambda x: [x,x*10+x])\n",
        "print(rdd.collect())\n",
        "\n",
        "# Ejemplo 2: N > M\n",
        "def lista_recursiva (n):\n",
        "  if n <= 1:\n",
        "    return []\n",
        "  else:\n",
        "    return [lista_recursiva(n-1)]\n",
        "numeros = sc.parallelize(list(range(1,4)))\n",
        "print(\"Ejemplo 2: si se aplicara un map solo  solo:\\n\",\n",
        "      numeros.map(lambda x: lista_recursiva(x)).collect())\n",
        "print(\"Ejemplo 2: de qué habría en un flapMap:\\n\",\n",
        "      numeros.flatMap(lambda x: lista_recursiva(x)).collect())\n",
        "\n",
        "# Ejemplo 3: N = M\n",
        "def lista_recursiva_2 (n):\n",
        "  if n <= 1:\n",
        "    return [n]\n",
        "  else:\n",
        "    return [lista_recursiva_2(n-1)]\n",
        "\n",
        "numeros = sc.parallelize(list(range(3)))\n",
        "print(\"Ejemplo 3: si se aplicara un map solo:\\n\",\n",
        "      numeros.map(lambda x: lista_recursiva_2(x)).collect())\n",
        "\n",
        "print(\"Ejemplo 3: si se aplicara un flapMap:\\n\",\n",
        "      numeros.flatMap(lambda x: lista_recursiva_2(x)).collect())\n",
        "\n"
      ]
    },
    {
      "cell_type": "markdown",
      "metadata": {
        "id": "88U_QGHI2jvy"
      },
      "source": [
        "## Filter \n",
        "\n",
        "Recive una función con dominio en los elemntos del RDD de partida y salida un booleano. \n",
        "Devuelve un RDD con los elementos cuya imagen sea `True`.\n",
        "En este caso $N \\geq M$, donde la igualdad se dará si todos los elementos tienen imagen `True`."
      ]
    },
    {
      "cell_type": "code",
      "execution_count": 95,
      "metadata": {
        "colab": {
          "base_uri": "https://localhost:8080/"
        },
        "id": "vx546pQ9uxSY",
        "outputId": "bbfef0ee-0526-477d-faf5-47d07acc31ad"
      },
      "outputs": [
        {
          "name": "stdout",
          "output_type": "stream",
          "text": [
            "[0, 1]\n"
          ]
        }
      ],
      "source": [
        "numeros = sc.parallelize([0,1,2,3,4])\n",
        "rddi = numeros.filter(lambda x: x < 2) # Mostrará los números menores de dos\n",
        "print(rddi.collect())"
      ]
    },
    {
      "cell_type": "markdown",
      "metadata": {
        "id": "s6bXR4Xk99zM"
      },
      "source": [
        "## Distinct \n",
        "\n",
        "Elimina los elementos repetidos dejando solo una incidencia de ellos. \n",
        "Por tanto $N \\geq M$ donde la igualdad se da si no hay ningún elemento repetido. \n"
      ]
    },
    {
      "cell_type": "code",
      "execution_count": 98,
      "metadata": {
        "colab": {
          "base_uri": "https://localhost:8080/"
        },
        "id": "hejOPrl494hV",
        "outputId": "a214fc68-468b-4eb8-b84e-764134ab0a36"
      },
      "outputs": [
        {
          "name": "stdout",
          "output_type": "stream",
          "text": [
            "[0, 2, 1]\n",
            "[('a', 1), ('a', 2), ('b', 1)]\n"
          ]
        }
      ],
      "source": [
        "# Ejemplo sencillo\n",
        "n = sc.parallelize([0,0,1,1,0,2])\n",
        "rdd = n.distinct()\n",
        "print(rdd.collect())\n",
        "\n",
        "# Ejemplo complejo, compara elemento a elemento\n",
        "n = sc.parallelize([('a',2),('a',2), ('a',1), ('b',1),])\n",
        "rdd = n.distinct()\n",
        "print(rdd.collect())"
      ]
    },
    {
      "cell_type": "markdown",
      "metadata": {
        "id": "1zUNxlId_rtL"
      },
      "source": [
        "## Sample\n",
        "\n",
        "Es un mecanismo para extraes muestras aleatorias, sus argumentos son: \n",
        "`sample(withReplacement, fraction, seed=None`\n",
        "- `withReplacement`: booleano que indica si hay reemplazamiento. \n",
        "- `fraction`: decimal en $[0,1]$ fracción de la mustra que se desea. **No se garantiza que la muestra siempre de esa fracción, puede ser menor o mayor**.\n",
        "- `seed` semilla. \n",
        "\n",
        "Por la observación de que no se garantice la fracción no se puede establecer ninguna relación de orden entre $N$ y $M$, mostramos tales situaciones a continuación. "
      ]
    },
    {
      "cell_type": "code",
      "execution_count": 110,
      "metadata": {
        "colab": {
          "base_uri": "https://localhost:8080/"
        },
        "id": "aZ4CGrmYA9py",
        "outputId": "8a9cf94a-aca0-4b65-c5ca-cffa9dbf813c"
      },
      "outputs": [
        {
          "name": "stdout",
          "output_type": "stream",
          "text": [
            "RDD de partida [0, 1, 2, 3, 4] N = 5\n",
            "Ejemplo 1: N > M\n",
            "[3, 4]\n",
            "Ejemplo 2: N < M\n",
            "[0, 0, 1, 1, 2, 3, 3, 4, 4, 4, 4]\n",
            "Ejemplo 3: N = M\n",
            "[0, 1, 2, 3, 4]\n"
          ]
        }
      ],
      "source": [
        "# Ejemplo 1: N > M\n",
        "print(f'RDD de partida {list(range(5))} N = 5')\n",
        "print('Ejemplo 1: N > M')\n",
        "numeros = sc.parallelize(list(range(5)))\n",
        "rdd = numeros.sample(True, 0.5, 0)\n",
        "print(rdd.collect())\n",
        "# Ejemplo 2: N < M\n",
        "print('Ejemplo 2: N < M')\n",
        "numeros = sc.parallelize(list(range(5)))\n",
        "rdd = numeros.sample(True, 1,1)\n",
        "print(rdd.collect())\n",
        "# Ejemplo 3: N = M\n",
        "print('Ejemplo 3: N = M')\n",
        "numeros = sc.parallelize(list(range(5)))\n",
        "rdd = numeros.sample(False, 1,1)\n",
        "print(rdd.collect())"
      ]
    },
    {
      "cell_type": "markdown",
      "metadata": {
        "id": "PEGKcBqM_vwL"
      },
      "source": [
        "## Union\n",
        "\n",
        "Dados dos RDD devuelve la unión de los dos, es decir, uno RDD con todos los elementos de ambos (cabe destacar que en caso de estar repetidos los elementos los volvería a repetir). \n",
        "Para este si $N_1, N_2$ son los respectivos tamaños de los RDD de entrada y $M$ el de salida se cumple que\n",
        "$N_1 + N_2 = M$"
      ]
    },
    {
      "cell_type": "code",
      "execution_count": 112,
      "metadata": {
        "colab": {
          "base_uri": "https://localhost:8080/"
        },
        "id": "smn8gHH9Er5S",
        "outputId": "55343b3f-9076-47c2-ecdd-beaf01f82631"
      },
      "outputs": [
        {
          "name": "stdout",
          "output_type": "stream",
          "text": [
            "[1, 2, 3, 1, 3, 5]\n",
            "[1, 2, 3, '1', '3', '5']\n"
          ]
        }
      ],
      "source": [
        "# Ejemplos 1: \n",
        "n1 = sc.parallelize([1,2,3])\n",
        "n2 = sc.parallelize([1,3,5])\n",
        "m = n1.union(n2)\n",
        "print (m.collect())\n",
        "\n",
        "# Ejemplo 2: Une elementos de distinto tipo\n",
        "n1 = sc.parallelize([1,2,3])\n",
        "n2 = sc.parallelize(['1','3','5'])\n",
        "m = n1.union(n2)\n",
        "print (m.collect())"
      ]
    },
    {
      "cell_type": "code",
      "execution_count": 80,
      "metadata": {
        "colab": {
          "base_uri": "https://localhost:8080/"
        },
        "id": "PWJlgOUDcQhc",
        "outputId": "8e55d9d4-5cc1-4d34-c273-623f40335cb5"
      },
      "outputs": [
        {
          "data": {
            "text/plain": [
              "(5534,\n",
              " 305678,\n",
              " ['procuremos.Levántate,',\n",
              "  'estrechísimamente,',\n",
              "  'Pintiquiniestra,',\n",
              "  'entretenimiento,',\n",
              "  'maravillosamente',\n",
              "  'descansadamente;',\n",
              "  'desenfadadamente',\n",
              "  'quebrantamientos',\n",
              "  'quebrantamiento,',\n",
              "  'alternativamente',\n",
              "  'encantamientos,',\n",
              "  'Placerdemivida,',\n",
              "  'encantamientos;',\n",
              "  'malbaratándolas',\n",
              "  'regocijadamente',\n",
              "  'consentimiento,',\n",
              "  'desaconsejaban,',\n",
              "  'acontecimiento.',\n",
              "  'agradeciéndoles',\n",
              "  'encantamientos,'])"
            ]
          },
          "execution_count": 80,
          "metadata": {},
          "output_type": "execute_result"
        }
      ],
      "source": [
        "numLines = quijote.count()\n",
        "numChars = charsPerLine.reduce(lambda a,b: a+b) # also charsPerLine.sum()\n",
        "sortedWordsByLength = allWordsNoArticles.takeOrdered(20, key=lambda x: -len(x))\n",
        "numLines, numChars, sortedWordsByLength"
      ]
    },
    {
      "cell_type": "markdown",
      "metadata": {
        "id": "hIpuogySgB4N"
      },
      "source": [
        "## Pregunta TS2.2 Explica el funcionamiento de cada acción anterior \n",
        "\n",
        "\n",
        "\n"
      ]
    },
    {
      "cell_type": "markdown",
      "metadata": {
        "id": "HFT6wKfQH6C7"
      },
      "source": [
        "- Tengamos presente que `quijote` es un RDD donde cada elemento es una línea del quijote. \n",
        "Por lo que  `quijote.count()` dirá el número de líneas del quijote. \n",
        "\n",
        "- La variable `charsPerLine` contiene el número de caracteres que hay en cada línea, luego\n",
        "`numChars = charsPerLine.reduce(lambda a,b: a+b) # also charsPerLine.sum(` devuelve el número de caracteres total. \n",
        "\n",
        "- La variable `allWordsNoArticles` continee las palabras minimizadas con un único representante. \n",
        "por lo que \n",
        "```python\n",
        "sortedWordsByLength = allWordsNoArticles.takeOrdered(20, key=lambda x: -len(x))\n",
        "```\n",
        "Toma las 20 primeras ordenadas de mayor tamaño a menor. \n",
        "\n"
      ]
    },
    {
      "cell_type": "markdown",
      "metadata": {
        "id": "VO42UuFpNFii"
      },
      "source": [
        "## Pregunta: Implementa la opción count de otra manera:\n",
        "\n",
        "\n",
        "*   utilizando transformaciones map y reduce\n",
        "*   utilizando solo reduce en caso de que sea posible.\n",
        "\n",
        "### Respuesta \n",
        "\n",
        "#### Utilizando transformaciones map y reduce\n",
        "\n",
        "Cada línea se mapeará por un 1 y con reduce se sumarán. "
      ]
    },
    {
      "cell_type": "code",
      "execution_count": 119,
      "metadata": {
        "colab": {
          "base_uri": "https://localhost:8080/"
        },
        "id": "IWe7u-hSNdpb",
        "outputId": "21854d0c-8c41-441f-eee9-d3869152a7e7"
      },
      "outputs": [
        {
          "name": "stdout",
          "output_type": "stream",
          "text": [
            "5534\n"
          ]
        }
      ],
      "source": [
        "lineas = quijote.map(lambda linea : 1)\n",
        "suma_lineas = lineas.reduce(lambda x,y: x+y)\n",
        "print(suma_lineas)"
      ]
    },
    {
      "cell_type": "markdown",
      "metadata": {
        "id": "53QQs3voOHiY"
      },
      "source": [
        "### Utilizando solo reduce \n",
        "\n",
        "La idea clave está en la función del reduce, que debe de ser capaz de tener como entrada cadenas de caracteres y números. \n",
        "\n",
        "Si se encuentra con una cadena de caracter es porque se trata de una línea que debe de ser contada, por tanto la cambia a 1 y la suma. \n",
        "\n",
        "Si se encuentra un número es de la cuenta anteriores y por tanto lo suma tal cual. "
      ]
    },
    {
      "cell_type": "code",
      "execution_count": 120,
      "metadata": {
        "colab": {
          "base_uri": "https://localhost:8080/"
        },
        "id": "Hoajf78LOVMN",
        "outputId": "1a08cdbd-6b33-4c0e-8dfb-6de7c04cca88"
      },
      "outputs": [
        {
          "name": "stdout",
          "output_type": "stream",
          "text": [
            "5534\n"
          ]
        }
      ],
      "source": [
        "def reduce_suma_lineas(x,y):\n",
        "  if type(x) == str:\n",
        "    x = 1\n",
        "  if type(y) == str:\n",
        "    y = 1\n",
        "  return x+y\n",
        "\n",
        "suma_lineas = quijote.reduce(reduce_suma_lineas)\n",
        "print(suma_lineas)"
      ]
    },
    {
      "cell_type": "markdown",
      "metadata": {
        "id": "PkXwuhGuhrQD"
      },
      "source": [
        "# Operaciones K-V (Clave Valor)"
      ]
    },
    {
      "cell_type": "code",
      "execution_count": 81,
      "metadata": {
        "id": "5JAWu58dhpWk"
      },
      "outputs": [],
      "source": [
        "import requests\n",
        "import re\n",
        "allWords = allWords.flatMap(lambda w: re.sub(\"\"\";|:|\\.|,|-|–|\"|'|\\s\"\"\",\" \", w.lower()).split(\" \")).filter(lambda a: len(a)>0)\n",
        "allWords2 = sc.parallelize(requests.get(\"https://gist.githubusercontent.com/jsdario/9d871ed773c81bf217f57d1db2d2503f/raw/585de69b0631c805dabc6280506717943b82ba4a/el_quijote_ii.txt\").iter_lines())\n",
        "allWords2 = allWords2.flatMap(lambda w: re.sub(\"\"\";|:|\\.|,|-|–|\"|'|\\s\"\"\",\" \", w.decode(\"utf8\").lower()).split(\" \")).filter(lambda a: len(a)>0)"
      ]
    },
    {
      "cell_type": "code",
      "execution_count": 82,
      "metadata": {
        "colab": {
          "base_uri": "https://localhost:8080/"
        },
        "id": "NCsub2OPjCyD",
        "outputId": "efe9ad87-04b1-4b10-cad8-5b2676bcc7f9"
      },
      "outputs": [
        {
          "data": {
            "text/plain": [
              "['el',\n",
              " 'ingenioso',\n",
              " 'hidalgo',\n",
              " 'don',\n",
              " 'quijote',\n",
              " 'de',\n",
              " 'la',\n",
              " 'mancha',\n",
              " 'miguel',\n",
              " 'de']"
            ]
          },
          "execution_count": 82,
          "metadata": {},
          "output_type": "execute_result"
        }
      ],
      "source": [
        "allWords.take(10)"
      ]
    },
    {
      "cell_type": "code",
      "execution_count": 83,
      "metadata": {
        "colab": {
          "base_uri": "https://localhost:8080/"
        },
        "id": "1W2pNxR1jKib",
        "outputId": "0f2d025a-c290-4ee7-fbd4-d41b195698aa"
      },
      "outputs": [
        {
          "data": {
            "text/plain": [
              "['don',\n",
              " 'quijote',\n",
              " 'de',\n",
              " 'la',\n",
              " 'mancha',\n",
              " 'miguel',\n",
              " 'de',\n",
              " 'cervantes',\n",
              " 'saavedra',\n",
              " 'segunda']"
            ]
          },
          "execution_count": 83,
          "metadata": {},
          "output_type": "execute_result"
        }
      ],
      "source": [
        "allWords2.take(10)"
      ]
    },
    {
      "cell_type": "code",
      "execution_count": 84,
      "metadata": {
        "colab": {
          "base_uri": "https://localhost:8080/"
        },
        "id": "L61OV1NHkBLZ",
        "outputId": "4d6bea7a-efdd-48b7-e2ba-ec5ee7382b64"
      },
      "outputs": [
        {
          "data": {
            "text/plain": [
              "[('el', 1),\n",
              " ('ingenioso', 1),\n",
              " ('hidalgo', 1),\n",
              " ('don', 1),\n",
              " ('quijote', 1),\n",
              " ('de', 1),\n",
              " ('la', 1),\n",
              " ('mancha', 1),\n",
              " ('miguel', 1),\n",
              " ('de', 1)]"
            ]
          },
          "execution_count": 84,
          "metadata": {},
          "output_type": "execute_result"
        }
      ],
      "source": [
        "words = allWords.map(lambda e: (e,1))\n",
        "words2 = allWords2.map(lambda e: (e,1))\n",
        "\n",
        "words.take(10)"
      ]
    },
    {
      "cell_type": "code",
      "execution_count": 85,
      "metadata": {
        "colab": {
          "base_uri": "https://localhost:8080/"
        },
        "id": "wqtEo2j9kPuk",
        "outputId": "348a9ceb-5816-47e2-fd58-a7a5fc2cf8e6"
      },
      "outputs": [
        {
          "data": {
            "text/plain": [
              "[('que', 3032),\n",
              " ('de', 2809),\n",
              " ('y', 2573),\n",
              " ('a', 1426),\n",
              " ('la', 1423),\n",
              " ('el', 1232),\n",
              " ('en', 1155),\n",
              " ('no', 903),\n",
              " ('se', 753),\n",
              " ('los', 696)]"
            ]
          },
          "execution_count": 85,
          "metadata": {},
          "output_type": "execute_result"
        }
      ],
      "source": [
        "frequencies = words.reduceByKey(lambda a,b: a+b)\n",
        "frequencies2 = words2.reduceByKey(lambda a,b: a+b)\n",
        "frequencies.takeOrdered(10, key=lambda a: -a[1])"
      ]
    },
    {
      "cell_type": "code",
      "execution_count": 86,
      "metadata": {
        "colab": {
          "base_uri": "https://localhost:8080/"
        },
        "id": "CtlQosYPk3M7",
        "outputId": "07eb87bb-546f-4a8c-ed12-9199270dc8b1"
      },
      "outputs": [
        {
          "data": {
            "text/plain": [
              "[('el', <pyspark.resultiterable.ResultIterable at 0x7f2344cbbbd0>),\n",
              " ('hidalgo', <pyspark.resultiterable.ResultIterable at 0x7f2345b23d10>),\n",
              " ('don', <pyspark.resultiterable.ResultIterable at 0x7f23452ccbd0>),\n",
              " ('mancha', <pyspark.resultiterable.ResultIterable at 0x7f23452ddb10>),\n",
              " ('saavedra', <pyspark.resultiterable.ResultIterable at 0x7f23452dd850>),\n",
              " ('que', <pyspark.resultiterable.ResultIterable at 0x7f2345125690>),\n",
              " ('condición', <pyspark.resultiterable.ResultIterable at 0x7f2345125d10>),\n",
              " ('y', <pyspark.resultiterable.ResultIterable at 0x7f2345125a10>),\n",
              " ('del', <pyspark.resultiterable.ResultIterable at 0x7f2345125c50>),\n",
              " ('d', <pyspark.resultiterable.ResultIterable at 0x7f2345125c90>)]"
            ]
          },
          "execution_count": 86,
          "metadata": {},
          "output_type": "execute_result"
        }
      ],
      "source": [
        "res = words.groupByKey().takeOrdered(10, key=lambda a: -len(a))\n",
        "res # To see the content, res[i][1].data"
      ]
    },
    {
      "cell_type": "code",
      "execution_count": 87,
      "metadata": {
        "colab": {
          "base_uri": "https://localhost:8080/"
        },
        "id": "7nmgk3ZmlFlW",
        "outputId": "6f0caa0d-f8ca-4e1e-89fb-99b07b3e91e4"
      },
      "outputs": [
        {
          "data": {
            "text/plain": [
              "[('el', (1232, 4394)),\n",
              " ('hidalgo', (14, 42)),\n",
              " ('don', (370, 1606)),\n",
              " ('mancha', (26, 101)),\n",
              " ('saavedra', (1, 1)),\n",
              " ('que', (3032, 10040)),\n",
              " ('y', (2573, 9650)),\n",
              " ('del', (415, 1344)),\n",
              " ('en', (1155, 4223)),\n",
              " ('cuyo', (11, 35))]"
            ]
          },
          "execution_count": 87,
          "metadata": {},
          "output_type": "execute_result"
        }
      ],
      "source": [
        "joinFreq = frequencies.join(frequencies2)\n",
        "joinFreq.take(10)"
      ]
    },
    {
      "cell_type": "code",
      "execution_count": 88,
      "metadata": {
        "colab": {
          "base_uri": "https://localhost:8080/"
        },
        "id": "UOY-R88Fl1vq",
        "outputId": "a84a9342-c2a8-47a2-afd0-84a63d15d848"
      },
      "outputs": [
        {
          "data": {
            "text/plain": [
              "([('pieza', 0.8),\n",
              "  ('corral', 0.8),\n",
              "  ('rodela', 0.7777777777777778),\n",
              "  ('curar', 0.75),\n",
              "  ('valle', 0.75),\n",
              "  ('entierro', 0.75),\n",
              "  ('oh', 0.7142857142857143),\n",
              "  ('licor', 0.7142857142857143),\n",
              "  ('difunto', 0.7142857142857143),\n",
              "  ('pago', 0.6666666666666666)],\n",
              " [('teresa', -0.9767441860465116),\n",
              "  ('roque', -0.96),\n",
              "  ('paje', -0.9565217391304348),\n",
              "  ('duque', -0.9565217391304348),\n",
              "  ('blanca', -0.9565217391304348),\n",
              "  ('gobernador', -0.9503105590062112),\n",
              "  ('diego', -0.9459459459459459),\n",
              "  ('tarde', -0.9428571428571428),\n",
              "  ('mesmo', -0.9381443298969072),\n",
              "  ('letras', -0.9354838709677419)])"
            ]
          },
          "execution_count": 88,
          "metadata": {},
          "output_type": "execute_result"
        }
      ],
      "source": [
        "joinFreq.map(lambda e: (e[0], (e[1][0] - e[1][1])/(e[1][0] + e[1][1]))).takeOrdered(10, lambda v: -v[1]), joinFreq.map(lambda e: (e[0], (e[1][0] - e[1][1])/(e[1][0] + e[1][1]))).takeOrdered(10, lambda v: +v[1])"
      ]
    },
    {
      "cell_type": "markdown",
      "metadata": {
        "id": "Xzt9cj-RmLta"
      },
      "source": [
        "## Pregunta TS2.3 Explica el proposito de cada una de las operaciones anteriores"
      ]
    },
    {
      "cell_type": "code",
      "execution_count": 88,
      "metadata": {
        "id": "JQ5dI3Yz2rec"
      },
      "outputs": [],
      "source": []
    },
    {
      "cell_type": "markdown",
      "metadata": {
        "id": "I9Hx1bZ2mc-V"
      },
      "source": [
        "## Pregunta TS2.4 ¿Cómo puede implementarse la frecuencia con groupByKey y transformaciones?"
      ]
    },
    {
      "cell_type": "code",
      "execution_count": 88,
      "metadata": {
        "id": "HiuL6clvl-JS"
      },
      "outputs": [],
      "source": []
    },
    {
      "cell_type": "markdown",
      "metadata": {
        "id": "BiZwz7sOnBvF"
      },
      "source": [
        "# Optimizaciones\n"
      ]
    },
    {
      "cell_type": "markdown",
      "metadata": {
        "id": "avupEVWQnIL5"
      },
      "source": [
        "## Pregunta TS2.5 ¿Cuál de las dos siguientes celdas es más eficiente? Justifique la respuesta."
      ]
    },
    {
      "cell_type": "code",
      "execution_count": 89,
      "metadata": {
        "colab": {
          "base_uri": "https://localhost:8080/"
        },
        "id": "I0_XRWcOndr6",
        "outputId": "0d8796d6-e429-498d-b208-5605c56f4e03"
      },
      "outputs": [
        {
          "data": {
            "text/plain": [
              "([('pieza', 0.8),\n",
              "  ('corral', 0.8),\n",
              "  ('rodela', 0.7777777777777778),\n",
              "  ('curar', 0.75),\n",
              "  ('valle', 0.75),\n",
              "  ('entierro', 0.75),\n",
              "  ('oh', 0.7142857142857143),\n",
              "  ('licor', 0.7142857142857143),\n",
              "  ('difunto', 0.7142857142857143),\n",
              "  ('pago', 0.6666666666666666)],\n",
              " [('teresa', -0.9767441860465116),\n",
              "  ('roque', -0.96),\n",
              "  ('paje', -0.9565217391304348),\n",
              "  ('duque', -0.9565217391304348),\n",
              "  ('blanca', -0.9565217391304348),\n",
              "  ('gobernador', -0.9503105590062112),\n",
              "  ('diego', -0.9459459459459459),\n",
              "  ('tarde', -0.9428571428571428),\n",
              "  ('mesmo', -0.9381443298969072),\n",
              "  ('letras', -0.9354838709677419)])"
            ]
          },
          "execution_count": 89,
          "metadata": {},
          "output_type": "execute_result"
        }
      ],
      "source": [
        "joinFreq.map(lambda e: (e[0], (e[1][0] - e[1][1])/(e[1][0] + e[1][1]))).takeOrdered(10, lambda v: -v[1]), joinFreq.map(lambda e: (e[0], (e[1][0] - e[1][1])/(e[1][0] + e[1][1]))).takeOrdered(10, lambda v: +v[1])"
      ]
    },
    {
      "cell_type": "code",
      "execution_count": 90,
      "metadata": {
        "colab": {
          "base_uri": "https://localhost:8080/"
        },
        "id": "XKw7IizNnaKA",
        "outputId": "3d21c9e4-97cb-4929-888e-56ee6b682d28"
      },
      "outputs": [
        {
          "data": {
            "text/plain": [
              "([('pieza', 0.8),\n",
              "  ('corral', 0.8),\n",
              "  ('rodela', 0.7777777777777778),\n",
              "  ('curar', 0.75),\n",
              "  ('valle', 0.75),\n",
              "  ('entierro', 0.75),\n",
              "  ('oh', 0.7142857142857143),\n",
              "  ('licor', 0.7142857142857143),\n",
              "  ('difunto', 0.7142857142857143),\n",
              "  ('pago', 0.6666666666666666)],\n",
              " [('teresa', -0.9767441860465116),\n",
              "  ('roque', -0.96),\n",
              "  ('paje', -0.9565217391304348),\n",
              "  ('duque', -0.9565217391304348),\n",
              "  ('blanca', -0.9565217391304348),\n",
              "  ('gobernador', -0.9503105590062112),\n",
              "  ('diego', -0.9459459459459459),\n",
              "  ('tarde', -0.9428571428571428),\n",
              "  ('mesmo', -0.9381443298969072),\n",
              "  ('letras', -0.9354838709677419)])"
            ]
          },
          "execution_count": 90,
          "metadata": {},
          "output_type": "execute_result"
        }
      ],
      "source": [
        "result = joinFreq.map(lambda e: (e[0], (e[1][0] - e[1][1])/(e[1][0] + e[1][1])))\n",
        "result.cache()\n",
        "result.takeOrdered(10, lambda v: -v[1]), result.takeOrdered(10, lambda v: +v[1])"
      ]
    },
    {
      "cell_type": "code",
      "execution_count": 91,
      "metadata": {
        "colab": {
          "base_uri": "https://localhost:8080/"
        },
        "id": "Nq0ME9-NqJ2w",
        "outputId": "d5e64bc6-9dc3-484a-bcf6-9e7210a335e2"
      },
      "outputs": [
        {
          "data": {
            "text/plain": [
              "MapPartitionsRDD[238] at coalesce at NativeMethodAccessorImpl.java:0"
            ]
          },
          "execution_count": 91,
          "metadata": {},
          "output_type": "execute_result"
        }
      ],
      "source": [
        "result.coalesce(numPartitions=2) # Avoids the data movement, so it tries to balance inside each machine\n",
        "result.repartition(numPartitions=2) # We don't care about data movement, this balance the whole thing to ensure all machines are used"
      ]
    },
    {
      "cell_type": "code",
      "execution_count": 92,
      "metadata": {
        "colab": {
          "base_uri": "https://localhost:8080/"
        },
        "id": "79DLzM3WqaEF",
        "outputId": "df36b916-79e9-4646-d7da-9123fe6264b3"
      },
      "outputs": [
        {
          "data": {
            "text/plain": [
              "[('el', -0.5620334162815499),\n",
              " ('hidalgo', -0.5),\n",
              " ('don', -0.6255060728744939),\n",
              " ('mancha', -0.5905511811023622),\n",
              " ('saavedra', 0.0),\n",
              " ('que', -0.5361077111383109),\n",
              " ('y', -0.5789904278818621),\n",
              " ('del', -0.5281409891984082),\n",
              " ('en', -0.5704722945332837),\n",
              " ('cuyo', -0.5217391304347826)]"
            ]
          },
          "execution_count": 92,
          "metadata": {},
          "output_type": "execute_result"
        }
      ],
      "source": [
        "result.take(10)\n",
        "allWords.cache() # allWords RDD must  stay in memory after computation, we made a checkpoint (well, it's a best effort, so must might be too strong)\n",
        "result.take(10)"
      ]
    },
    {
      "cell_type": "code",
      "execution_count": 93,
      "metadata": {
        "colab": {
          "base_uri": "https://localhost:8080/"
        },
        "id": "NmdxjbAAqjIC",
        "outputId": "32917fae-6e5d-4e9b-a253-58b90e6039b2"
      },
      "outputs": [
        {
          "data": {
            "text/plain": [
              "PythonRDD[242] at RDD at PythonRDD.scala:53"
            ]
          },
          "execution_count": 93,
          "metadata": {},
          "output_type": "execute_result"
        }
      ],
      "source": [
        "from pyspark import StorageLevel\n",
        "# https://spark.apache.org/docs/2.2.0/rdd-programming-guide.html#rdd-persistence\n",
        "allWords2.persist(StorageLevel.MEMORY_AND_DISK) # Now it will be preserved on disk also"
      ]
    },
    {
      "cell_type": "code",
      "execution_count": 94,
      "metadata": {
        "id": "lPbqq1tYqo5H"
      },
      "outputs": [],
      "source": [
        "!rm -rf palabras_parte2\n",
        "allWords2.saveAsTextFile(\"palabras_parte2\")"
      ]
    },
    {
      "cell_type": "markdown",
      "metadata": {
        "id": "nW3ELXvSqtdn"
      },
      "source": [
        "## Pregunta TS2.6 Antes de guardar el fichero, utilice coalesce con diferente valores ¿Cuál es la diferencia?"
      ]
    },
    {
      "cell_type": "code",
      "execution_count": 94,
      "metadata": {
        "id": "wjBusUNgrMdB"
      },
      "outputs": [],
      "source": []
    }
  ],
  "metadata": {
    "colab": {
      "collapsed_sections": [],
      "include_colab_link": true,
      "provenance": []
    },
    "kernelspec": {
      "display_name": "Python 3.10.7 64-bit",
      "language": "python",
      "name": "python3"
    },
    "language_info": {
      "name": "python",
      "version": "3.10.7"
    },
    "vscode": {
      "interpreter": {
        "hash": "8c3d4d9970fc5c09c50d9318a9c7fbf4d0159e4b28833276f5678ee22bded273"
      }
    }
  },
  "nbformat": 4,
  "nbformat_minor": 0
}
